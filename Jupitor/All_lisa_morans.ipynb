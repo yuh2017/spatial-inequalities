{
 "cells": [
  {
   "cell_type": "code",
   "execution_count": 1,
   "metadata": {},
   "outputs": [
    {
     "name": "stderr",
     "output_type": "stream",
     "text": [
      "/Users/yuhan/opt/anaconda3/envs/hazard_env/lib/python3.11/site-packages/libpysal/cg/alpha_shapes.py:38: NumbaDeprecationWarning: \u001b[1mThe 'nopython' keyword argument was not supplied to the 'numba.jit' decorator. The implicit default value for this argument is currently False, but it will be changed to True in Numba 0.59.0. See https://numba.readthedocs.io/en/stable/reference/deprecation.html#deprecation-of-object-mode-fall-back-behaviour-when-using-jit for details.\u001b[0m\n",
      "  @jit\n",
      "/Users/yuhan/opt/anaconda3/envs/hazard_env/lib/python3.11/site-packages/libpysal/cg/alpha_shapes.py:164: NumbaDeprecationWarning: \u001b[1mThe 'nopython' keyword argument was not supplied to the 'numba.jit' decorator. The implicit default value for this argument is currently False, but it will be changed to True in Numba 0.59.0. See https://numba.readthedocs.io/en/stable/reference/deprecation.html#deprecation-of-object-mode-fall-back-behaviour-when-using-jit for details.\u001b[0m\n",
      "  @jit\n",
      "/Users/yuhan/opt/anaconda3/envs/hazard_env/lib/python3.11/site-packages/libpysal/cg/alpha_shapes.py:198: NumbaDeprecationWarning: \u001b[1mThe 'nopython' keyword argument was not supplied to the 'numba.jit' decorator. The implicit default value for this argument is currently False, but it will be changed to True in Numba 0.59.0. See https://numba.readthedocs.io/en/stable/reference/deprecation.html#deprecation-of-object-mode-fall-back-behaviour-when-using-jit for details.\u001b[0m\n",
      "  @jit\n",
      "/Users/yuhan/opt/anaconda3/envs/hazard_env/lib/python3.11/site-packages/libpysal/cg/alpha_shapes.py:260: NumbaDeprecationWarning: \u001b[1mThe 'nopython' keyword argument was not supplied to the 'numba.jit' decorator. The implicit default value for this argument is currently False, but it will be changed to True in Numba 0.59.0. See https://numba.readthedocs.io/en/stable/reference/deprecation.html#deprecation-of-object-mode-fall-back-behaviour-when-using-jit for details.\u001b[0m\n",
      "  @jit\n"
     ]
    }
   ],
   "source": [
    "import numpy as np\n",
    "import pandas as pd\n",
    "import geopandas as gpd\n",
    "import plotly.express as px\n",
    "import mapclassify\n",
    "import matplotlib.pyplot as plt\n",
    "from matplotlib_scalebar.scalebar import ScaleBar\n",
    "import time\n",
    "import random\n",
    "import matplotlib.pyplot as plt\n",
    "from shapely import wkt\n",
    "import scipy \n",
    "from scipy import stats \n",
    "from libpysal.weights import Queen, KNN\n",
    "from mpl_toolkits.axes_grid1 import make_axes_locatable\n",
    "from mpl_toolkits.axes_grid1.inset_locator import inset_axes\n",
    "import pygeoda\n",
    "from esda.moran import Moran_BV\n",
    "from tabulate import tabulate"
   ]
  },
  {
   "cell_type": "code",
   "execution_count": 2,
   "metadata": {},
   "outputs": [],
   "source": [
    "gdfjoined1 = gpd.read_file(r\"/Users/yuhan/Desktop/paper——revision/export_results/df_localMoran_all2.shp\")\n",
    "gdfjoined2 = gpd.read_file(r\"/Users/yuhan/Desktop/paper——revision/export_results/df_localMoran_declared2.shp\")\n",
    "\n",
    "usregions = gpd.read_file(r\"/Users/yuhan/Downloads/cb_2018_us_region_500k/cb_2018_us_region_500k.shp\")\n",
    "\n",
    "gdfjoined3 = gpd.read_file(r\"/Users/yuhan/Desktop/paper——revision/export_results/fema_projects_localMorans_all.shp\")\n",
    "gdfjoined4 = gpd.read_file(r\"/Users/yuhan/Desktop/paper——revision/export_results/fema_projects_localMorans_declared.shp\")\n"
   ]
  },
  {
   "cell_type": "code",
   "execution_count": 3,
   "metadata": {},
   "outputs": [
    {
     "name": "stdout",
     "output_type": "stream",
     "text": [
      "Index(['STATE', 'STATEABBRV', 'COUNTY', 'COUNTYFIPS', 'STCOFIPS', 'POPULATION',\n",
      "       'BUILDVALUE', 'AGRIVALUE', 'SOVI_SCORE', 'RESL_VALUE', 'NAME', 'fips',\n",
      "       'index', 'HMAprojAmo', 'AdminCostA', 'NumfinalPr', 'CropDmg',\n",
      "       'CropDmg(AD', 'CropDmgPer', 'PropertyDm', 'Property_1', 'Property_2',\n",
      "       'Injuries', 'InjuriesPe', 'Fatalities', 'Fataliti_1', 'Duration_D',\n",
      "       'PAprojectA', 'PDMprojAmo', 'PDMcount', 'PDMNumfina', 'HMAcount',\n",
      "       'HAtotal', 'HAcount', 'PAcount', 'SBAcount', 'SBAProjcou', 'SBAapprove',\n",
      "       'HazardCoun', 'x', 'y', 'cbsa', 'totalAssis', 'totalAss_1',\n",
      "       'totalDamag', 'DamageSOVI', 'totalDam_1', 'totalAss_2', 'DamageSO_1',\n",
      "       'label1', 'x1', 'p_sim1', 'MoranI1', 'color1', 'label2', 'x2', 'p_sim2',\n",
      "       'MoranI2', 'color2', 'REGIONCE', 'NAME_2', 'AWATER', 'geometry'],\n",
      "      dtype='object')\n",
      "us region crs EPSG:4269\n",
      "changed us region crs +init=epsg:2163 +type=crs\n",
      "None\n"
     ]
    },
    {
     "name": "stderr",
     "output_type": "stream",
     "text": [
      "/Users/yuhan/opt/anaconda3/envs/hazard_env/lib/python3.11/site-packages/pyproj/crs/crs.py:141: FutureWarning: '+init=<authority>:<code>' syntax is deprecated. '<authority>:<code>' is the preferred initialization method. When making the change, be mindful of axis order changes: https://pyproj4.github.io/pyproj/stable/gotchas.html#axis-order-changes-in-proj-6\n",
      "  in_crs_string = _prepare_from_proj_string(in_crs_string)\n"
     ]
    }
   ],
   "source": [
    "print( gdfjoined1.columns)\n",
    "print( \"us region crs\", usregions.crs )\n",
    "usregions = usregions.to_crs({'init':'epsg:2163'})\n",
    "print( \"changed us region crs\", usregions.crs )\n",
    "print( gdfjoined1.crs )\n",
    "usregions = usregions[ [\"REGIONCE\", \"NAME\", \"AWATER\", \"geometry\"] ]\n"
   ]
  },
  {
   "cell_type": "code",
   "execution_count": 173,
   "metadata": {},
   "outputs": [],
   "source": [
    "\n",
    "usregions.to_file(r\"/Users/yuhan/Desktop/paper——revision/export_results/usregions.shp\")"
   ]
  },
  {
   "cell_type": "code",
   "execution_count": 136,
   "metadata": {},
   "outputs": [
    {
     "data": {
      "text/html": [
       "<div>\n",
       "<style scoped>\n",
       "    .dataframe tbody tr th:only-of-type {\n",
       "        vertical-align: middle;\n",
       "    }\n",
       "\n",
       "    .dataframe tbody tr th {\n",
       "        vertical-align: top;\n",
       "    }\n",
       "\n",
       "    .dataframe thead th {\n",
       "        text-align: right;\n",
       "    }\n",
       "</style>\n",
       "<table border=\"1\" class=\"dataframe\">\n",
       "  <thead>\n",
       "    <tr style=\"text-align: right;\">\n",
       "      <th></th>\n",
       "      <th>STATE</th>\n",
       "      <th>STATEABBRV</th>\n",
       "      <th>COUNTY</th>\n",
       "      <th>COUNTYFIPS</th>\n",
       "      <th>STCOFIPS</th>\n",
       "      <th>POPULATION</th>\n",
       "      <th>SOVI_SCORE</th>\n",
       "      <th>cbsa</th>\n",
       "      <th>atotalAssis</th>\n",
       "      <th>atotalDamag</th>\n",
       "      <th>...</th>\n",
       "      <th>alabel2</th>\n",
       "      <th>ap_sim2</th>\n",
       "      <th>aMoranI2</th>\n",
       "      <th>dtotalDamag</th>\n",
       "      <th>dlabel1</th>\n",
       "      <th>dp_sim1</th>\n",
       "      <th>dMoranI1</th>\n",
       "      <th>dlabel2</th>\n",
       "      <th>dp_sim2</th>\n",
       "      <th>dMoranI2</th>\n",
       "    </tr>\n",
       "  </thead>\n",
       "  <tbody>\n",
       "    <tr>\n",
       "      <th>0</th>\n",
       "      <td>Alabama</td>\n",
       "      <td>AL</td>\n",
       "      <td>Autauga</td>\n",
       "      <td>001</td>\n",
       "      <td>01001</td>\n",
       "      <td>58764</td>\n",
       "      <td>51.299999</td>\n",
       "      <td>Montgomery</td>\n",
       "      <td>1.005660e+07</td>\n",
       "      <td>3.366930e+07</td>\n",
       "      <td>...</td>\n",
       "      <td>0</td>\n",
       "      <td>0.172</td>\n",
       "      <td>0.021272</td>\n",
       "      <td>1.652280e+07</td>\n",
       "      <td>0</td>\n",
       "      <td>0.093</td>\n",
       "      <td>0.398505</td>\n",
       "      <td>0</td>\n",
       "      <td>0.093</td>\n",
       "      <td>0.028855</td>\n",
       "    </tr>\n",
       "    <tr>\n",
       "      <th>1</th>\n",
       "      <td>Alabama</td>\n",
       "      <td>AL</td>\n",
       "      <td>Baldwin</td>\n",
       "      <td>003</td>\n",
       "      <td>01003</td>\n",
       "      <td>231365</td>\n",
       "      <td>31.030001</td>\n",
       "      <td>Daphne-Fairhope-Foley</td>\n",
       "      <td>2.668501e+09</td>\n",
       "      <td>3.033512e+09</td>\n",
       "      <td>...</td>\n",
       "      <td>2</td>\n",
       "      <td>0.009</td>\n",
       "      <td>-0.531368</td>\n",
       "      <td>2.975938e+09</td>\n",
       "      <td>1</td>\n",
       "      <td>0.001</td>\n",
       "      <td>1.248618</td>\n",
       "      <td>2</td>\n",
       "      <td>0.004</td>\n",
       "      <td>-0.591564</td>\n",
       "    </tr>\n",
       "    <tr>\n",
       "      <th>2</th>\n",
       "      <td>Alabama</td>\n",
       "      <td>AL</td>\n",
       "      <td>Barbour</td>\n",
       "      <td>005</td>\n",
       "      <td>01005</td>\n",
       "      <td>25160</td>\n",
       "      <td>99.269997</td>\n",
       "      <td>Eufaula</td>\n",
       "      <td>3.436997e+05</td>\n",
       "      <td>1.764000e+06</td>\n",
       "      <td>...</td>\n",
       "      <td>0</td>\n",
       "      <td>0.310</td>\n",
       "      <td>0.328383</td>\n",
       "      <td>5.875000e+05</td>\n",
       "      <td>0</td>\n",
       "      <td>0.162</td>\n",
       "      <td>0.071650</td>\n",
       "      <td>0</td>\n",
       "      <td>0.162</td>\n",
       "      <td>0.591328</td>\n",
       "    </tr>\n",
       "    <tr>\n",
       "      <th>3</th>\n",
       "      <td>Alabama</td>\n",
       "      <td>AL</td>\n",
       "      <td>Bibb</td>\n",
       "      <td>007</td>\n",
       "      <td>01007</td>\n",
       "      <td>22239</td>\n",
       "      <td>80.779999</td>\n",
       "      <td>Birmingham-Hoover</td>\n",
       "      <td>3.176140e+07</td>\n",
       "      <td>8.862450e+07</td>\n",
       "      <td>...</td>\n",
       "      <td>1</td>\n",
       "      <td>0.024</td>\n",
       "      <td>0.755644</td>\n",
       "      <td>8.773650e+07</td>\n",
       "      <td>1</td>\n",
       "      <td>0.009</td>\n",
       "      <td>0.708979</td>\n",
       "      <td>1</td>\n",
       "      <td>0.013</td>\n",
       "      <td>0.846542</td>\n",
       "    </tr>\n",
       "    <tr>\n",
       "      <th>4</th>\n",
       "      <td>Alabama</td>\n",
       "      <td>AL</td>\n",
       "      <td>Blount</td>\n",
       "      <td>009</td>\n",
       "      <td>01009</td>\n",
       "      <td>58992</td>\n",
       "      <td>51.369999</td>\n",
       "      <td>Birmingham-Hoover</td>\n",
       "      <td>6.849714e+07</td>\n",
       "      <td>2.016785e+08</td>\n",
       "      <td>...</td>\n",
       "      <td>1</td>\n",
       "      <td>0.022</td>\n",
       "      <td>0.036947</td>\n",
       "      <td>1.972540e+08</td>\n",
       "      <td>1</td>\n",
       "      <td>0.007</td>\n",
       "      <td>0.824279</td>\n",
       "      <td>1</td>\n",
       "      <td>0.009</td>\n",
       "      <td>0.041459</td>\n",
       "    </tr>\n",
       "  </tbody>\n",
       "</table>\n",
       "<p>5 rows × 23 columns</p>\n",
       "</div>"
      ],
      "text/plain": [
       "     STATE STATEABBRV   COUNTY COUNTYFIPS STCOFIPS  POPULATION  SOVI_SCORE  \\\n",
       "0  Alabama         AL  Autauga        001    01001       58764   51.299999   \n",
       "1  Alabama         AL  Baldwin        003    01003      231365   31.030001   \n",
       "2  Alabama         AL  Barbour        005    01005       25160   99.269997   \n",
       "3  Alabama         AL     Bibb        007    01007       22239   80.779999   \n",
       "4  Alabama         AL   Blount        009    01009       58992   51.369999   \n",
       "\n",
       "                    cbsa   atotalAssis   atotalDamag  ...  alabel2  ap_sim2  \\\n",
       "0             Montgomery  1.005660e+07  3.366930e+07  ...        0    0.172   \n",
       "1  Daphne-Fairhope-Foley  2.668501e+09  3.033512e+09  ...        2    0.009   \n",
       "2                Eufaula  3.436997e+05  1.764000e+06  ...        0    0.310   \n",
       "3      Birmingham-Hoover  3.176140e+07  8.862450e+07  ...        1    0.024   \n",
       "4      Birmingham-Hoover  6.849714e+07  2.016785e+08  ...        1    0.022   \n",
       "\n",
       "   aMoranI2   dtotalDamag  dlabel1  dp_sim1  dMoranI1  dlabel2  dp_sim2  \\\n",
       "0  0.021272  1.652280e+07        0    0.093  0.398505        0    0.093   \n",
       "1 -0.531368  2.975938e+09        1    0.001  1.248618        2    0.004   \n",
       "2  0.328383  5.875000e+05        0    0.162  0.071650        0    0.162   \n",
       "3  0.755644  8.773650e+07        1    0.009  0.708979        1    0.013   \n",
       "4  0.036947  1.972540e+08        1    0.007  0.824279        1    0.009   \n",
       "\n",
       "   dMoranI2  \n",
       "0  0.028855  \n",
       "1 -0.591564  \n",
       "2  0.591328  \n",
       "3  0.846542  \n",
       "4  0.041459  \n",
       "\n",
       "[5 rows x 23 columns]"
      ]
     },
     "execution_count": 136,
     "metadata": {},
     "output_type": "execute_result"
    }
   ],
   "source": [
    "from functools import reduce\n",
    "df_total_lisa = pd.merge(gdfjoined1[ ['STATE', 'STATEABBRV', 'COUNTY', 'COUNTYFIPS', 'STCOFIPS', \n",
    "                                      'POPULATION', 'SOVI_SCORE', 'cbsa', 'totalAssis', 'totalDamag', \n",
    "                                      'label1', 'p_sim1', 'MoranI1',  \n",
    "                                      'label2', 'p_sim2', 'MoranI2' ] ], \n",
    "        gdfjoined2[ ['STCOFIPS', 'totalDamag', \n",
    "                     'label1', 'p_sim1', 'MoranI1', \n",
    "                     'label2', 'p_sim2', 'MoranI2'] ],on= ['STCOFIPS'])\n",
    "\n",
    "df_total_lisa.columns = ['STATE', 'STATEABBRV', 'COUNTY', 'COUNTYFIPS', 'STCOFIPS', \n",
    "                         'POPULATION', 'SOVI_SCORE', 'cbsa', 'atotalAssis', 'atotalDamag', \n",
    "                         'alabel1', 'ap_sim1', 'aMoranI1', 'alabel2', 'ap_sim2', 'aMoranI2',\n",
    "                         'dtotalDamag', 'dlabel1', 'dp_sim1', 'dMoranI1', 'dlabel2', 'dp_sim2', \n",
    "                         'dMoranI2' ]\n",
    "\n",
    "df_total_lisa.head()\n"
   ]
  },
  {
   "cell_type": "code",
   "execution_count": 141,
   "metadata": {},
   "outputs": [
    {
     "name": "stdout",
     "output_type": "stream",
     "text": [
      "0    Autauga,AL\n",
      "1    Baldwin,AL\n",
      "2    Barbour,AL\n",
      "3       Bibb,AL\n",
      "4     Blount,AL\n",
      "Name: county, dtype: object\n",
      "0    Montgomery,AL\n",
      "1        Daphne,AL\n",
      "2       Eufaula,AL\n",
      "3    Birmingham,AL\n",
      "4    Birmingham,AL\n",
      "Name: city, dtype: object\n"
     ]
    }
   ],
   "source": [
    "df_total_lisa[\"city\"] = df_total_lisa.cbsa.str.split(\"-\", expand=True)[0] + \",\" + df_total_lisa.STATEABBRV\n",
    "df_total_lisa[\"county\"] =  df_total_lisa[\"COUNTY\"] + \",\" + df_total_lisa.STATEABBRV\n",
    "print( df_total_lisa[\"county\"].head() )\n",
    "print( df_total_lisa[\"city\"].head() )\n"
   ]
  },
  {
   "cell_type": "code",
   "execution_count": 142,
   "metadata": {},
   "outputs": [],
   "source": [
    "df_total_lisa.to_csv(r\"/Users/yuhan/Desktop/paper——revision/export_results/df_total_lisa.csv\", index=False)\n"
   ]
  },
  {
   "cell_type": "code",
   "execution_count": 145,
   "metadata": {},
   "outputs": [
    {
     "name": "stdout",
     "output_type": "stream",
     "text": [
      "Index(['STATE', 'STATEABBRV', 'COUNTY', 'COUNTYFIPS', 'STCOFIPS', 'POPULATION',\n",
      "       'SOVI_SCORE', 'cbsa', 'atotalAssis', 'atotalDamag', 'alabel1',\n",
      "       'ap_sim1', 'aMoranI1', 'alabel2', 'ap_sim2', 'aMoranI2', 'dtotalDamag',\n",
      "       'dlabel1', 'dp_sim1', 'dMoranI1', 'dlabel2', 'dp_sim2', 'dMoranI2',\n",
      "       'city', 'county'],\n",
      "      dtype='object')\n",
      "     STATE STATEABBRV   COUNTY COUNTYFIPS STCOFIPS  POPULATION  SOVI_SCORE  \\\n",
      "0  Alabama         AL  Autauga        001    01001       58764   51.299999   \n",
      "1  Alabama         AL  Baldwin        003    01003      231365   31.030001   \n",
      "2  Alabama         AL  Barbour        005    01005       25160   99.269997   \n",
      "3  Alabama         AL     Bibb        007    01007       22239   80.779999   \n",
      "4  Alabama         AL   Blount        009    01009       58992   51.369999   \n",
      "\n",
      "                    cbsa   atotalAssis   atotalDamag  ...  aMoranI2  \\\n",
      "0             Montgomery  1.005660e+07  3.366930e+07  ...  0.021272   \n",
      "1  Daphne-Fairhope-Foley  2.668501e+09  3.033512e+09  ... -0.531368   \n",
      "2                Eufaula  3.436997e+05  1.764000e+06  ...  0.328383   \n",
      "3      Birmingham-Hoover  3.176140e+07  8.862450e+07  ...  0.755644   \n",
      "4      Birmingham-Hoover  6.849714e+07  2.016785e+08  ...  0.036947   \n",
      "\n",
      "    dtotalDamag  dlabel1  dp_sim1  dMoranI1  dlabel2  dp_sim2  dMoranI2  \\\n",
      "0  1.652280e+07        0    0.093  0.398505        0    0.093  0.028855   \n",
      "1  2.975938e+09        1    0.001  1.248618        2    0.004 -0.591564   \n",
      "2  5.875000e+05        0    0.162  0.071650        0    0.162  0.591328   \n",
      "3  8.773650e+07        1    0.009  0.708979        1    0.013  0.846542   \n",
      "4  1.972540e+08        1    0.007  0.824279        1    0.009  0.041459   \n",
      "\n",
      "            city      county  \n",
      "0  Montgomery,AL  Autauga,AL  \n",
      "1      Daphne,AL  Baldwin,AL  \n",
      "2     Eufaula,AL  Barbour,AL  \n",
      "3  Birmingham,AL     Bibb,AL  \n",
      "4  Birmingham,AL   Blount,AL  \n",
      "\n",
      "[5 rows x 25 columns]\n"
     ]
    }
   ],
   "source": [
    "df_total_lisa['city'] = df_total_lisa['city'].fillna( df_total_lisa['county']).head()\n",
    "print( df_total_lisa.columns )\n",
    "print( df_total_lisa.head() )\n"
   ]
  },
  {
   "cell_type": "code",
   "execution_count": 155,
   "metadata": {},
   "outputs": [],
   "source": [
    "df_total_lisa2 = df_total_lisa.groupby([ 'city'], as_index=False).agg({  \n",
    "    \"POPULATION\" : ['sum'], \"atotalDamag\": ['sum'],\n",
    "    \"atotalAssis\": ['sum'], \"SOVI_SCORE\" : ['mean'], \n",
    "    \"aMoranI1\": ['mean'] , \"aMoranI2\": ['mean'], \n",
    "    \"alabel1\": pd.Series.mode, \"alabel2\": pd.Series.mode   })\n",
    "df_total_lisa2.columns = df_total_lisa2.columns.droplevel(1)\n",
    "df_total_lisa2.columns = [ 'city', 'POPULATION', \"atotalDamag\" ,\n",
    "                       'atotalAssis', 'SOVI_SCORE', 'aMoranI1' , 'aMoranI2' , \"alabel1\", \"alabel2\"]\n",
    "\n",
    "df_total_lisa2.to_csv(r\"/Users/yuhan/Desktop/paper——revision/export_results/df_citymean_lisa.csv\", index=False)\n"
   ]
  },
  {
   "cell_type": "code",
   "execution_count": 160,
   "metadata": {},
   "outputs": [
    {
     "data": {
      "text/html": [
       "<div>\n",
       "<style scoped>\n",
       "    .dataframe tbody tr th:only-of-type {\n",
       "        vertical-align: middle;\n",
       "    }\n",
       "\n",
       "    .dataframe tbody tr th {\n",
       "        vertical-align: top;\n",
       "    }\n",
       "\n",
       "    .dataframe thead th {\n",
       "        text-align: right;\n",
       "    }\n",
       "</style>\n",
       "<table border=\"1\" class=\"dataframe\">\n",
       "  <thead>\n",
       "    <tr style=\"text-align: right;\">\n",
       "      <th></th>\n",
       "      <th>REGIONCE</th>\n",
       "      <th>AFFGEOID</th>\n",
       "      <th>GEOID</th>\n",
       "      <th>NAME</th>\n",
       "      <th>LSAD</th>\n",
       "      <th>ALAND</th>\n",
       "      <th>AWATER</th>\n",
       "      <th>geometry</th>\n",
       "    </tr>\n",
       "  </thead>\n",
       "  <tbody>\n",
       "    <tr>\n",
       "      <th>0</th>\n",
       "      <td>1</td>\n",
       "      <td>0200000US1</td>\n",
       "      <td>1</td>\n",
       "      <td>Northeast</td>\n",
       "      <td>68</td>\n",
       "      <td>419357835545</td>\n",
       "      <td>50259300137</td>\n",
       "      <td>MULTIPOLYGON (((2446153.061 407460.300, 244636...</td>\n",
       "    </tr>\n",
       "    <tr>\n",
       "      <th>1</th>\n",
       "      <td>2</td>\n",
       "      <td>0200000US2</td>\n",
       "      <td>2</td>\n",
       "      <td>Midwest</td>\n",
       "      <td>68</td>\n",
       "      <td>1943997274253</td>\n",
       "      <td>184273267512</td>\n",
       "      <td>MULTIPOLYGON (((1422979.278 -227154.171, 14231...</td>\n",
       "    </tr>\n",
       "    <tr>\n",
       "      <th>2</th>\n",
       "      <td>4</td>\n",
       "      <td>0200000US4</td>\n",
       "      <td>4</td>\n",
       "      <td>West</td>\n",
       "      <td>68</td>\n",
       "      <td>4536201747682</td>\n",
       "      <td>316587292459</td>\n",
       "      <td>MULTIPOLYGON (((-4288629.978 3426273.416, -428...</td>\n",
       "    </tr>\n",
       "    <tr>\n",
       "      <th>3</th>\n",
       "      <td>3</td>\n",
       "      <td>0200000US3</td>\n",
       "      <td>3</td>\n",
       "      <td>South</td>\n",
       "      <td>68</td>\n",
       "      <td>2249871668369</td>\n",
       "      <td>134084610547</td>\n",
       "      <td>MULTIPOLYGON (((2060803.219 -301773.581, 20609...</td>\n",
       "    </tr>\n",
       "  </tbody>\n",
       "</table>\n",
       "</div>"
      ],
      "text/plain": [
       "  REGIONCE    AFFGEOID GEOID       NAME LSAD          ALAND        AWATER  \\\n",
       "0        1  0200000US1     1  Northeast   68   419357835545   50259300137   \n",
       "1        2  0200000US2     2    Midwest   68  1943997274253  184273267512   \n",
       "2        4  0200000US4     4       West   68  4536201747682  316587292459   \n",
       "3        3  0200000US3     3      South   68  2249871668369  134084610547   \n",
       "\n",
       "                                            geometry  \n",
       "0  MULTIPOLYGON (((2446153.061 407460.300, 244636...  \n",
       "1  MULTIPOLYGON (((1422979.278 -227154.171, 14231...  \n",
       "2  MULTIPOLYGON (((-4288629.978 3426273.416, -428...  \n",
       "3  MULTIPOLYGON (((2060803.219 -301773.581, 20609...  "
      ]
     },
     "execution_count": 160,
     "metadata": {},
     "output_type": "execute_result"
    }
   ],
   "source": [
    "usregions.head()"
   ]
  },
  {
   "cell_type": "code",
   "execution_count": 175,
   "metadata": {},
   "outputs": [
    {
     "data": {
      "text/plain": [
       "Index(['STATE', 'STATEABBRV', 'COUNTY', 'COUNTYFIPS', 'STCOFIPS', 'POPULATION',\n",
       "       'BUILDVALUE', 'AGRIVALUE', 'SOVI_SCORE', 'RESL_VALUE', 'NAME', 'fips',\n",
       "       'index', 'HMAprojAmo', 'AdminCostA', 'NumfinalPr', 'CropDmg',\n",
       "       'CropDmg(AD', 'CropDmgPer', 'PropertyDm', 'Property_1', 'Property_2',\n",
       "       'Injuries', 'InjuriesPe', 'Fatalities', 'Fataliti_1', 'Duration_D',\n",
       "       'PAprojectA', 'PDMprojAmo', 'PDMcount', 'PDMNumfina', 'HMAcount',\n",
       "       'HAtotal', 'HAcount', 'PAcount', 'SBAcount', 'SBAProjcou', 'SBAapprove',\n",
       "       'HazardCoun', 'x', 'y', 'cbsa', 'totalAssis', 'totalAss_1',\n",
       "       'totalDamag', 'DamageSOVI', 'totalDam_1', 'totalAss_2', 'DamageSO_1',\n",
       "       'label1', 'x1', 'p_sim1', 'MoranI1', 'color1', 'label2', 'x2', 'p_sim2',\n",
       "       'MoranI2', 'color2', 'REGIONCE', 'NAME_2', 'AWATER', 'geometry'],\n",
       "      dtype='object')"
      ]
     },
     "execution_count": 175,
     "metadata": {},
     "output_type": "execute_result"
    }
   ],
   "source": [
    "gdfjoined1.columns\n"
   ]
  },
  {
   "cell_type": "code",
   "execution_count": null,
   "metadata": {},
   "outputs": [],
   "source": [
    "\n",
    "def percentile_rank(column):\n",
    "   return column.rank(pct = True)\n",
    "\n",
    "gdfjoinedx1 = gdfjoined1.groupby([ 'NAME_2'], as_index=False).agg({  \n",
    "    \"POPULATION\" : ['sum'], \"totalDamag\": ['sum'],\n",
    "    \"totalAssis\": ['sum'], \"SOVI_SCORE\" : ['mean'], \n",
    "    \"MoranI1\": ['mean'] , \"MoranI2\": ['mean'] ,\n",
    "    \"alabel1\": ['mode'], \"alabel2\": ['mode']  })\n",
    "gdfjoinedx1.columns = gdfjoinedx1.columns.droplevel(1)\n",
    "gdfjoinedx1.columns = [ 'NAME', 'cbsa', 'POPULATION', 'totalDamag', \n",
    "                       'totalAssis', 'SOVI_SCORE', 'aMoranI1' , 'aMoranI2', 'acount' ]\n",
    "\n",
    "gdfjoinedx1.head()\n",
    "print( gdfjoined1.MoranI1.mean(), gdfjoined1.MoranI1.std() )\n",
    "print( gdfjoined1.MoranI2.mean(), gdfjoined1.MoranI2.std() )\n"
   ]
  },
  {
   "cell_type": "code",
   "execution_count": 181,
   "metadata": {},
   "outputs": [
    {
     "data": {
      "text/plain": [
       "array(['Northeast', 'Midwest', 'West', 'South'], dtype=object)"
      ]
     },
     "execution_count": 181,
     "metadata": {},
     "output_type": "execute_result"
    }
   ],
   "source": [
    "gdfjoined1.NAME_2.unique()"
   ]
  },
  {
   "cell_type": "code",
   "execution_count": 185,
   "metadata": {},
   "outputs": [
    {
     "name": "stdout",
     "output_type": "stream",
     "text": [
      "label1\n",
      "0    124\n",
      "1     89\n",
      "3      8\n",
      "4      5\n",
      "2      2\n",
      "Name: count, dtype: int64\n",
      "label1\n",
      "0    810\n",
      "3    158\n",
      "1    119\n",
      "4     51\n",
      "2      4\n",
      "Name: count, dtype: int64\n",
      "label1\n",
      "3    294\n",
      "0    120\n",
      "4     21\n",
      "1      9\n",
      "2      2\n",
      "Name: count, dtype: int64\n",
      "label1\n",
      "0    999\n",
      "1    320\n",
      "3     90\n",
      "4     35\n",
      "2     26\n",
      "Name: count, dtype: int64\n"
     ]
    }
   ],
   "source": [
    "print( gdfjoined2.loc[ gdfjoined2['NAME_2'] == 'Northeast' ].label1.value_counts() )\n",
    "print( gdfjoined2.loc[ gdfjoined2['NAME_2'] == 'Midwest' ].label1.value_counts() )\n",
    "print( gdfjoined2.loc[ gdfjoined2['NAME_2'] == 'West' ].label1.value_counts() )\n",
    "print( gdfjoined2.loc[ gdfjoined2['NAME_2'] == 'South' ].label1.value_counts() )\n"
   ]
  },
  {
   "cell_type": "code",
   "execution_count": 184,
   "metadata": {},
   "outputs": [
    {
     "name": "stdout",
     "output_type": "stream",
     "text": [
      "label2\n",
      "0    122\n",
      "2     61\n",
      "1     35\n",
      "3      6\n",
      "4      4\n",
      "Name: count, dtype: int64\n",
      "label2\n",
      "0    869\n",
      "3    136\n",
      "2     59\n",
      "4     41\n",
      "1     37\n",
      "Name: count, dtype: int64\n",
      "label2\n",
      "0    229\n",
      "3    115\n",
      "4     89\n",
      "1      8\n",
      "2      5\n",
      "Name: count, dtype: int64\n",
      "label2\n",
      "0    1009\n",
      "1     250\n",
      "4      97\n",
      "2      64\n",
      "3      50\n",
      "Name: count, dtype: int64\n"
     ]
    }
   ],
   "source": [
    "print( gdfjoined1.loc[ gdfjoined1['NAME_2'] == 'Northeast' ].label2.value_counts() )\n",
    "print( gdfjoined1.loc[ gdfjoined1['NAME_2'] == 'Midwest' ].label2.value_counts() )\n",
    "print( gdfjoined1.loc[ gdfjoined1['NAME_2'] == 'West' ].label2.value_counts() )\n",
    "print( gdfjoined1.loc[ gdfjoined1['NAME_2'] == 'South' ].label2.value_counts() )\n"
   ]
  },
  {
   "cell_type": "code",
   "execution_count": 6,
   "metadata": {},
   "outputs": [
    {
     "data": {
      "text/plain": [
       "<matplotlib.collections.PathCollection at 0x2a70b1390>"
      ]
     },
     "execution_count": 6,
     "metadata": {},
     "output_type": "execute_result"
    },
    {
     "data": {
      "image/png": "[encoded data removed]",
      "text/plain": [
       "<Figure size 640x480 with 1 Axes>"
      ]
     },
     "metadata": {},
     "output_type": "display_data"
    }
   ],
   "source": [
    "plt.scatter( np.log(gdfjoined1.loc[ gdfjoined1['label1'] == 1 ].POPULATION+1), gdfjoined1.loc[ gdfjoined1['label1'] == 1 ].MoranI1)"
   ]
  },
  {
   "cell_type": "code",
   "execution_count": null,
   "metadata": {},
   "outputs": [],
   "source": []
  },
  {
   "cell_type": "code",
   "execution_count": null,
   "metadata": {},
   "outputs": [],
   "source": []
  },
  {
   "cell_type": "code",
   "execution_count": 93,
   "metadata": {},
   "outputs": [],
   "source": [
    "gdfjoinedx3 = gdfjoined3.loc[ \n",
    "   gdfjoined3['cbsa'] != '0' ].groupby([ 'NAME', 'cbsa'], as_index=False).agg({  \n",
    "    \"POPULATION\" : ['sum'], \"totalDamag\": ['sum'],\n",
    "    \"totalAssis\": ['sum'], \"SOVI_SCORE\" : ['mean'], \n",
    "    \"Moran1\": ['mean'] , \"Moran2\": ['mean'] , \"Moran3\": ['mean'] , \"Moran4\": ['mean'] ,\n",
    "    \"Moran5\": ['mean'] , \"Moran6\": ['mean'] , \"Moran7\": ['mean'] , \"Moran8\": ['mean'] ,\n",
    "    \"Moran9\": ['mean'] , \"Moran10\": ['mean'] , \"label1\": ['count']  })\n",
    "gdfjoinedx3.columns = gdfjoinedx3.columns.droplevel(1)\n",
    "gdfjoinedx3.head()\n",
    "\n",
    "datax3 = tabulate([[gdfjoined3.Moran1.mean(), gdfjoined3.Moran1.std()], \n",
    "                [gdfjoined3.Moran2.mean(), gdfjoined3.Moran2.std()],\n",
    "                [gdfjoined3.Moran3.mean(), gdfjoined3.Moran3.std()],\n",
    "                [gdfjoined3.Moran4.mean(), gdfjoined3.Moran4.std() ],\n",
    "                [gdfjoined3.Moran5.mean(), gdfjoined3.Moran5.std()],\n",
    "                [gdfjoined3.Moran6.mean(), gdfjoined3.Moran6.std()],\n",
    "                [gdfjoined3.Moran7.mean(), gdfjoined3.Moran7.std()],\n",
    "                [ gdfjoined3.Moran9.mean(), gdfjoined3.Moran8.std()],\n",
    "                [gdfjoined3.Moran9.mean(), gdfjoined3.Moran9.std()],\n",
    "                [ gdfjoined3.Moran10.mean(), gdfjoined3.Moran10.std()]\n",
    "                ], headers=['mean', 'std'], tablefmt='orgtbl')\n",
    "\n",
    "#text_file=open(\"/Users/yuhan/Desktop/paper——revision/Writings/datax_all_cate_lisa.csv\",\"w\")\n",
    "#text_file.write( datax3 )\n",
    "#text_file.close()"
   ]
  },
  {
   "cell_type": "code",
   "execution_count": 86,
   "metadata": {},
   "outputs": [],
   "source": [
    "gdfjoinedx4 = gdfjoined4.loc[ \n",
    "   gdfjoined4['cbsa'] != '0' ].groupby([ 'NAME', 'cbsa'], as_index=False).agg({  \n",
    "    \"POPULATION\" : ['sum'], \"totalDamag\": ['sum'],\n",
    "    \"totalAssis\": ['sum'], \"SOVI_SCORE\" : ['mean'], \n",
    "    \"Moran1\": ['mean'] , \"Moran2\": ['mean'] , \"Moran3\": ['mean'] , \"Moran4\": ['mean'] ,\n",
    "    \"Moran5\": ['mean'] , \"Moran6\": ['mean'] , \"Moran7\": ['mean'] , \"Moran8\": ['mean'] ,\n",
    "    \"Moran9\": ['mean'] , \"Moran10\": ['mean'] , \"label1\": ['count']  })\n",
    "gdfjoinedx4.columns = gdfjoinedx4.columns.droplevel(1)\n",
    "gdfjoinedx4.columns = gdfjoinedx4.columns\n",
    "\n",
    "datax4 = tabulate([[gdfjoined4.Moran1.mean(), gdfjoined4.Moran1.std()], \n",
    "                [gdfjoined4.Moran2.mean(), gdfjoined4.Moran2.std()],\n",
    "                [gdfjoined4.Moran3.mean(), gdfjoined4.Moran3.std()],\n",
    "                [gdfjoined4.Moran4.mean(), gdfjoined4.Moran4.std() ],\n",
    "                [gdfjoined4.Moran5.mean(), gdfjoined4.Moran5.std()],\n",
    "                [gdfjoined4.Moran6.mean(), gdfjoined4.Moran6.std()],\n",
    "                [gdfjoined4.Moran7.mean(), gdfjoined4.Moran7.std()],\n",
    "                [ gdfjoined4.Moran9.mean(), gdfjoined4.Moran8.std()],\n",
    "                [gdfjoined4.Moran9.mean(), gdfjoined4.Moran9.std()],\n",
    "                [ gdfjoined4.Moran10.mean(), gdfjoined4.Moran10.std()]  ], headers=['mean', 'std'], tablefmt='orgtbl')\n",
    "\n",
    "#text_file=open(\"/Users/yuhan/Desktop/paper——revision/Writings/datax_declared_cate_lisa.csv\",\"w\")\n",
    "#text_file.write( datax4 )\n",
    "#text_file.close()\n"
   ]
  },
  {
   "cell_type": "code",
   "execution_count": 87,
   "metadata": {},
   "outputs": [
    {
     "ename": "MergeError",
     "evalue": "Passing 'suffixes' which cause duplicate columns {'totalDamag_x', 'POPULATION_x', 'label1_x', 'totalAssis_x', 'SOVI_SCORE_x', 'NAME_x'} is not allowed.",
     "output_type": "error",
     "traceback": [
      "\u001b[0;31m---------------------------------------------------------------------------\u001b[0m",
      "\u001b[0;31mMergeError\u001b[0m                                Traceback (most recent call last)",
      "\u001b[1;32m/Users/yuhan/Desktop/paper——revision/Dataprocess/jupitor/All_lisa_morans.ipynb Cell 9\u001b[0m line \u001b[0;36m3\n\u001b[1;32m      <a href='vscode-notebook-cell:/Users/yuhan/Desktop/paper%E2%80%94%E2%80%94revision/Dataprocess/jupitor/All_lisa_morans.ipynb#X31sZmlsZQ%3D%3D?line=0'>1</a>\u001b[0m dfList \u001b[39m=\u001b[39m [ gdfjoinedx1, gdfjoinedx2, gdfjoinedx3, gdfjoinedx4 ]\n\u001b[1;32m      <a href='vscode-notebook-cell:/Users/yuhan/Desktop/paper%E2%80%94%E2%80%94revision/Dataprocess/jupitor/All_lisa_morans.ipynb#X31sZmlsZQ%3D%3D?line=1'>2</a>\u001b[0m \u001b[39mfrom\u001b[39;00m \u001b[39mfunctools\u001b[39;00m \u001b[39mimport\u001b[39;00m reduce\n\u001b[0;32m----> <a href='vscode-notebook-cell:/Users/yuhan/Desktop/paper%E2%80%94%E2%80%94revision/Dataprocess/jupitor/All_lisa_morans.ipynb#X31sZmlsZQ%3D%3D?line=2'>3</a>\u001b[0m df_total_lisa \u001b[39m=\u001b[39m reduce(\u001b[39mlambda\u001b[39;49;00m df1,df2: pd\u001b[39m.\u001b[39;49mmerge(df1,df2,on\u001b[39m=\u001b[39;49m\u001b[39m'\u001b[39;49m\u001b[39mcbsa\u001b[39;49m\u001b[39m'\u001b[39;49m), dfList)\n",
      "\u001b[1;32m/Users/yuhan/Desktop/paper——revision/Dataprocess/jupitor/All_lisa_morans.ipynb Cell 9\u001b[0m line \u001b[0;36m3\n\u001b[1;32m      <a href='vscode-notebook-cell:/Users/yuhan/Desktop/paper%E2%80%94%E2%80%94revision/Dataprocess/jupitor/All_lisa_morans.ipynb#X31sZmlsZQ%3D%3D?line=0'>1</a>\u001b[0m dfList \u001b[39m=\u001b[39m [ gdfjoinedx1, gdfjoinedx2, gdfjoinedx3, gdfjoinedx4 ]\n\u001b[1;32m      <a href='vscode-notebook-cell:/Users/yuhan/Desktop/paper%E2%80%94%E2%80%94revision/Dataprocess/jupitor/All_lisa_morans.ipynb#X31sZmlsZQ%3D%3D?line=1'>2</a>\u001b[0m \u001b[39mfrom\u001b[39;00m \u001b[39mfunctools\u001b[39;00m \u001b[39mimport\u001b[39;00m reduce\n\u001b[0;32m----> <a href='vscode-notebook-cell:/Users/yuhan/Desktop/paper%E2%80%94%E2%80%94revision/Dataprocess/jupitor/All_lisa_morans.ipynb#X31sZmlsZQ%3D%3D?line=2'>3</a>\u001b[0m df_total_lisa \u001b[39m=\u001b[39m reduce(\u001b[39mlambda\u001b[39;00m df1,df2: pd\u001b[39m.\u001b[39;49mmerge(df1,df2,on\u001b[39m=\u001b[39;49m\u001b[39m'\u001b[39;49m\u001b[39mcbsa\u001b[39;49m\u001b[39m'\u001b[39;49m), dfList)\n",
      "File \u001b[0;32m~/opt/anaconda3/envs/hazard_env/lib/python3.11/site-packages/pandas/core/reshape/merge.py:162\u001b[0m, in \u001b[0;36mmerge\u001b[0;34m(left, right, how, on, left_on, right_on, left_index, right_index, sort, suffixes, copy, indicator, validate)\u001b[0m\n\u001b[1;32m    131\u001b[0m \u001b[39m@Substitution\u001b[39m(\u001b[39m\"\u001b[39m\u001b[39m\\n\u001b[39;00m\u001b[39mleft : DataFrame or named Series\u001b[39m\u001b[39m\"\u001b[39m)\n\u001b[1;32m    132\u001b[0m \u001b[39m@Appender\u001b[39m(_merge_doc, indents\u001b[39m=\u001b[39m\u001b[39m0\u001b[39m)\n\u001b[1;32m    133\u001b[0m \u001b[39mdef\u001b[39;00m \u001b[39mmerge\u001b[39m(\n\u001b[0;32m   (...)\u001b[0m\n\u001b[1;32m    146\u001b[0m     validate: \u001b[39mstr\u001b[39m \u001b[39m|\u001b[39m \u001b[39mNone\u001b[39;00m \u001b[39m=\u001b[39m \u001b[39mNone\u001b[39;00m,\n\u001b[1;32m    147\u001b[0m ) \u001b[39m-\u001b[39m\u001b[39m>\u001b[39m DataFrame:\n\u001b[1;32m    148\u001b[0m     op \u001b[39m=\u001b[39m _MergeOperation(\n\u001b[1;32m    149\u001b[0m         left,\n\u001b[1;32m    150\u001b[0m         right,\n\u001b[0;32m   (...)\u001b[0m\n\u001b[1;32m    160\u001b[0m         validate\u001b[39m=\u001b[39mvalidate,\n\u001b[1;32m    161\u001b[0m     )\n\u001b[0;32m--> 162\u001b[0m     \u001b[39mreturn\u001b[39;00m op\u001b[39m.\u001b[39;49mget_result(copy\u001b[39m=\u001b[39;49mcopy)\n",
      "File \u001b[0;32m~/opt/anaconda3/envs/hazard_env/lib/python3.11/site-packages/pandas/core/reshape/merge.py:811\u001b[0m, in \u001b[0;36m_MergeOperation.get_result\u001b[0;34m(self, copy)\u001b[0m\n\u001b[1;32m    807\u001b[0m     \u001b[39mself\u001b[39m\u001b[39m.\u001b[39mleft, \u001b[39mself\u001b[39m\u001b[39m.\u001b[39mright \u001b[39m=\u001b[39m \u001b[39mself\u001b[39m\u001b[39m.\u001b[39m_indicator_pre_merge(\u001b[39mself\u001b[39m\u001b[39m.\u001b[39mleft, \u001b[39mself\u001b[39m\u001b[39m.\u001b[39mright)\n\u001b[1;32m    809\u001b[0m join_index, left_indexer, right_indexer \u001b[39m=\u001b[39m \u001b[39mself\u001b[39m\u001b[39m.\u001b[39m_get_join_info()\n\u001b[0;32m--> 811\u001b[0m result \u001b[39m=\u001b[39m \u001b[39mself\u001b[39;49m\u001b[39m.\u001b[39;49m_reindex_and_concat(\n\u001b[1;32m    812\u001b[0m     join_index, left_indexer, right_indexer, copy\u001b[39m=\u001b[39;49mcopy\n\u001b[1;32m    813\u001b[0m )\n\u001b[1;32m    814\u001b[0m result \u001b[39m=\u001b[39m result\u001b[39m.\u001b[39m__finalize__(\u001b[39mself\u001b[39m, method\u001b[39m=\u001b[39m\u001b[39mself\u001b[39m\u001b[39m.\u001b[39m_merge_type)\n\u001b[1;32m    816\u001b[0m \u001b[39mif\u001b[39;00m \u001b[39mself\u001b[39m\u001b[39m.\u001b[39mindicator:\n",
      "File \u001b[0;32m~/opt/anaconda3/envs/hazard_env/lib/python3.11/site-packages/pandas/core/reshape/merge.py:763\u001b[0m, in \u001b[0;36m_MergeOperation._reindex_and_concat\u001b[0;34m(self, join_index, left_indexer, right_indexer, copy)\u001b[0m\n\u001b[1;32m    760\u001b[0m left \u001b[39m=\u001b[39m \u001b[39mself\u001b[39m\u001b[39m.\u001b[39mleft[:]\n\u001b[1;32m    761\u001b[0m right \u001b[39m=\u001b[39m \u001b[39mself\u001b[39m\u001b[39m.\u001b[39mright[:]\n\u001b[0;32m--> 763\u001b[0m llabels, rlabels \u001b[39m=\u001b[39m _items_overlap_with_suffix(\n\u001b[1;32m    764\u001b[0m     \u001b[39mself\u001b[39;49m\u001b[39m.\u001b[39;49mleft\u001b[39m.\u001b[39;49m_info_axis, \u001b[39mself\u001b[39;49m\u001b[39m.\u001b[39;49mright\u001b[39m.\u001b[39;49m_info_axis, \u001b[39mself\u001b[39;49m\u001b[39m.\u001b[39;49msuffixes\n\u001b[1;32m    765\u001b[0m )\n\u001b[1;32m    767\u001b[0m \u001b[39mif\u001b[39;00m left_indexer \u001b[39mis\u001b[39;00m \u001b[39mnot\u001b[39;00m \u001b[39mNone\u001b[39;00m \u001b[39mand\u001b[39;00m \u001b[39mnot\u001b[39;00m is_range_indexer(left_indexer, \u001b[39mlen\u001b[39m(left)):\n\u001b[1;32m    768\u001b[0m     \u001b[39m# Pinning the index here (and in the right code just below) is not\u001b[39;00m\n\u001b[1;32m    769\u001b[0m     \u001b[39m#  necessary, but makes the `.take` more performant if we have e.g.\u001b[39;00m\n\u001b[1;32m    770\u001b[0m     \u001b[39m#  a MultiIndex for left.index.\u001b[39;00m\n\u001b[1;32m    771\u001b[0m     lmgr \u001b[39m=\u001b[39m left\u001b[39m.\u001b[39m_mgr\u001b[39m.\u001b[39mreindex_indexer(\n\u001b[1;32m    772\u001b[0m         join_index,\n\u001b[1;32m    773\u001b[0m         left_indexer,\n\u001b[0;32m   (...)\u001b[0m\n\u001b[1;32m    778\u001b[0m         use_na_proxy\u001b[39m=\u001b[39m\u001b[39mTrue\u001b[39;00m,\n\u001b[1;32m    779\u001b[0m     )\n",
      "File \u001b[0;32m~/opt/anaconda3/envs/hazard_env/lib/python3.11/site-packages/pandas/core/reshape/merge.py:2626\u001b[0m, in \u001b[0;36m_items_overlap_with_suffix\u001b[0;34m(left, right, suffixes)\u001b[0m\n\u001b[1;32m   2624\u001b[0m     dups\u001b[39m.\u001b[39mextend(rlabels[(rlabels\u001b[39m.\u001b[39mduplicated()) \u001b[39m&\u001b[39m (\u001b[39m~\u001b[39mright\u001b[39m.\u001b[39mduplicated())]\u001b[39m.\u001b[39mtolist())\n\u001b[1;32m   2625\u001b[0m \u001b[39mif\u001b[39;00m dups:\n\u001b[0;32m-> 2626\u001b[0m     \u001b[39mraise\u001b[39;00m MergeError(\n\u001b[1;32m   2627\u001b[0m         \u001b[39mf\u001b[39m\u001b[39m\"\u001b[39m\u001b[39mPassing \u001b[39m\u001b[39m'\u001b[39m\u001b[39msuffixes\u001b[39m\u001b[39m'\u001b[39m\u001b[39m which cause duplicate columns \u001b[39m\u001b[39m{\u001b[39;00m\u001b[39mset\u001b[39m(dups)\u001b[39m}\u001b[39;00m\u001b[39m is \u001b[39m\u001b[39m\"\u001b[39m\n\u001b[1;32m   2628\u001b[0m         \u001b[39mf\u001b[39m\u001b[39m\"\u001b[39m\u001b[39mnot allowed.\u001b[39m\u001b[39m\"\u001b[39m,\n\u001b[1;32m   2629\u001b[0m     )\n\u001b[1;32m   2631\u001b[0m \u001b[39mreturn\u001b[39;00m llabels, rlabels\n",
      "\u001b[0;31mMergeError\u001b[0m: Passing 'suffixes' which cause duplicate columns {'totalDamag_x', 'POPULATION_x', 'label1_x', 'totalAssis_x', 'SOVI_SCORE_x', 'NAME_x'} is not allowed."
     ]
    }
   ],
   "source": [
    "dfList = [ gdfjoinedx1, gdfjoinedx2, gdfjoinedx3, gdfjoinedx4 ]\n",
    "from functools import reduce\n",
    "df_total_lisa = reduce(lambda df1,df2: pd.merge(df1,df2,on='cbsa'), dfList)"
   ]
  },
  {
   "cell_type": "code",
   "execution_count": 68,
   "metadata": {},
   "outputs": [
    {
     "name": "stdout",
     "output_type": "stream",
     "text": [
      "2183\n",
      "491\n",
      "37\n",
      "176\n",
      "221\n"
     ]
    }
   ],
   "source": [
    "#gdfjoined4 = gdfjoined4\n",
    "\n",
    "print( gdfjoined4.loc[ gdfjoined4[\"label1\"] == 0 ].shape[0] )\n",
    "print( gdfjoined4.loc[ gdfjoined4[\"label1\"] == 1 ].shape[0] )\n",
    "print( gdfjoined4.loc[ gdfjoined4[\"label1\"] == 2 ].shape[0] )\n",
    "print( gdfjoined4.loc[ gdfjoined4[\"label1\"] == 3 ].shape[0] )\n",
    "print( gdfjoined4.loc[ gdfjoined4[\"label1\"] == 4 ].shape[0] )\n"
   ]
  },
  {
   "cell_type": "code",
   "execution_count": 69,
   "metadata": {},
   "outputs": [
    {
     "name": "stdout",
     "output_type": "stream",
     "text": [
      "2022\n",
      "493\n",
      "47\n",
      "356\n",
      "190\n"
     ]
    }
   ],
   "source": [
    "\n",
    "print( gdfjoined4.loc[ gdfjoined4[\"label2\"] == 0 ].shape[0] )\n",
    "print( gdfjoined4.loc[ gdfjoined4[\"label2\"] == 1 ].shape[0] )\n",
    "print( gdfjoined4.loc[ gdfjoined4[\"label2\"] == 2 ].shape[0] )\n",
    "print( gdfjoined4.loc[ gdfjoined4[\"label2\"] == 3 ].shape[0] )\n",
    "print( gdfjoined4.loc[ gdfjoined4[\"label2\"] == 4 ].shape[0] )\n"
   ]
  },
  {
   "cell_type": "code",
   "execution_count": 70,
   "metadata": {},
   "outputs": [
    {
     "name": "stdout",
     "output_type": "stream",
     "text": [
      "1796\n",
      "566\n",
      "53\n",
      "481\n",
      "212\n"
     ]
    }
   ],
   "source": [
    "\n",
    "print( gdfjoined4.loc[ gdfjoined4[\"label3\"] == 0 ].shape[0] )\n",
    "print( gdfjoined4.loc[ gdfjoined4[\"label3\"] == 1 ].shape[0] )\n",
    "print( gdfjoined4.loc[ gdfjoined4[\"label3\"] == 2 ].shape[0] )\n",
    "print( gdfjoined4.loc[ gdfjoined4[\"label3\"] == 3 ].shape[0] )\n",
    "print( gdfjoined4.loc[ gdfjoined4[\"label3\"] == 4 ].shape[0] )\n"
   ]
  },
  {
   "cell_type": "code",
   "execution_count": 71,
   "metadata": {},
   "outputs": [
    {
     "name": "stdout",
     "output_type": "stream",
     "text": [
      "2355\n",
      "312\n",
      "59\n",
      "70\n",
      "312\n"
     ]
    }
   ],
   "source": [
    "\n",
    "print( gdfjoined4.loc[ gdfjoined4[\"label4\"] == 0 ].shape[0] )\n",
    "print( gdfjoined4.loc[ gdfjoined4[\"label4\"] == 1 ].shape[0] )\n",
    "print( gdfjoined4.loc[ gdfjoined4[\"label4\"] == 2 ].shape[0] )\n",
    "print( gdfjoined4.loc[ gdfjoined4[\"label4\"] == 3 ].shape[0] )\n",
    "print( gdfjoined4.loc[ gdfjoined4[\"label4\"] == 4 ].shape[0] )\n"
   ]
  },
  {
   "cell_type": "code",
   "execution_count": 72,
   "metadata": {},
   "outputs": [
    {
     "name": "stdout",
     "output_type": "stream",
     "text": [
      "1974\n",
      "203\n",
      "15\n",
      "67\n",
      "849\n"
     ]
    }
   ],
   "source": [
    "\n",
    "print( gdfjoined4.loc[ gdfjoined4[\"label5\"] == 0 ].shape[0] )\n",
    "print( gdfjoined4.loc[ gdfjoined4[\"label5\"] == 1 ].shape[0] )\n",
    "print( gdfjoined4.loc[ gdfjoined4[\"label5\"] == 2 ].shape[0] )\n",
    "print( gdfjoined4.loc[ gdfjoined4[\"label5\"] == 3 ].shape[0] )\n",
    "print( gdfjoined4.loc[ gdfjoined4[\"label5\"] == 4 ].shape[0] )\n"
   ]
  },
  {
   "cell_type": "code",
   "execution_count": 73,
   "metadata": {},
   "outputs": [
    {
     "name": "stdout",
     "output_type": "stream",
     "text": [
      "2145\n",
      "350\n",
      "189\n",
      "158\n",
      "266\n"
     ]
    }
   ],
   "source": [
    "\n",
    "print( gdfjoined4.loc[ gdfjoined4[\"label6\"] == 0 ].shape[0] )\n",
    "print( gdfjoined4.loc[ gdfjoined4[\"label6\"] == 1 ].shape[0] )\n",
    "print( gdfjoined4.loc[ gdfjoined4[\"label6\"] == 2 ].shape[0] )\n",
    "print( gdfjoined4.loc[ gdfjoined4[\"label6\"] == 3 ].shape[0] )\n",
    "print( gdfjoined4.loc[ gdfjoined4[\"label6\"] == 4 ].shape[0] )\n"
   ]
  },
  {
   "cell_type": "code",
   "execution_count": 74,
   "metadata": {},
   "outputs": [
    {
     "name": "stdout",
     "output_type": "stream",
     "text": [
      "1945\n",
      "294\n",
      "224\n",
      "337\n",
      "308\n"
     ]
    }
   ],
   "source": [
    "\n",
    "print( gdfjoined4.loc[ gdfjoined4[\"label7\"] == 0 ].shape[0] )\n",
    "print( gdfjoined4.loc[ gdfjoined4[\"label7\"] == 1 ].shape[0] )\n",
    "print( gdfjoined4.loc[ gdfjoined4[\"label7\"] == 2 ].shape[0] )\n",
    "print( gdfjoined4.loc[ gdfjoined4[\"label7\"] == 3 ].shape[0] )\n",
    "print( gdfjoined4.loc[ gdfjoined4[\"label7\"] == 4 ].shape[0] )\n"
   ]
  },
  {
   "cell_type": "code",
   "execution_count": 75,
   "metadata": {},
   "outputs": [
    {
     "name": "stdout",
     "output_type": "stream",
     "text": [
      "1839\n",
      "352\n",
      "245\n",
      "383\n",
      "289\n"
     ]
    }
   ],
   "source": [
    "\n",
    "print( gdfjoined4.loc[ gdfjoined4[\"label8\"] == 0 ].shape[0] )\n",
    "print( gdfjoined4.loc[ gdfjoined4[\"label8\"] == 1 ].shape[0] )\n",
    "print( gdfjoined4.loc[ gdfjoined4[\"label8\"] == 2 ].shape[0] )\n",
    "print( gdfjoined4.loc[ gdfjoined4[\"label8\"] == 3 ].shape[0] )\n",
    "print( gdfjoined4.loc[ gdfjoined4[\"label8\"] == 4 ].shape[0] )\n"
   ]
  },
  {
   "cell_type": "code",
   "execution_count": 76,
   "metadata": {},
   "outputs": [
    {
     "name": "stdout",
     "output_type": "stream",
     "text": [
      "2329\n",
      "235\n",
      "130\n",
      "130\n",
      "284\n"
     ]
    }
   ],
   "source": [
    "\n",
    "print( gdfjoined4.loc[ gdfjoined4[\"label9\"] == 0 ].shape[0] )\n",
    "print( gdfjoined4.loc[ gdfjoined4[\"label9\"] == 1 ].shape[0] )\n",
    "print( gdfjoined4.loc[ gdfjoined4[\"label9\"] == 2 ].shape[0] )\n",
    "print( gdfjoined4.loc[ gdfjoined4[\"label9\"] == 3 ].shape[0] )\n",
    "print( gdfjoined4.loc[ gdfjoined4[\"label9\"] == 4 ].shape[0] )\n"
   ]
  },
  {
   "cell_type": "code",
   "execution_count": 77,
   "metadata": {},
   "outputs": [
    {
     "name": "stdout",
     "output_type": "stream",
     "text": [
      "2252\n",
      "106\n",
      "103\n",
      "104\n",
      "543\n"
     ]
    }
   ],
   "source": [
    "\n",
    "print( gdfjoined4.loc[ gdfjoined4[\"label10\"] == 0 ].shape[0] )\n",
    "print( gdfjoined4.loc[ gdfjoined4[\"label10\"] == 1 ].shape[0] )\n",
    "print( gdfjoined4.loc[ gdfjoined4[\"label10\"] == 2 ].shape[0] )\n",
    "print( gdfjoined4.loc[ gdfjoined4[\"label10\"] == 3 ].shape[0] )\n",
    "print( gdfjoined4.loc[ gdfjoined4[\"label10\"] == 4 ].shape[0] )\n"
   ]
  }
 ],
 "metadata": {
  "kernelspec": {
   "display_name": "hazard_env",
   "language": "python",
   "name": "python3"
  },
  "language_info": {
   "codemirror_mode": {
    "name": "ipython",
    "version": 3
   },
   "file_extension": ".py",
   "mimetype": "text/x-python",
   "name": "python",
   "nbconvert_exporter": "python",
   "pygments_lexer": "ipython3",
   "version": "3.11.4"
  }
 },
 "nbformat": 4,
 "nbformat_minor": 2
}
