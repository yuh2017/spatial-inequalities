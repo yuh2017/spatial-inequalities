{
 "cells": [
  {
   "cell_type": "code",
   "execution_count": 23,
   "metadata": {},
   "outputs": [],
   "source": [
    "import numpy as np\n",
    "import pandas as pd\n",
    "pd.set_option('display.max_columns', None)\n",
    "\n",
    "import matplotlib.pyplot as plt\n",
    "from matplotlib.ticker import FormatStrFormatter\n",
    "from pylab import rcParams\n",
    "import matplotlib as mpl\n",
    "mpl.rcParams['figure.dpi'] = 72\n",
    "\n",
    "import seaborn as sns\n",
    "sns.set_style(\"darkgrid\")\n",
    "sns.set_context(context=\"paper\", font_scale=1.5, rc=None)\n",
    "sns.set(font=\"serif\")\n",
    "\n",
    "import plotly.express as px\n",
    "import plotly.graph_objects as go\n",
    "\n",
    "import geopandas as gpd\n",
    "\n",
    "\n",
    "import libpysal as ps\n",
    "from libpysal  import weights\n",
    "from libpysal.weights import Queen\n",
    "\n",
    "import esda\n",
    "from esda.moran import Moran, Moran_Local\n",
    "\n",
    "import splot\n",
    "from splot.esda import moran_scatterplot, plot_moran, lisa_cluster, plot_local_autocorrelation\n",
    "from splot.libpysal import plot_spatial_weights\n",
    "\n",
    "from giddy.directional import Rose\n",
    "\n",
    "import statsmodels.api as sm\n",
    "import statsmodels.formula.api as smf\n",
    "from stargazer.stargazer import Stargazer, LineLocation\n",
    "\n",
    "from spreg import OLS\n",
    "from spreg import MoranRes\n",
    "from spreg import ML_Lag\n",
    "from spreg import ML_Error \n",
    "\n",
    "from mgwr.gwr import GWR, MGWR\n",
    "from mgwr.sel_bw import Sel_BW\n",
    "from mgwr.utils import shift_colormap, truncate_colormap\n",
    "\n",
    "import warnings\n",
    "warnings.filterwarnings('ignore') \n",
    "import time\n"
   ]
  },
  {
   "cell_type": "code",
   "execution_count": 24,
   "metadata": {},
   "outputs": [
    {
     "name": "stdout",
     "output_type": "stream",
     "text": [
      "Index(['STATE', 'STATEABBRV', 'COUNTY', 'COUNTYFIPS', 'STCOFIPS', 'POPULATION',\n",
      "       'BUILDVALUE', 'AGRIVALUE', 'SOVI_SCORE', 'RESL_VALUE', 'fips', 'index',\n",
      "       'HMAprojAmo', 'AdminCostA', 'NumfinalPr', 'CropDmg', 'CropDmg(AD',\n",
      "       'CropDmgPer', 'PropertyDm', 'Property_1', 'Property_2', 'Injuries',\n",
      "       'InjuriesPe', 'Fatalities', 'Fataliti_1', 'Duration_D', 'PAprojectA',\n",
      "       'PDMprojAmo', 'PDMcount', 'PDMNumfina', 'HMAcount', 'HAtotal',\n",
      "       'HAcount', 'PAcount', 'SBAcount', 'SBAProjcou', 'SBAapprove',\n",
      "       'HazardCoun', 'x', 'y', 'geometry'],\n",
      "      dtype='object')\n"
     ]
    }
   ],
   "source": [
    "pth_df = r\"/Users/yuhan/Desktop/paper——revision/Dataprocess/jupitor/exported_data/states_sheldus_all.shp\"\n",
    "\n",
    "df_hazard_aggfips = gpd.read_file( pth_df )\n",
    "print( df_hazard_aggfips.columns )\n"
   ]
  },
  {
   "cell_type": "code",
   "execution_count": 25,
   "metadata": {},
   "outputs": [
    {
     "data": {
      "text/plain": [
       "0       32.534932\n",
       "1       30.736470\n",
       "2       31.869615\n",
       "3       32.998655\n",
       "4       33.980880\n",
       "          ...    \n",
       "3103    41.659509\n",
       "3104    43.934650\n",
       "3105    41.287504\n",
       "3106    43.905010\n",
       "3107    43.840499\n",
       "Length: 3108, dtype: float64"
      ]
     },
     "execution_count": 25,
     "metadata": {},
     "output_type": "execute_result"
    }
   ],
   "source": [
    "df_hazard_aggfips.centroid\n",
    "df_hazard_aggfips.centroid.x\n",
    "df_hazard_aggfips.centroid.y\n"
   ]
  },
  {
   "cell_type": "code",
   "execution_count": 26,
   "metadata": {},
   "outputs": [],
   "source": [
    "df_hazard_aggfips['x'] = df_hazard_aggfips.centroid.x\n",
    "df_hazard_aggfips['x'] = df_hazard_aggfips.centroid.y\n",
    "u = df_hazard_aggfips['x']\n",
    "v = df_hazard_aggfips['x']\n",
    "coords = list(zip(u,v))\n"
   ]
  },
  {
   "cell_type": "code",
   "execution_count": 27,
   "metadata": {},
   "outputs": [
    {
     "data": {
      "text/plain": [
       "(3108, 5)"
      ]
     },
     "execution_count": 27,
     "metadata": {},
     "output_type": "execute_result"
    }
   ],
   "source": [
    "X = df_hazard_aggfips[['POPULATION', 'BUILDVALUE', 'AGRIVALUE', 'SOVI_SCORE', 'PropertyDm']].values\n",
    "X.shape"
   ]
  },
  {
   "cell_type": "code",
   "execution_count": 28,
   "metadata": {},
   "outputs": [
    {
     "data": {
      "text/plain": [
       "(3108, 1)"
      ]
     },
     "execution_count": 28,
     "metadata": {},
     "output_type": "execute_result"
    }
   ],
   "source": [
    "y = df_hazard_aggfips['HMAprojAmo'].values.reshape((-1,1)) # reshape is needed to have column array\n",
    "y.shape\n"
   ]
  },
  {
   "cell_type": "code",
   "execution_count": 29,
   "metadata": {},
   "outputs": [
    {
     "data": {
      "text/html": [
       "<div>\n",
       "<style scoped>\n",
       "    .dataframe tbody tr th:only-of-type {\n",
       "        vertical-align: middle;\n",
       "    }\n",
       "\n",
       "    .dataframe tbody tr th {\n",
       "        vertical-align: top;\n",
       "    }\n",
       "\n",
       "    .dataframe thead th {\n",
       "        text-align: right;\n",
       "    }\n",
       "</style>\n",
       "<table border=\"1\" class=\"dataframe\">\n",
       "  <thead>\n",
       "    <tr style=\"text-align: right;\">\n",
       "      <th></th>\n",
       "      <th>STATE</th>\n",
       "      <th>STATEABBRV</th>\n",
       "      <th>COUNTY</th>\n",
       "      <th>COUNTYFIPS</th>\n",
       "      <th>STCOFIPS</th>\n",
       "      <th>POPULATION</th>\n",
       "      <th>BUILDVALUE</th>\n",
       "      <th>AGRIVALUE</th>\n",
       "      <th>SOVI_SCORE</th>\n",
       "      <th>RESL_VALUE</th>\n",
       "      <th>fips</th>\n",
       "      <th>index</th>\n",
       "      <th>HMAprojAmo</th>\n",
       "      <th>AdminCostA</th>\n",
       "      <th>NumfinalPr</th>\n",
       "      <th>CropDmg</th>\n",
       "      <th>CropDmg(AD</th>\n",
       "      <th>CropDmgPer</th>\n",
       "      <th>PropertyDm</th>\n",
       "      <th>Property_1</th>\n",
       "      <th>Property_2</th>\n",
       "      <th>Injuries</th>\n",
       "      <th>InjuriesPe</th>\n",
       "      <th>Fatalities</th>\n",
       "      <th>Fataliti_1</th>\n",
       "      <th>Duration_D</th>\n",
       "      <th>PAprojectA</th>\n",
       "      <th>PDMprojAmo</th>\n",
       "      <th>PDMcount</th>\n",
       "      <th>PDMNumfina</th>\n",
       "      <th>HMAcount</th>\n",
       "      <th>HAtotal</th>\n",
       "      <th>HAcount</th>\n",
       "      <th>PAcount</th>\n",
       "      <th>SBAcount</th>\n",
       "      <th>SBAProjcou</th>\n",
       "      <th>SBAapprove</th>\n",
       "      <th>HazardCoun</th>\n",
       "      <th>x</th>\n",
       "      <th>y</th>\n",
       "      <th>geometry</th>\n",
       "    </tr>\n",
       "  </thead>\n",
       "  <tbody>\n",
       "    <tr>\n",
       "      <th>0</th>\n",
       "      <td>Alabama</td>\n",
       "      <td>AL</td>\n",
       "      <td>Autauga</td>\n",
       "      <td>001</td>\n",
       "      <td>01001</td>\n",
       "      <td>58764</td>\n",
       "      <td>9.123274e+09</td>\n",
       "      <td>24613998.0</td>\n",
       "      <td>51.299999</td>\n",
       "      <td>2.604995</td>\n",
       "      <td>1001</td>\n",
       "      <td>0.0</td>\n",
       "      <td>1208458.00</td>\n",
       "      <td>1497.0</td>\n",
       "      <td>164.0</td>\n",
       "      <td>350000.0</td>\n",
       "      <td>468266.65</td>\n",
       "      <td>9.80179</td>\n",
       "      <td>3.331930e+07</td>\n",
       "      <td>4.275979e+07</td>\n",
       "      <td>862.79546</td>\n",
       "      <td>85.0</td>\n",
       "      <td>0.00166</td>\n",
       "      <td>11.0</td>\n",
       "      <td>0.00019</td>\n",
       "      <td>77.0</td>\n",
       "      <td>0.0</td>\n",
       "      <td>0.00</td>\n",
       "      <td>0.0</td>\n",
       "      <td>0.0</td>\n",
       "      <td>6.0</td>\n",
       "      <td>7.687544e+06</td>\n",
       "      <td>4.0</td>\n",
       "      <td>0.0</td>\n",
       "      <td>44.0</td>\n",
       "      <td>6.0</td>\n",
       "      <td>1.160600e+06</td>\n",
       "      <td>56.0</td>\n",
       "      <td>32.534932</td>\n",
       "      <td>32.534932</td>\n",
       "      <td>POLYGON ((-86.41284 32.63589, -86.41279 32.625...</td>\n",
       "    </tr>\n",
       "    <tr>\n",
       "      <th>1</th>\n",
       "      <td>Alabama</td>\n",
       "      <td>AL</td>\n",
       "      <td>Baldwin</td>\n",
       "      <td>003</td>\n",
       "      <td>01003</td>\n",
       "      <td>231365</td>\n",
       "      <td>4.596848e+10</td>\n",
       "      <td>138089013.0</td>\n",
       "      <td>31.030001</td>\n",
       "      <td>2.745075</td>\n",
       "      <td>1003</td>\n",
       "      <td>1.0</td>\n",
       "      <td>95472063.21</td>\n",
       "      <td>392144.0</td>\n",
       "      <td>126.0</td>\n",
       "      <td>12800000.0</td>\n",
       "      <td>12854448.40</td>\n",
       "      <td>56.06272</td>\n",
       "      <td>3.020712e+09</td>\n",
       "      <td>3.158598e+09</td>\n",
       "      <td>14629.37470</td>\n",
       "      <td>83.0</td>\n",
       "      <td>0.00063</td>\n",
       "      <td>126.5</td>\n",
       "      <td>0.00081</td>\n",
       "      <td>177.0</td>\n",
       "      <td>0.0</td>\n",
       "      <td>678139.15</td>\n",
       "      <td>13.0</td>\n",
       "      <td>0.0</td>\n",
       "      <td>31.0</td>\n",
       "      <td>9.947442e+08</td>\n",
       "      <td>34.0</td>\n",
       "      <td>0.0</td>\n",
       "      <td>1634.0</td>\n",
       "      <td>35.0</td>\n",
       "      <td>1.577607e+09</td>\n",
       "      <td>146.0</td>\n",
       "      <td>30.736470</td>\n",
       "      <td>30.736470</td>\n",
       "      <td>MULTIPOLYGON (((-87.92666 30.66002, -87.92688 ...</td>\n",
       "    </tr>\n",
       "    <tr>\n",
       "      <th>2</th>\n",
       "      <td>Alabama</td>\n",
       "      <td>AL</td>\n",
       "      <td>Barbour</td>\n",
       "      <td>005</td>\n",
       "      <td>01005</td>\n",
       "      <td>25160</td>\n",
       "      <td>4.847697e+09</td>\n",
       "      <td>121075758.0</td>\n",
       "      <td>99.269997</td>\n",
       "      <td>2.383568</td>\n",
       "      <td>1005</td>\n",
       "      <td>2.0</td>\n",
       "      <td>21338.00</td>\n",
       "      <td>76.0</td>\n",
       "      <td>1.0</td>\n",
       "      <td>55000.0</td>\n",
       "      <td>56325.81</td>\n",
       "      <td>2.24697</td>\n",
       "      <td>1.709000e+06</td>\n",
       "      <td>2.254246e+06</td>\n",
       "      <td>76.66573</td>\n",
       "      <td>10.0</td>\n",
       "      <td>0.00035</td>\n",
       "      <td>0.0</td>\n",
       "      <td>0.00000</td>\n",
       "      <td>61.0</td>\n",
       "      <td>0.0</td>\n",
       "      <td>0.00</td>\n",
       "      <td>0.0</td>\n",
       "      <td>0.0</td>\n",
       "      <td>2.0</td>\n",
       "      <td>2.175617e+05</td>\n",
       "      <td>2.0</td>\n",
       "      <td>0.0</td>\n",
       "      <td>19.0</td>\n",
       "      <td>2.0</td>\n",
       "      <td>1.048000e+05</td>\n",
       "      <td>40.0</td>\n",
       "      <td>31.869615</td>\n",
       "      <td>31.869615</td>\n",
       "      <td>POLYGON ((-85.25954 32.13837, -85.25882 32.138...</td>\n",
       "    </tr>\n",
       "    <tr>\n",
       "      <th>3</th>\n",
       "      <td>Alabama</td>\n",
       "      <td>AL</td>\n",
       "      <td>Bibb</td>\n",
       "      <td>007</td>\n",
       "      <td>01007</td>\n",
       "      <td>22239</td>\n",
       "      <td>3.146947e+09</td>\n",
       "      <td>4819356.0</td>\n",
       "      <td>80.779999</td>\n",
       "      <td>2.471525</td>\n",
       "      <td>1007</td>\n",
       "      <td>3.0</td>\n",
       "      <td>2931436.47</td>\n",
       "      <td>8383.0</td>\n",
       "      <td>88.0</td>\n",
       "      <td>0.0</td>\n",
       "      <td>0.00</td>\n",
       "      <td>0.00000</td>\n",
       "      <td>8.862450e+07</td>\n",
       "      <td>1.041451e+08</td>\n",
       "      <td>4587.46150</td>\n",
       "      <td>76.0</td>\n",
       "      <td>0.00333</td>\n",
       "      <td>6.0</td>\n",
       "      <td>0.00024</td>\n",
       "      <td>62.0</td>\n",
       "      <td>0.0</td>\n",
       "      <td>0.00</td>\n",
       "      <td>0.0</td>\n",
       "      <td>0.0</td>\n",
       "      <td>3.0</td>\n",
       "      <td>2.454976e+07</td>\n",
       "      <td>4.0</td>\n",
       "      <td>0.0</td>\n",
       "      <td>55.0</td>\n",
       "      <td>4.0</td>\n",
       "      <td>4.280200e+06</td>\n",
       "      <td>41.0</td>\n",
       "      <td>32.998655</td>\n",
       "      <td>32.998655</td>\n",
       "      <td>POLYGON ((-87.02581 33.21717, -87.02573 33.209...</td>\n",
       "    </tr>\n",
       "    <tr>\n",
       "      <th>4</th>\n",
       "      <td>Alabama</td>\n",
       "      <td>AL</td>\n",
       "      <td>Blount</td>\n",
       "      <td>009</td>\n",
       "      <td>01009</td>\n",
       "      <td>58992</td>\n",
       "      <td>7.815620e+09</td>\n",
       "      <td>278570859.0</td>\n",
       "      <td>51.369999</td>\n",
       "      <td>2.488382</td>\n",
       "      <td>1009</td>\n",
       "      <td>4.0</td>\n",
       "      <td>1205206.70</td>\n",
       "      <td>62.0</td>\n",
       "      <td>67.0</td>\n",
       "      <td>5000.0</td>\n",
       "      <td>7385.54</td>\n",
       "      <td>0.14120</td>\n",
       "      <td>2.016735e+08</td>\n",
       "      <td>2.369050e+08</td>\n",
       "      <td>4121.46137</td>\n",
       "      <td>149.0</td>\n",
       "      <td>0.00265</td>\n",
       "      <td>1.0</td>\n",
       "      <td>0.00002</td>\n",
       "      <td>95.0</td>\n",
       "      <td>0.0</td>\n",
       "      <td>0.00</td>\n",
       "      <td>0.0</td>\n",
       "      <td>0.0</td>\n",
       "      <td>6.0</td>\n",
       "      <td>5.337763e+07</td>\n",
       "      <td>4.0</td>\n",
       "      <td>0.0</td>\n",
       "      <td>65.0</td>\n",
       "      <td>7.0</td>\n",
       "      <td>1.391430e+07</td>\n",
       "      <td>70.0</td>\n",
       "      <td>33.980880</td>\n",
       "      <td>33.980880</td>\n",
       "      <td>POLYGON ((-86.44414 34.25913, -86.44434 34.256...</td>\n",
       "    </tr>\n",
       "  </tbody>\n",
       "</table>\n",
       "</div>"
      ],
      "text/plain": [
       "     STATE STATEABBRV   COUNTY COUNTYFIPS STCOFIPS  POPULATION    BUILDVALUE  \\\n",
       "0  Alabama         AL  Autauga        001    01001       58764  9.123274e+09   \n",
       "1  Alabama         AL  Baldwin        003    01003      231365  4.596848e+10   \n",
       "2  Alabama         AL  Barbour        005    01005       25160  4.847697e+09   \n",
       "3  Alabama         AL     Bibb        007    01007       22239  3.146947e+09   \n",
       "4  Alabama         AL   Blount        009    01009       58992  7.815620e+09   \n",
       "\n",
       "     AGRIVALUE  SOVI_SCORE  RESL_VALUE  fips  index   HMAprojAmo  AdminCostA  \\\n",
       "0   24613998.0   51.299999    2.604995  1001    0.0   1208458.00      1497.0   \n",
       "1  138089013.0   31.030001    2.745075  1003    1.0  95472063.21    392144.0   \n",
       "2  121075758.0   99.269997    2.383568  1005    2.0     21338.00        76.0   \n",
       "3    4819356.0   80.779999    2.471525  1007    3.0   2931436.47      8383.0   \n",
       "4  278570859.0   51.369999    2.488382  1009    4.0   1205206.70        62.0   \n",
       "\n",
       "   NumfinalPr     CropDmg   CropDmg(AD  CropDmgPer    PropertyDm  \\\n",
       "0       164.0    350000.0    468266.65     9.80179  3.331930e+07   \n",
       "1       126.0  12800000.0  12854448.40    56.06272  3.020712e+09   \n",
       "2         1.0     55000.0     56325.81     2.24697  1.709000e+06   \n",
       "3        88.0         0.0         0.00     0.00000  8.862450e+07   \n",
       "4        67.0      5000.0      7385.54     0.14120  2.016735e+08   \n",
       "\n",
       "     Property_1   Property_2  Injuries  InjuriesPe  Fatalities  Fataliti_1  \\\n",
       "0  4.275979e+07    862.79546      85.0     0.00166        11.0     0.00019   \n",
       "1  3.158598e+09  14629.37470      83.0     0.00063       126.5     0.00081   \n",
       "2  2.254246e+06     76.66573      10.0     0.00035         0.0     0.00000   \n",
       "3  1.041451e+08   4587.46150      76.0     0.00333         6.0     0.00024   \n",
       "4  2.369050e+08   4121.46137     149.0     0.00265         1.0     0.00002   \n",
       "\n",
       "   Duration_D  PAprojectA  PDMprojAmo  PDMcount  PDMNumfina  HMAcount  \\\n",
       "0        77.0         0.0        0.00       0.0         0.0       6.0   \n",
       "1       177.0         0.0   678139.15      13.0         0.0      31.0   \n",
       "2        61.0         0.0        0.00       0.0         0.0       2.0   \n",
       "3        62.0         0.0        0.00       0.0         0.0       3.0   \n",
       "4        95.0         0.0        0.00       0.0         0.0       6.0   \n",
       "\n",
       "        HAtotal  HAcount  PAcount  SBAcount  SBAProjcou    SBAapprove  \\\n",
       "0  7.687544e+06      4.0      0.0      44.0         6.0  1.160600e+06   \n",
       "1  9.947442e+08     34.0      0.0    1634.0        35.0  1.577607e+09   \n",
       "2  2.175617e+05      2.0      0.0      19.0         2.0  1.048000e+05   \n",
       "3  2.454976e+07      4.0      0.0      55.0         4.0  4.280200e+06   \n",
       "4  5.337763e+07      4.0      0.0      65.0         7.0  1.391430e+07   \n",
       "\n",
       "   HazardCoun          x          y  \\\n",
       "0        56.0  32.534932  32.534932   \n",
       "1       146.0  30.736470  30.736470   \n",
       "2        40.0  31.869615  31.869615   \n",
       "3        41.0  32.998655  32.998655   \n",
       "4        70.0  33.980880  33.980880   \n",
       "\n",
       "                                            geometry  \n",
       "0  POLYGON ((-86.41284 32.63589, -86.41279 32.625...  \n",
       "1  MULTIPOLYGON (((-87.92666 30.66002, -87.92688 ...  \n",
       "2  POLYGON ((-85.25954 32.13837, -85.25882 32.138...  \n",
       "3  POLYGON ((-87.02581 33.21717, -87.02573 33.209...  \n",
       "4  POLYGON ((-86.44414 34.25913, -86.44434 34.256...  "
      ]
     },
     "execution_count": 29,
     "metadata": {},
     "output_type": "execute_result"
    }
   ],
   "source": [
    "df_hazard_aggfips.head()"
   ]
  },
  {
   "cell_type": "code",
   "execution_count": 30,
   "metadata": {},
   "outputs": [
    {
     "name": "stdout",
     "output_type": "stream",
     "text": [
      "Empty GeoDataFrame\n",
      "Columns: [STATE, STATEABBRV, COUNTY, COUNTYFIPS, STCOFIPS, POPULATION, BUILDVALUE, AGRIVALUE, SOVI_SCORE, RESL_VALUE, fips, index, HMAprojAmo, AdminCostA, NumfinalPr, CropDmg, CropDmg(AD, CropDmgPer, PropertyDm, Property_1, Property_2, Injuries, InjuriesPe, Fatalities, Fataliti_1, Duration_D, PAprojectA, PDMprojAmo, PDMcount, PDMNumfina, HMAcount, HAtotal, HAcount, PAcount, SBAcount, SBAProjcou, SBAapprove, HazardCoun, x, y, geometry]\n",
      "Index: []\n"
     ]
    }
   ],
   "source": [
    "nan_df = df_hazard_aggfips.isna().any(axis=1)\n",
    "#print(df_hazard_aggfips[nan_df ] )\n",
    "\n",
    "df_hazard_aggfips = df_hazard_aggfips.fillna(0)\n",
    "nan_df = df_hazard_aggfips.isna().any(axis=1)\n",
    "print(df_hazard_aggfips[nan_df ] )\n"
   ]
  },
  {
   "cell_type": "code",
   "execution_count": 31,
   "metadata": {},
   "outputs": [
    {
     "data": {
      "image/png": "[encoded data removed]",
      "text/plain": [
       "<Figure size 432x432 with 1 Axes>"
      ]
     },
     "metadata": {},
     "output_type": "display_data"
    }
   ],
   "source": [
    "\n",
    "fig, ax = plt.subplots(figsize=(6, 6))\n",
    "df_hazard_aggfips.plot(color = 'white', edgecolor = 'black', ax = ax)\n",
    "df_hazard_aggfips.centroid.plot(ax=ax)\n",
    "ax.set_title('Map of Georgia and centroids', fontsize= 2)\n",
    "ax.axis(\"off\")\n",
    "#plt.savefig('myMap.png',dpi=150, bbox_inches='tight')\n",
    "plt.show()\n",
    "\n"
   ]
  },
  {
   "cell_type": "code",
   "execution_count": 32,
   "metadata": {},
   "outputs": [],
   "source": [
    "gwr_selector = Sel_BW(coords, y, X)\n",
    "gwr_bw = gwr_selector.search()"
   ]
  },
  {
   "cell_type": "code",
   "execution_count": 33,
   "metadata": {},
   "outputs": [
    {
     "name": "stdout",
     "output_type": "stream",
     "text": [
      "GWR bandwidth = 77.0\n"
     ]
    }
   ],
   "source": [
    "print('GWR bandwidth =', gwr_bw)\n"
   ]
  },
  {
   "cell_type": "code",
   "execution_count": 34,
   "metadata": {},
   "outputs": [],
   "source": [
    "gwr_results = GWR(coords, y, X, gwr_bw).fit()\n"
   ]
  },
  {
   "cell_type": "code",
   "execution_count": 45,
   "metadata": {},
   "outputs": [
    {
     "name": "stdout",
     "output_type": "stream",
     "text": [
      "AIC = 119384.68123410972\n",
      "AICc = 119501.24504651812\n"
     ]
    },
    {
     "data": {
      "text/plain": [
       "<mgwr.gwr.GWRResults at 0x2a2e2e650>"
      ]
     },
     "execution_count": 45,
     "metadata": {},
     "output_type": "execute_result"
    }
   ],
   "source": [
    "\n",
    "print('AIC =', gwr_results.aic)\n",
    "print('AICc =', gwr_results.aicc)\n",
    "gwr_results"
   ]
  },
  {
   "cell_type": "code",
   "execution_count": 36,
   "metadata": {},
   "outputs": [],
   "source": [
    "df_hazard_aggfips['gwr_R2'] = gwr_results.localR2\n"
   ]
  },
  {
   "cell_type": "code",
   "execution_count": 37,
   "metadata": {},
   "outputs": [],
   "source": [
    "df_hazard_aggfips['gwr_intercept'] = gwr_results.params[:,0]\n",
    "df_hazard_aggfips['gwr_fb']        = gwr_results.params[:,1]\n",
    "df_hazard_aggfips['gwr_aa']        = gwr_results.params[:,2]\n",
    "df_hazard_aggfips['gwr_rural']     = gwr_results.params[:,3]"
   ]
  },
  {
   "cell_type": "code",
   "execution_count": 38,
   "metadata": {},
   "outputs": [
    {
     "data": {
      "text/html": [
       "<div>\n",
       "<style scoped>\n",
       "    .dataframe tbody tr th:only-of-type {\n",
       "        vertical-align: middle;\n",
       "    }\n",
       "\n",
       "    .dataframe tbody tr th {\n",
       "        vertical-align: top;\n",
       "    }\n",
       "\n",
       "    .dataframe thead th {\n",
       "        text-align: right;\n",
       "    }\n",
       "</style>\n",
       "<table border=\"1\" class=\"dataframe\">\n",
       "  <thead>\n",
       "    <tr style=\"text-align: right;\">\n",
       "      <th></th>\n",
       "      <th>0</th>\n",
       "      <th>1</th>\n",
       "      <th>2</th>\n",
       "      <th>3</th>\n",
       "      <th>4</th>\n",
       "      <th>5</th>\n",
       "    </tr>\n",
       "  </thead>\n",
       "  <tbody>\n",
       "    <tr>\n",
       "      <th>0</th>\n",
       "      <td>0.0</td>\n",
       "      <td>0.000000</td>\n",
       "      <td>0.0</td>\n",
       "      <td>0.000000</td>\n",
       "      <td>0.0</td>\n",
       "      <td>0.000000</td>\n",
       "    </tr>\n",
       "    <tr>\n",
       "      <th>1</th>\n",
       "      <td>0.0</td>\n",
       "      <td>2.785069</td>\n",
       "      <td>0.0</td>\n",
       "      <td>-3.220496</td>\n",
       "      <td>0.0</td>\n",
       "      <td>33.917388</td>\n",
       "    </tr>\n",
       "    <tr>\n",
       "      <th>2</th>\n",
       "      <td>0.0</td>\n",
       "      <td>0.000000</td>\n",
       "      <td>0.0</td>\n",
       "      <td>0.000000</td>\n",
       "      <td>0.0</td>\n",
       "      <td>0.000000</td>\n",
       "    </tr>\n",
       "    <tr>\n",
       "      <th>3</th>\n",
       "      <td>0.0</td>\n",
       "      <td>0.000000</td>\n",
       "      <td>0.0</td>\n",
       "      <td>0.000000</td>\n",
       "      <td>0.0</td>\n",
       "      <td>0.000000</td>\n",
       "    </tr>\n",
       "    <tr>\n",
       "      <th>4</th>\n",
       "      <td>0.0</td>\n",
       "      <td>0.000000</td>\n",
       "      <td>0.0</td>\n",
       "      <td>0.000000</td>\n",
       "      <td>0.0</td>\n",
       "      <td>0.000000</td>\n",
       "    </tr>\n",
       "    <tr>\n",
       "      <th>...</th>\n",
       "      <td>...</td>\n",
       "      <td>...</td>\n",
       "      <td>...</td>\n",
       "      <td>...</td>\n",
       "      <td>...</td>\n",
       "      <td>...</td>\n",
       "    </tr>\n",
       "    <tr>\n",
       "      <th>3103</th>\n",
       "      <td>0.0</td>\n",
       "      <td>0.000000</td>\n",
       "      <td>0.0</td>\n",
       "      <td>0.000000</td>\n",
       "      <td>0.0</td>\n",
       "      <td>0.000000</td>\n",
       "    </tr>\n",
       "    <tr>\n",
       "      <th>3104</th>\n",
       "      <td>0.0</td>\n",
       "      <td>0.000000</td>\n",
       "      <td>0.0</td>\n",
       "      <td>0.000000</td>\n",
       "      <td>0.0</td>\n",
       "      <td>0.000000</td>\n",
       "    </tr>\n",
       "    <tr>\n",
       "      <th>3105</th>\n",
       "      <td>0.0</td>\n",
       "      <td>0.000000</td>\n",
       "      <td>0.0</td>\n",
       "      <td>0.000000</td>\n",
       "      <td>0.0</td>\n",
       "      <td>0.000000</td>\n",
       "    </tr>\n",
       "    <tr>\n",
       "      <th>3106</th>\n",
       "      <td>0.0</td>\n",
       "      <td>0.000000</td>\n",
       "      <td>0.0</td>\n",
       "      <td>0.000000</td>\n",
       "      <td>0.0</td>\n",
       "      <td>0.000000</td>\n",
       "    </tr>\n",
       "    <tr>\n",
       "      <th>3107</th>\n",
       "      <td>0.0</td>\n",
       "      <td>0.000000</td>\n",
       "      <td>0.0</td>\n",
       "      <td>0.000000</td>\n",
       "      <td>0.0</td>\n",
       "      <td>0.000000</td>\n",
       "    </tr>\n",
       "  </tbody>\n",
       "</table>\n",
       "<p>3108 rows × 6 columns</p>\n",
       "</div>"
      ],
      "text/plain": [
       "        0         1    2         3    4          5\n",
       "0     0.0  0.000000  0.0  0.000000  0.0   0.000000\n",
       "1     0.0  2.785069  0.0 -3.220496  0.0  33.917388\n",
       "2     0.0  0.000000  0.0  0.000000  0.0   0.000000\n",
       "3     0.0  0.000000  0.0  0.000000  0.0   0.000000\n",
       "4     0.0  0.000000  0.0  0.000000  0.0   0.000000\n",
       "...   ...       ...  ...       ...  ...        ...\n",
       "3103  0.0  0.000000  0.0  0.000000  0.0   0.000000\n",
       "3104  0.0  0.000000  0.0  0.000000  0.0   0.000000\n",
       "3105  0.0  0.000000  0.0  0.000000  0.0   0.000000\n",
       "3106  0.0  0.000000  0.0  0.000000  0.0   0.000000\n",
       "3107  0.0  0.000000  0.0  0.000000  0.0   0.000000\n",
       "\n",
       "[3108 rows x 6 columns]"
      ]
     },
     "execution_count": 38,
     "metadata": {},
     "output_type": "execute_result"
    }
   ],
   "source": [
    "gwr_filtered_t = gwr_results.filter_tvals(alpha = 0.05)\n",
    "\n",
    "pd.DataFrame(gwr_filtered_t)\n"
   ]
  },
  {
   "cell_type": "code",
   "execution_count": 39,
   "metadata": {},
   "outputs": [
    {
     "data": {
      "text/html": [
       "<div>\n",
       "<style scoped>\n",
       "    .dataframe tbody tr th:only-of-type {\n",
       "        vertical-align: middle;\n",
       "    }\n",
       "\n",
       "    .dataframe tbody tr th {\n",
       "        vertical-align: top;\n",
       "    }\n",
       "\n",
       "    .dataframe thead th {\n",
       "        text-align: right;\n",
       "    }\n",
       "</style>\n",
       "<table border=\"1\" class=\"dataframe\">\n",
       "  <thead>\n",
       "    <tr style=\"text-align: right;\">\n",
       "      <th></th>\n",
       "      <th>0</th>\n",
       "      <th>1</th>\n",
       "      <th>2</th>\n",
       "      <th>3</th>\n",
       "      <th>4</th>\n",
       "      <th>5</th>\n",
       "    </tr>\n",
       "  </thead>\n",
       "  <tbody>\n",
       "    <tr>\n",
       "      <th>0</th>\n",
       "      <td>0.0</td>\n",
       "      <td>0.0</td>\n",
       "      <td>0.0</td>\n",
       "      <td>0.0</td>\n",
       "      <td>0.0</td>\n",
       "      <td>0.000000</td>\n",
       "    </tr>\n",
       "    <tr>\n",
       "      <th>1</th>\n",
       "      <td>0.0</td>\n",
       "      <td>0.0</td>\n",
       "      <td>0.0</td>\n",
       "      <td>0.0</td>\n",
       "      <td>0.0</td>\n",
       "      <td>33.917388</td>\n",
       "    </tr>\n",
       "    <tr>\n",
       "      <th>2</th>\n",
       "      <td>0.0</td>\n",
       "      <td>0.0</td>\n",
       "      <td>0.0</td>\n",
       "      <td>0.0</td>\n",
       "      <td>0.0</td>\n",
       "      <td>0.000000</td>\n",
       "    </tr>\n",
       "    <tr>\n",
       "      <th>3</th>\n",
       "      <td>0.0</td>\n",
       "      <td>0.0</td>\n",
       "      <td>0.0</td>\n",
       "      <td>0.0</td>\n",
       "      <td>0.0</td>\n",
       "      <td>0.000000</td>\n",
       "    </tr>\n",
       "    <tr>\n",
       "      <th>4</th>\n",
       "      <td>0.0</td>\n",
       "      <td>0.0</td>\n",
       "      <td>0.0</td>\n",
       "      <td>0.0</td>\n",
       "      <td>0.0</td>\n",
       "      <td>0.000000</td>\n",
       "    </tr>\n",
       "    <tr>\n",
       "      <th>...</th>\n",
       "      <td>...</td>\n",
       "      <td>...</td>\n",
       "      <td>...</td>\n",
       "      <td>...</td>\n",
       "      <td>...</td>\n",
       "      <td>...</td>\n",
       "    </tr>\n",
       "    <tr>\n",
       "      <th>3103</th>\n",
       "      <td>0.0</td>\n",
       "      <td>0.0</td>\n",
       "      <td>0.0</td>\n",
       "      <td>0.0</td>\n",
       "      <td>0.0</td>\n",
       "      <td>0.000000</td>\n",
       "    </tr>\n",
       "    <tr>\n",
       "      <th>3104</th>\n",
       "      <td>0.0</td>\n",
       "      <td>0.0</td>\n",
       "      <td>0.0</td>\n",
       "      <td>0.0</td>\n",
       "      <td>0.0</td>\n",
       "      <td>0.000000</td>\n",
       "    </tr>\n",
       "    <tr>\n",
       "      <th>3105</th>\n",
       "      <td>0.0</td>\n",
       "      <td>0.0</td>\n",
       "      <td>0.0</td>\n",
       "      <td>0.0</td>\n",
       "      <td>0.0</td>\n",
       "      <td>0.000000</td>\n",
       "    </tr>\n",
       "    <tr>\n",
       "      <th>3106</th>\n",
       "      <td>0.0</td>\n",
       "      <td>0.0</td>\n",
       "      <td>0.0</td>\n",
       "      <td>0.0</td>\n",
       "      <td>0.0</td>\n",
       "      <td>0.000000</td>\n",
       "    </tr>\n",
       "    <tr>\n",
       "      <th>3107</th>\n",
       "      <td>0.0</td>\n",
       "      <td>0.0</td>\n",
       "      <td>0.0</td>\n",
       "      <td>0.0</td>\n",
       "      <td>0.0</td>\n",
       "      <td>0.000000</td>\n",
       "    </tr>\n",
       "  </tbody>\n",
       "</table>\n",
       "<p>3108 rows × 6 columns</p>\n",
       "</div>"
      ],
      "text/plain": [
       "        0    1    2    3    4          5\n",
       "0     0.0  0.0  0.0  0.0  0.0   0.000000\n",
       "1     0.0  0.0  0.0  0.0  0.0  33.917388\n",
       "2     0.0  0.0  0.0  0.0  0.0   0.000000\n",
       "3     0.0  0.0  0.0  0.0  0.0   0.000000\n",
       "4     0.0  0.0  0.0  0.0  0.0   0.000000\n",
       "...   ...  ...  ...  ...  ...        ...\n",
       "3103  0.0  0.0  0.0  0.0  0.0   0.000000\n",
       "3104  0.0  0.0  0.0  0.0  0.0   0.000000\n",
       "3105  0.0  0.0  0.0  0.0  0.0   0.000000\n",
       "3106  0.0  0.0  0.0  0.0  0.0   0.000000\n",
       "3107  0.0  0.0  0.0  0.0  0.0   0.000000\n",
       "\n",
       "[3108 rows x 6 columns]"
      ]
     },
     "execution_count": 39,
     "metadata": {},
     "output_type": "execute_result"
    }
   ],
   "source": [
    "gwr_filtered_tc = gwr_results.filter_tvals()\n",
    "pd.DataFrame(gwr_filtered_tc)\n"
   ]
  },
  {
   "cell_type": "code",
   "execution_count": 40,
   "metadata": {},
   "outputs": [
    {
     "data": {
      "text/plain": [
       "<Axes: >"
      ]
     },
     "execution_count": 40,
     "metadata": {},
     "output_type": "execute_result"
    },
    {
     "data": {
      "image/png": "[encoded data removed]",
      "text/plain": [
       "<Figure size 460.8x345.6 with 1 Axes>"
      ]
     },
     "metadata": {},
     "output_type": "display_data"
    }
   ],
   "source": [
    "df_hazard_aggfips.loc[df_hazard_aggfips['gwr_R2'] < 0, 'gwr_R2'] = 0\n",
    "\n",
    "df_hazard_aggfips.gwr_R2.hist()"
   ]
  },
  {
   "cell_type": "code",
   "execution_count": 43,
   "metadata": {},
   "outputs": [
    {
     "data": {
      "image/png": "[encoded data removed]",
      "text/plain": [
       "<Figure size 432x432 with 1 Axes>"
      ]
     },
     "metadata": {},
     "output_type": "display_data"
    }
   ],
   "source": [
    "\n",
    "fig, ax = plt.subplots(figsize=(6, 6))\n",
    "df_hazard_aggfips.plot(column='gwr_R2', cmap = 'coolwarm', linewidth=0.01, \n",
    "                       scheme = 'FisherJenks', k=5, legend=True, \n",
    "                       legend_kwds={'bbox_to_anchor':(1.30, 1.2)},  ax=ax)\n",
    "ax.set_title('Local R2', fontsize= 12)\n",
    "ax.axis(\"off\")\n",
    "#plt.savefig('myMap.png',dpi=150, bbox_inches='tight')\n",
    "plt.show()\n"
   ]
  },
  {
   "cell_type": "code",
   "execution_count": 46,
   "metadata": {},
   "outputs": [
    {
     "ename": "KeyboardInterrupt",
     "evalue": "",
     "output_type": "error",
     "traceback": [
      "\u001b[0;31m---------------------------------------------------------------------------\u001b[0m",
      "\u001b[0;31mKeyboardInterrupt\u001b[0m                         Traceback (most recent call last)",
      "\u001b[1;32m/Users/yuhan/Desktop/paper——revision/Dataprocess/jupitor/mgwr_example.ipynb Cell 20\u001b[0m line \u001b[0;36m1\n\u001b[0;32m----> <a href='vscode-notebook-cell:/Users/yuhan/Desktop/paper%E2%80%94%E2%80%94revision/Dataprocess/jupitor/mgwr_example.ipynb#X23sZmlsZQ%3D%3D?line=0'>1</a>\u001b[0m gwr_p_values_stationarity \u001b[39m=\u001b[39m gwr_results\u001b[39m.\u001b[39;49mspatial_variability(gwr_selector, \u001b[39m500\u001b[39;49m)\n",
      "File \u001b[0;32m~/opt/anaconda3/envs/hazard_env/lib/python3.11/site-packages/mgwr/gwr.py:1223\u001b[0m, in \u001b[0;36mGWRResults.spatial_variability\u001b[0;34m(self, selector, n_iters, seed)\u001b[0m\n\u001b[1;32m   1221\u001b[0m temp_gwr\u001b[39m.\u001b[39mbw \u001b[39m=\u001b[39m temp_bw\n\u001b[1;32m   1222\u001b[0m temp_gwr\u001b[39m.\u001b[39mcoords \u001b[39m=\u001b[39m temp_coords\n\u001b[0;32m-> 1223\u001b[0m temp_params \u001b[39m=\u001b[39m temp_gwr\u001b[39m.\u001b[39;49mfit(\u001b[39m*\u001b[39;49m\u001b[39m*\u001b[39;49mfit_params)\u001b[39m.\u001b[39mparams\n\u001b[1;32m   1224\u001b[0m temp_sd \u001b[39m=\u001b[39m np\u001b[39m.\u001b[39mstd(temp_params, axis\u001b[39m=\u001b[39m\u001b[39m0\u001b[39m)\n\u001b[1;32m   1225\u001b[0m SDs\u001b[39m.\u001b[39mappend(temp_sd)\n",
      "File \u001b[0;32m~/opt/anaconda3/envs/hazard_env/lib/python3.11/site-packages/mgwr/gwr.py:335\u001b[0m, in \u001b[0;36mGWR.fit\u001b[0;34m(self, ini_params, tol, max_iter, solve, lite, pool)\u001b[0m\n\u001b[1;32m    332\u001b[0m \u001b[39melse\u001b[39;00m:\n\u001b[1;32m    333\u001b[0m     rslt \u001b[39m=\u001b[39m \u001b[39mmap\u001b[39m(\u001b[39mself\u001b[39m\u001b[39m.\u001b[39m_local_fit, \u001b[39mrange\u001b[39m(m))  \u001b[39m#sequential\u001b[39;00m\n\u001b[0;32m--> 335\u001b[0m rslt_list \u001b[39m=\u001b[39m \u001b[39mlist\u001b[39m(\u001b[39mzip\u001b[39;49m(\u001b[39m*\u001b[39;49mrslt))\n\u001b[1;32m    336\u001b[0m influ \u001b[39m=\u001b[39m np\u001b[39m.\u001b[39marray(rslt_list[\u001b[39m0\u001b[39m])\u001b[39m.\u001b[39mreshape(\u001b[39m-\u001b[39m\u001b[39m1\u001b[39m, \u001b[39m1\u001b[39m)\n\u001b[1;32m    337\u001b[0m resid \u001b[39m=\u001b[39m np\u001b[39m.\u001b[39marray(rslt_list[\u001b[39m1\u001b[39m])\u001b[39m.\u001b[39mreshape(\u001b[39m-\u001b[39m\u001b[39m1\u001b[39m, \u001b[39m1\u001b[39m)\n",
      "File \u001b[0;32m~/opt/anaconda3/envs/hazard_env/lib/python3.11/site-packages/mgwr/gwr.py:251\u001b[0m, in \u001b[0;36mGWR._local_fit\u001b[0;34m(self, i)\u001b[0m\n\u001b[1;32m    248\u001b[0m wi \u001b[39m=\u001b[39m \u001b[39mself\u001b[39m\u001b[39m.\u001b[39m_build_wi(i, \u001b[39mself\u001b[39m\u001b[39m.\u001b[39mbw)\u001b[39m.\u001b[39mreshape(\u001b[39m-\u001b[39m\u001b[39m1\u001b[39m, \u001b[39m1\u001b[39m)  \u001b[39m#local spatial weights\u001b[39;00m\n\u001b[1;32m    250\u001b[0m \u001b[39mif\u001b[39;00m \u001b[39misinstance\u001b[39m(\u001b[39mself\u001b[39m\u001b[39m.\u001b[39mfamily, Gaussian):\n\u001b[0;32m--> 251\u001b[0m     betas, inv_xtx_xt \u001b[39m=\u001b[39m _compute_betas_gwr(\u001b[39mself\u001b[39;49m\u001b[39m.\u001b[39;49my, \u001b[39mself\u001b[39;49m\u001b[39m.\u001b[39;49mX, wi)\n\u001b[1;32m    252\u001b[0m     predy \u001b[39m=\u001b[39m np\u001b[39m.\u001b[39mdot(\u001b[39mself\u001b[39m\u001b[39m.\u001b[39mX[i], betas)[\u001b[39m0\u001b[39m]\n\u001b[1;32m    253\u001b[0m     resid \u001b[39m=\u001b[39m \u001b[39mself\u001b[39m\u001b[39m.\u001b[39my[i] \u001b[39m-\u001b[39m predy\n",
      "File \u001b[0;32m~/opt/anaconda3/envs/hazard_env/lib/python3.11/site-packages/spglm/iwls.py:37\u001b[0m, in \u001b[0;36m_compute_betas_gwr\u001b[0;34m(y, x, wi)\u001b[0m\n\u001b[1;32m     35\u001b[0m xT \u001b[39m=\u001b[39m (x \u001b[39m*\u001b[39m wi)\u001b[39m.\u001b[39mT\n\u001b[1;32m     36\u001b[0m xtx \u001b[39m=\u001b[39m np\u001b[39m.\u001b[39mdot(xT, x)\n\u001b[0;32m---> 37\u001b[0m xtx_inv_xt \u001b[39m=\u001b[39m linalg\u001b[39m.\u001b[39;49msolve(xtx, xT)\n\u001b[1;32m     38\u001b[0m betas \u001b[39m=\u001b[39m np\u001b[39m.\u001b[39mdot(xtx_inv_xt, y)\n\u001b[1;32m     39\u001b[0m \u001b[39mreturn\u001b[39;00m betas, xtx_inv_xt\n",
      "File \u001b[0;32m~/opt/anaconda3/envs/hazard_env/lib/python3.11/site-packages/scipy/linalg/_basic.py:221\u001b[0m, in \u001b[0;36msolve\u001b[0;34m(a, b, lower, overwrite_a, overwrite_b, check_finite, assume_a, transposed)\u001b[0m\n\u001b[1;32m    219\u001b[0m lu, ipvt, info \u001b[39m=\u001b[39m getrf(a1, overwrite_a\u001b[39m=\u001b[39moverwrite_a)\n\u001b[1;32m    220\u001b[0m _solve_check(n, info)\n\u001b[0;32m--> 221\u001b[0m x, info \u001b[39m=\u001b[39m getrs(lu, ipvt, b1,\n\u001b[1;32m    222\u001b[0m                 trans\u001b[39m=\u001b[39;49mtrans, overwrite_b\u001b[39m=\u001b[39;49moverwrite_b)\n\u001b[1;32m    223\u001b[0m _solve_check(n, info)\n\u001b[1;32m    224\u001b[0m rcond, info \u001b[39m=\u001b[39m gecon(lu, anorm, norm\u001b[39m=\u001b[39mnorm)\n",
      "\u001b[0;31mKeyboardInterrupt\u001b[0m: "
     ]
    }
   ],
   "source": [
    "gwr_p_values_stationarity = gwr_results.spatial_variability(gwr_selector, 500)\n"
   ]
  },
  {
   "cell_type": "code",
   "execution_count": null,
   "metadata": {},
   "outputs": [],
   "source": [
    "gwr_p_values_stationarity\n"
   ]
  },
  {
   "cell_type": "code",
   "execution_count": 47,
   "metadata": {},
   "outputs": [],
   "source": [
    "LCC, VIF, CN, VDP = gwr_results.local_collinearity()\n"
   ]
  },
  {
   "cell_type": "code",
   "execution_count": 48,
   "metadata": {},
   "outputs": [],
   "source": [
    "Zy = (y - y.mean(axis=0)) / y.std(axis=0)\n",
    "ZX = (X - X.mean(axis=0)) / X.std(axis=0)\n"
   ]
  },
  {
   "cell_type": "code",
   "execution_count": 49,
   "metadata": {},
   "outputs": [
    {
     "data": {
      "application/vnd.jupyter.widget-view+json": {
       "model_id": "4c4dc618e3eb445491340bb71578217d",
       "version_major": 2,
       "version_minor": 0
      },
      "text/plain": [
       "Backfitting:   0%|          | 0/200 [00:00<?, ?it/s]"
      ]
     },
     "metadata": {},
     "output_type": "display_data"
    },
    {
     "ename": "KeyboardInterrupt",
     "evalue": "",
     "output_type": "error",
     "traceback": [
      "\u001b[0;31m---------------------------------------------------------------------------\u001b[0m",
      "\u001b[0;31mKeyboardInterrupt\u001b[0m                         Traceback (most recent call last)",
      "\u001b[1;32m/Users/yuhan/Desktop/paper——revision/Dataprocess/jupitor/mgwr_example.ipynb Cell 24\u001b[0m line \u001b[0;36m2\n\u001b[1;32m      <a href='vscode-notebook-cell:/Users/yuhan/Desktop/paper%E2%80%94%E2%80%94revision/Dataprocess/jupitor/mgwr_example.ipynb#X31sZmlsZQ%3D%3D?line=0'>1</a>\u001b[0m mgwr_selector \u001b[39m=\u001b[39m Sel_BW(coords, Zy, ZX, multi\u001b[39m=\u001b[39m\u001b[39mTrue\u001b[39;00m)\n\u001b[0;32m----> <a href='vscode-notebook-cell:/Users/yuhan/Desktop/paper%E2%80%94%E2%80%94revision/Dataprocess/jupitor/mgwr_example.ipynb#X31sZmlsZQ%3D%3D?line=1'>2</a>\u001b[0m mgwr_bw \u001b[39m=\u001b[39m mgwr_selector\u001b[39m.\u001b[39;49msearch()\n\u001b[1;32m      <a href='vscode-notebook-cell:/Users/yuhan/Desktop/paper%E2%80%94%E2%80%94revision/Dataprocess/jupitor/mgwr_example.ipynb#X31sZmlsZQ%3D%3D?line=2'>3</a>\u001b[0m mgwr_bw\n",
      "File \u001b[0;32m~/opt/anaconda3/envs/hazard_env/lib/python3.11/site-packages/mgwr/sel_bw.py:313\u001b[0m, in \u001b[0;36mSel_BW.search\u001b[0;34m(self, search_method, criterion, bw_min, bw_max, interval, tol, max_iter, init_multi, tol_multi, rss_score, max_iter_multi, multi_bw_min, multi_bw_max, bws_same_times, pool, verbose)\u001b[0m\n\u001b[1;32m    310\u001b[0m \u001b[39mself\u001b[39m\u001b[39m.\u001b[39mint_score \u001b[39m=\u001b[39m \u001b[39mnot\u001b[39;00m \u001b[39mself\u001b[39m\u001b[39m.\u001b[39mfixed\n\u001b[1;32m    312\u001b[0m \u001b[39mif\u001b[39;00m \u001b[39mself\u001b[39m\u001b[39m.\u001b[39mmulti:\n\u001b[0;32m--> 313\u001b[0m     \u001b[39mself\u001b[39;49m\u001b[39m.\u001b[39;49m_mbw()\n\u001b[1;32m    314\u001b[0m     \u001b[39mself\u001b[39m\u001b[39m.\u001b[39mparams \u001b[39m=\u001b[39m \u001b[39mself\u001b[39m\u001b[39m.\u001b[39mbw[\u001b[39m3\u001b[39m]  \u001b[39m#params n by k\u001b[39;00m\n\u001b[1;32m    315\u001b[0m     \u001b[39mself\u001b[39m\u001b[39m.\u001b[39msel_hist \u001b[39m=\u001b[39m \u001b[39mself\u001b[39m\u001b[39m.\u001b[39mbw[\u001b[39m-\u001b[39m\u001b[39m2\u001b[39m] \u001b[39m#bw searching history\u001b[39;00m\n",
      "File \u001b[0;32m~/opt/anaconda3/envs/hazard_env/lib/python3.11/site-packages/mgwr/sel_bw.py:399\u001b[0m, in \u001b[0;36mSel_BW._mbw\u001b[0;34m(self)\u001b[0m\n\u001b[1;32m    393\u001b[0m \u001b[39mdef\u001b[39;00m \u001b[39msel_func\u001b[39m(bw_func, bw_min\u001b[39m=\u001b[39m\u001b[39mNone\u001b[39;00m, bw_max\u001b[39m=\u001b[39m\u001b[39mNone\u001b[39;00m):\n\u001b[1;32m    394\u001b[0m     \u001b[39mreturn\u001b[39;00m bw_func\u001b[39m.\u001b[39msearch(\n\u001b[1;32m    395\u001b[0m         search_method\u001b[39m=\u001b[39msearch_method, criterion\u001b[39m=\u001b[39mcriterion,\n\u001b[1;32m    396\u001b[0m         bw_min\u001b[39m=\u001b[39mbw_min, bw_max\u001b[39m=\u001b[39mbw_max, interval\u001b[39m=\u001b[39minterval, tol\u001b[39m=\u001b[39mtol,\n\u001b[1;32m    397\u001b[0m         max_iter\u001b[39m=\u001b[39mmax_iter, pool\u001b[39m=\u001b[39m\u001b[39mself\u001b[39m\u001b[39m.\u001b[39mpool, verbose\u001b[39m=\u001b[39m\u001b[39mFalse\u001b[39;00m)\n\u001b[0;32m--> 399\u001b[0m \u001b[39mself\u001b[39m\u001b[39m.\u001b[39mbw \u001b[39m=\u001b[39m multi_bw(\u001b[39mself\u001b[39;49m\u001b[39m.\u001b[39;49minit_multi, y, X, n, k, family, \u001b[39mself\u001b[39;49m\u001b[39m.\u001b[39;49mtol_multi,\n\u001b[1;32m    400\u001b[0m                    \u001b[39mself\u001b[39;49m\u001b[39m.\u001b[39;49mmax_iter_multi, \u001b[39mself\u001b[39;49m\u001b[39m.\u001b[39;49mrss_score, gwr_func,\n\u001b[1;32m    401\u001b[0m                    bw_func, sel_func, multi_bw_min, multi_bw_max,\n\u001b[1;32m    402\u001b[0m                    bws_same_times, verbose\u001b[39m=\u001b[39;49m\u001b[39mself\u001b[39;49m\u001b[39m.\u001b[39;49mverbose)\n",
      "File \u001b[0;32m~/opt/anaconda3/envs/hazard_env/lib/python3.11/site-packages/mgwr/search.py:223\u001b[0m, in \u001b[0;36mmulti_bw\u001b[0;34m(init, y, X, n, k, family, tol, max_iter, rss_score, gwr_func, bw_func, sel_func, multi_bw_min, multi_bw_max, bws_same_times, verbose)\u001b[0m\n\u001b[1;32m    221\u001b[0m     bw \u001b[39m=\u001b[39m bws[j]\n\u001b[1;32m    222\u001b[0m \u001b[39melse\u001b[39;00m:\n\u001b[0;32m--> 223\u001b[0m     bw \u001b[39m=\u001b[39m sel_func(bw_class, multi_bw_min[j], multi_bw_max[j])\n\u001b[1;32m    224\u001b[0m     gwr_sel_hist\u001b[39m.\u001b[39mappend(deepcopy(bw_class\u001b[39m.\u001b[39msel_hist))\n\u001b[1;32m    226\u001b[0m optim_model \u001b[39m=\u001b[39m gwr_func(temp_y, temp_X, bw)\n",
      "File \u001b[0;32m~/opt/anaconda3/envs/hazard_env/lib/python3.11/site-packages/mgwr/sel_bw.py:394\u001b[0m, in \u001b[0;36mSel_BW._mbw.<locals>.sel_func\u001b[0;34m(bw_func, bw_min, bw_max)\u001b[0m\n\u001b[1;32m    393\u001b[0m \u001b[39mdef\u001b[39;00m \u001b[39msel_func\u001b[39m(bw_func, bw_min\u001b[39m=\u001b[39m\u001b[39mNone\u001b[39;00m, bw_max\u001b[39m=\u001b[39m\u001b[39mNone\u001b[39;00m):\n\u001b[0;32m--> 394\u001b[0m     \u001b[39mreturn\u001b[39;00m bw_func\u001b[39m.\u001b[39;49msearch(\n\u001b[1;32m    395\u001b[0m         search_method\u001b[39m=\u001b[39;49msearch_method, criterion\u001b[39m=\u001b[39;49mcriterion,\n\u001b[1;32m    396\u001b[0m         bw_min\u001b[39m=\u001b[39;49mbw_min, bw_max\u001b[39m=\u001b[39;49mbw_max, interval\u001b[39m=\u001b[39;49minterval, tol\u001b[39m=\u001b[39;49mtol,\n\u001b[1;32m    397\u001b[0m         max_iter\u001b[39m=\u001b[39;49mmax_iter, pool\u001b[39m=\u001b[39;49m\u001b[39mself\u001b[39;49m\u001b[39m.\u001b[39;49mpool, verbose\u001b[39m=\u001b[39;49m\u001b[39mFalse\u001b[39;49;00m)\n",
      "File \u001b[0;32m~/opt/anaconda3/envs/hazard_env/lib/python3.11/site-packages/mgwr/sel_bw.py:319\u001b[0m, in \u001b[0;36mSel_BW.search\u001b[0;34m(self, search_method, criterion, bw_min, bw_max, interval, tol, max_iter, init_multi, tol_multi, rss_score, max_iter_multi, multi_bw_min, multi_bw_max, bws_same_times, pool, verbose)\u001b[0m\n\u001b[1;32m    316\u001b[0m     \u001b[39mself\u001b[39m\u001b[39m.\u001b[39mbw_init \u001b[39m=\u001b[39m \u001b[39mself\u001b[39m\u001b[39m.\u001b[39mbw[\n\u001b[1;32m    317\u001b[0m         \u001b[39m-\u001b[39m\u001b[39m1\u001b[39m]  \u001b[39m#scalar, optimal bw from initial gwr model\u001b[39;00m\n\u001b[1;32m    318\u001b[0m \u001b[39melse\u001b[39;00m:\n\u001b[0;32m--> 319\u001b[0m     \u001b[39mself\u001b[39;49m\u001b[39m.\u001b[39;49m_bw()\n\u001b[1;32m    320\u001b[0m     \u001b[39mself\u001b[39m\u001b[39m.\u001b[39msel_hist \u001b[39m=\u001b[39m \u001b[39mself\u001b[39m\u001b[39m.\u001b[39mbw[\u001b[39m-\u001b[39m\u001b[39m1\u001b[39m]\n\u001b[1;32m    322\u001b[0m \u001b[39mself\u001b[39m\u001b[39m.\u001b[39mpool \u001b[39m=\u001b[39m \u001b[39mNone\u001b[39;00m\n",
      "File \u001b[0;32m~/opt/anaconda3/envs/hazard_env/lib/python3.11/site-packages/mgwr/sel_bw.py:337\u001b[0m, in \u001b[0;36mSel_BW._bw\u001b[0;34m(self)\u001b[0m\n\u001b[1;32m    334\u001b[0m     a, c \u001b[39m=\u001b[39m \u001b[39mself\u001b[39m\u001b[39m.\u001b[39m_init_section(\u001b[39mself\u001b[39m\u001b[39m.\u001b[39mX_glob, \u001b[39mself\u001b[39m\u001b[39m.\u001b[39mX_loc, \u001b[39mself\u001b[39m\u001b[39m.\u001b[39mcoords,\n\u001b[1;32m    335\u001b[0m                               \u001b[39mself\u001b[39m\u001b[39m.\u001b[39mconstant)\n\u001b[1;32m    336\u001b[0m     delta \u001b[39m=\u001b[39m \u001b[39m0.38197\u001b[39m  \u001b[39m#1 - (np.sqrt(5.0)-1.0)/2.0\u001b[39;00m\n\u001b[0;32m--> 337\u001b[0m     \u001b[39mself\u001b[39m\u001b[39m.\u001b[39mbw \u001b[39m=\u001b[39m golden_section(a, c, delta, gwr_func, \u001b[39mself\u001b[39;49m\u001b[39m.\u001b[39;49mtol,\n\u001b[1;32m    338\u001b[0m                              \u001b[39mself\u001b[39;49m\u001b[39m.\u001b[39;49mmax_iter, \u001b[39mself\u001b[39;49m\u001b[39m.\u001b[39;49mint_score,\n\u001b[1;32m    339\u001b[0m                              \u001b[39mself\u001b[39;49m\u001b[39m.\u001b[39;49mverbose)\n\u001b[1;32m    340\u001b[0m \u001b[39melif\u001b[39;00m \u001b[39mself\u001b[39m\u001b[39m.\u001b[39msearch_method \u001b[39m==\u001b[39m \u001b[39m'\u001b[39m\u001b[39minterval\u001b[39m\u001b[39m'\u001b[39m:\n\u001b[1;32m    341\u001b[0m     \u001b[39mself\u001b[39m\u001b[39m.\u001b[39mbw \u001b[39m=\u001b[39m equal_interval(\u001b[39mself\u001b[39m\u001b[39m.\u001b[39mbw_min, \u001b[39mself\u001b[39m\u001b[39m.\u001b[39mbw_max, \u001b[39mself\u001b[39m\u001b[39m.\u001b[39minterval,\n\u001b[1;32m    342\u001b[0m                              gwr_func, \u001b[39mself\u001b[39m\u001b[39m.\u001b[39mint_score, \u001b[39mself\u001b[39m\u001b[39m.\u001b[39mverbose)\n",
      "File \u001b[0;32m~/opt/anaconda3/envs/hazard_env/lib/python3.11/site-packages/mgwr/search.py:71\u001b[0m, in \u001b[0;36mgolden_section\u001b[0;34m(a, c, delta, function, tol, max_iter, int_score, verbose)\u001b[0m\n\u001b[1;32m     69\u001b[0m     score_d \u001b[39m=\u001b[39m \u001b[39mdict\u001b[39m[d]\n\u001b[1;32m     70\u001b[0m \u001b[39melse\u001b[39;00m:\n\u001b[0;32m---> 71\u001b[0m     score_d \u001b[39m=\u001b[39m function(d)\n\u001b[1;32m     72\u001b[0m     \u001b[39mdict\u001b[39m[d] \u001b[39m=\u001b[39m score_d\n\u001b[1;32m     73\u001b[0m     \u001b[39mif\u001b[39;00m verbose:\n",
      "File \u001b[0;32m~/opt/anaconda3/envs/hazard_env/lib/python3.11/site-packages/mgwr/sel_bw.py:329\u001b[0m, in \u001b[0;36mSel_BW._bw.<locals>.<lambda>\u001b[0;34m(bw)\u001b[0m\n\u001b[1;32m    325\u001b[0m \u001b[39mdef\u001b[39;00m \u001b[39m_bw\u001b[39m(\u001b[39mself\u001b[39m):\n\u001b[1;32m    326\u001b[0m     gwr_func \u001b[39m=\u001b[39m \u001b[39mlambda\u001b[39;00m bw: getDiag[\u001b[39mself\u001b[39m\u001b[39m.\u001b[39mcriterion](GWR(\n\u001b[1;32m    327\u001b[0m         \u001b[39mself\u001b[39;49m\u001b[39m.\u001b[39;49mcoords, \u001b[39mself\u001b[39;49m\u001b[39m.\u001b[39;49my, \u001b[39mself\u001b[39;49m\u001b[39m.\u001b[39;49mX_loc, bw, family\u001b[39m=\u001b[39;49m\u001b[39mself\u001b[39;49m\u001b[39m.\u001b[39;49mfamily, kernel\u001b[39m=\u001b[39;49m\n\u001b[1;32m    328\u001b[0m         \u001b[39mself\u001b[39;49m\u001b[39m.\u001b[39;49mkernel, fixed\u001b[39m=\u001b[39;49m\u001b[39mself\u001b[39;49m\u001b[39m.\u001b[39;49mfixed, constant\u001b[39m=\u001b[39;49m\u001b[39mself\u001b[39;49m\u001b[39m.\u001b[39;49mconstant, offset\u001b[39m=\u001b[39;49m\u001b[39mself\u001b[39;49m\u001b[39m.\u001b[39;49m\n\u001b[0;32m--> 329\u001b[0m         offset, spherical\u001b[39m=\u001b[39;49m\u001b[39mself\u001b[39;49m\u001b[39m.\u001b[39;49mspherical)\u001b[39m.\u001b[39;49mfit(lite\u001b[39m=\u001b[39;49m\u001b[39mTrue\u001b[39;49;00m, pool\u001b[39m=\u001b[39;49m\u001b[39mself\u001b[39;49m\u001b[39m.\u001b[39;49mpool))\n\u001b[1;32m    331\u001b[0m     \u001b[39mself\u001b[39m\u001b[39m.\u001b[39m_optimized_function \u001b[39m=\u001b[39m gwr_func\n\u001b[1;32m    333\u001b[0m     \u001b[39mif\u001b[39;00m \u001b[39mself\u001b[39m\u001b[39m.\u001b[39msearch_method \u001b[39m==\u001b[39m \u001b[39m'\u001b[39m\u001b[39mgolden_section\u001b[39m\u001b[39m'\u001b[39m:\n",
      "File \u001b[0;32m~/opt/anaconda3/envs/hazard_env/lib/python3.11/site-packages/mgwr/gwr.py:335\u001b[0m, in \u001b[0;36mGWR.fit\u001b[0;34m(self, ini_params, tol, max_iter, solve, lite, pool)\u001b[0m\n\u001b[1;32m    332\u001b[0m \u001b[39melse\u001b[39;00m:\n\u001b[1;32m    333\u001b[0m     rslt \u001b[39m=\u001b[39m \u001b[39mmap\u001b[39m(\u001b[39mself\u001b[39m\u001b[39m.\u001b[39m_local_fit, \u001b[39mrange\u001b[39m(m))  \u001b[39m#sequential\u001b[39;00m\n\u001b[0;32m--> 335\u001b[0m rslt_list \u001b[39m=\u001b[39m \u001b[39mlist\u001b[39m(\u001b[39mzip\u001b[39;49m(\u001b[39m*\u001b[39;49mrslt))\n\u001b[1;32m    336\u001b[0m influ \u001b[39m=\u001b[39m np\u001b[39m.\u001b[39marray(rslt_list[\u001b[39m0\u001b[39m])\u001b[39m.\u001b[39mreshape(\u001b[39m-\u001b[39m\u001b[39m1\u001b[39m, \u001b[39m1\u001b[39m)\n\u001b[1;32m    337\u001b[0m resid \u001b[39m=\u001b[39m np\u001b[39m.\u001b[39marray(rslt_list[\u001b[39m1\u001b[39m])\u001b[39m.\u001b[39mreshape(\u001b[39m-\u001b[39m\u001b[39m1\u001b[39m, \u001b[39m1\u001b[39m)\n",
      "File \u001b[0;32m~/opt/anaconda3/envs/hazard_env/lib/python3.11/site-packages/mgwr/gwr.py:251\u001b[0m, in \u001b[0;36mGWR._local_fit\u001b[0;34m(self, i)\u001b[0m\n\u001b[1;32m    248\u001b[0m wi \u001b[39m=\u001b[39m \u001b[39mself\u001b[39m\u001b[39m.\u001b[39m_build_wi(i, \u001b[39mself\u001b[39m\u001b[39m.\u001b[39mbw)\u001b[39m.\u001b[39mreshape(\u001b[39m-\u001b[39m\u001b[39m1\u001b[39m, \u001b[39m1\u001b[39m)  \u001b[39m#local spatial weights\u001b[39;00m\n\u001b[1;32m    250\u001b[0m \u001b[39mif\u001b[39;00m \u001b[39misinstance\u001b[39m(\u001b[39mself\u001b[39m\u001b[39m.\u001b[39mfamily, Gaussian):\n\u001b[0;32m--> 251\u001b[0m     betas, inv_xtx_xt \u001b[39m=\u001b[39m _compute_betas_gwr(\u001b[39mself\u001b[39;49m\u001b[39m.\u001b[39;49my, \u001b[39mself\u001b[39;49m\u001b[39m.\u001b[39;49mX, wi)\n\u001b[1;32m    252\u001b[0m     predy \u001b[39m=\u001b[39m np\u001b[39m.\u001b[39mdot(\u001b[39mself\u001b[39m\u001b[39m.\u001b[39mX[i], betas)[\u001b[39m0\u001b[39m]\n\u001b[1;32m    253\u001b[0m     resid \u001b[39m=\u001b[39m \u001b[39mself\u001b[39m\u001b[39m.\u001b[39my[i] \u001b[39m-\u001b[39m predy\n",
      "File \u001b[0;32m~/opt/anaconda3/envs/hazard_env/lib/python3.11/site-packages/spglm/iwls.py:37\u001b[0m, in \u001b[0;36m_compute_betas_gwr\u001b[0;34m(y, x, wi)\u001b[0m\n\u001b[1;32m     35\u001b[0m xT \u001b[39m=\u001b[39m (x \u001b[39m*\u001b[39m wi)\u001b[39m.\u001b[39mT\n\u001b[1;32m     36\u001b[0m xtx \u001b[39m=\u001b[39m np\u001b[39m.\u001b[39mdot(xT, x)\n\u001b[0;32m---> 37\u001b[0m xtx_inv_xt \u001b[39m=\u001b[39m linalg\u001b[39m.\u001b[39;49msolve(xtx, xT)\n\u001b[1;32m     38\u001b[0m betas \u001b[39m=\u001b[39m np\u001b[39m.\u001b[39mdot(xtx_inv_xt, y)\n\u001b[1;32m     39\u001b[0m \u001b[39mreturn\u001b[39;00m betas, xtx_inv_xt\n",
      "File \u001b[0;32m~/opt/anaconda3/envs/hazard_env/lib/python3.11/site-packages/scipy/linalg/_basic.py:221\u001b[0m, in \u001b[0;36msolve\u001b[0;34m(a, b, lower, overwrite_a, overwrite_b, check_finite, assume_a, transposed)\u001b[0m\n\u001b[1;32m    219\u001b[0m lu, ipvt, info \u001b[39m=\u001b[39m getrf(a1, overwrite_a\u001b[39m=\u001b[39moverwrite_a)\n\u001b[1;32m    220\u001b[0m _solve_check(n, info)\n\u001b[0;32m--> 221\u001b[0m x, info \u001b[39m=\u001b[39m getrs(lu, ipvt, b1,\n\u001b[1;32m    222\u001b[0m                 trans\u001b[39m=\u001b[39;49mtrans, overwrite_b\u001b[39m=\u001b[39;49moverwrite_b)\n\u001b[1;32m    223\u001b[0m _solve_check(n, info)\n\u001b[1;32m    224\u001b[0m rcond, info \u001b[39m=\u001b[39m gecon(lu, anorm, norm\u001b[39m=\u001b[39mnorm)\n",
      "\u001b[0;31mKeyboardInterrupt\u001b[0m: "
     ]
    }
   ],
   "source": [
    "mgwr_selector = Sel_BW(coords, Zy, ZX, multi=True)\n",
    "mgwr_bw = mgwr_selector.search()\n",
    "mgwr_bw\n"
   ]
  },
  {
   "cell_type": "code",
   "execution_count": 30,
   "metadata": {},
   "outputs": [],
   "source": [
    "mgwr_results = MGWR(coords, Zy, ZX, mgwr_selector).fit()\n"
   ]
  },
  {
   "cell_type": "code",
   "execution_count": 49,
   "metadata": {},
   "outputs": [
    {
     "ename": "AttributeError",
     "evalue": "module 'numpy' has no attribute 'float'.\n`np.float` was a deprecated alias for the builtin `float`. To avoid this error in existing code, use `float` by itself. Doing this will not modify any behavior and is safe. If you specifically wanted the numpy scalar type, use `np.float64` here.\nThe aliases was originally deprecated in NumPy 1.20; for more details and guidance see the original release note at:\n    https://numpy.org/devdocs/release/1.20.0-notes.html#deprecations",
     "output_type": "error",
     "traceback": [
      "\u001b[0;31m---------------------------------------------------------------------------\u001b[0m",
      "\u001b[0;31mAttributeError\u001b[0m                            Traceback (most recent call last)",
      "Cell \u001b[0;32mIn[49], line 1\u001b[0m\n\u001b[0;32m----> 1\u001b[0m mgwr_results\u001b[39m.\u001b[39;49msummary()\n",
      "File \u001b[0;32m~/opt/anaconda3/envs/hazard_env2/lib/python3.11/site-packages/mgwr/gwr.py:2152\u001b[0m, in \u001b[0;36mMGWRResults.summary\u001b[0;34m(self, as_str)\u001b[0m\n\u001b[1;32m   2136\u001b[0m \u001b[39mdef\u001b[39;00m \u001b[39msummary\u001b[39m(\u001b[39mself\u001b[39m, as_str: \u001b[39mbool\u001b[39m\u001b[39m=\u001b[39m\u001b[39mFalse\u001b[39;00m) \u001b[39m-\u001b[39m\u001b[39m>\u001b[39m Optional[\u001b[39mstr\u001b[39m]:\n\u001b[1;32m   2137\u001b[0m \u001b[39m    \u001b[39m\u001b[39m\"\"\"\u001b[39;00m\n\u001b[1;32m   2138\u001b[0m \u001b[39m    Print out MGWR summary\u001b[39;00m\n\u001b[1;32m   2139\u001b[0m \n\u001b[0;32m   (...)\u001b[0m\n\u001b[1;32m   2150\u001b[0m \u001b[39m                    optional MGWR summary string if `as_str` is True\u001b[39;00m\n\u001b[1;32m   2151\u001b[0m \u001b[39m    \"\"\"\u001b[39;00m\n\u001b[0;32m-> 2152\u001b[0m     summary \u001b[39m=\u001b[39m summaryModel(\u001b[39mself\u001b[39m) \u001b[39m+\u001b[39m summaryGLM(\u001b[39mself\u001b[39;49m) \u001b[39m+\u001b[39m summaryMGWR(\u001b[39mself\u001b[39m)\n\u001b[1;32m   2154\u001b[0m     \u001b[39mif\u001b[39;00m as_str:\n\u001b[1;32m   2155\u001b[0m         \u001b[39mreturn\u001b[39;00m summary\n",
      "File \u001b[0;32m~/opt/anaconda3/envs/hazard_env2/lib/python3.11/site-packages/mgwr/summary.py:19\u001b[0m, in \u001b[0;36msummaryGLM\u001b[0;34m(self)\u001b[0m\n\u001b[1;32m     15\u001b[0m \u001b[39mdef\u001b[39;00m \u001b[39msummaryGLM\u001b[39m(\u001b[39mself\u001b[39m):\n\u001b[1;32m     17\u001b[0m     XNames \u001b[39m=\u001b[39m [\u001b[39m\"\u001b[39m\u001b[39mX\u001b[39m\u001b[39m\"\u001b[39m \u001b[39m+\u001b[39m \u001b[39mstr\u001b[39m(i) \u001b[39mfor\u001b[39;00m i \u001b[39min\u001b[39;00m \u001b[39mrange\u001b[39m(\u001b[39mself\u001b[39m\u001b[39m.\u001b[39mk)]\n\u001b[1;32m     18\u001b[0m     glm_rslt \u001b[39m=\u001b[39m GLM(\u001b[39mself\u001b[39;49m\u001b[39m.\u001b[39;49mmodel\u001b[39m.\u001b[39;49my, \u001b[39mself\u001b[39;49m\u001b[39m.\u001b[39;49mmodel\u001b[39m.\u001b[39;49mX, constant\u001b[39m=\u001b[39;49m\u001b[39mFalse\u001b[39;49;00m,\n\u001b[0;32m---> 19\u001b[0m                    family\u001b[39m=\u001b[39;49m\u001b[39mself\u001b[39;49m\u001b[39m.\u001b[39;49mfamily)\u001b[39m.\u001b[39;49mfit()\n\u001b[1;32m     21\u001b[0m     summary \u001b[39m=\u001b[39m \u001b[39m\"\u001b[39m\u001b[39m%s\u001b[39;00m\u001b[39m\\n\u001b[39;00m\u001b[39m\"\u001b[39m \u001b[39m%\u001b[39m (\u001b[39m'\u001b[39m\u001b[39mGlobal Regression Results\u001b[39m\u001b[39m'\u001b[39m)\n\u001b[1;32m     22\u001b[0m     summary \u001b[39m+\u001b[39m\u001b[39m=\u001b[39m \u001b[39m'\u001b[39m\u001b[39m-\u001b[39m\u001b[39m'\u001b[39m \u001b[39m*\u001b[39m \u001b[39m75\u001b[39m \u001b[39m+\u001b[39m \u001b[39m'\u001b[39m\u001b[39m\\n\u001b[39;00m\u001b[39m'\u001b[39m\n",
      "File \u001b[0;32m~/opt/anaconda3/envs/hazard_env2/lib/python3.11/site-packages/spglm/glm.py:132\u001b[0m, in \u001b[0;36mGLM.fit\u001b[0;34m(self, ini_betas, tol, max_iter, solve)\u001b[0m\n\u001b[1;32m    130\u001b[0m \u001b[39mself\u001b[39m\u001b[39m.\u001b[39mfit_params[\u001b[39m'\u001b[39m\u001b[39msolve\u001b[39m\u001b[39m'\u001b[39m] \u001b[39m=\u001b[39m solve\n\u001b[1;32m    131\u001b[0m \u001b[39mif\u001b[39;00m solve\u001b[39m.\u001b[39mlower() \u001b[39m==\u001b[39m \u001b[39m'\u001b[39m\u001b[39miwls\u001b[39m\u001b[39m'\u001b[39m:\n\u001b[0;32m--> 132\u001b[0m     params, predy, w, n_iter \u001b[39m=\u001b[39m iwls(\n\u001b[1;32m    133\u001b[0m         \u001b[39mself\u001b[39;49m\u001b[39m.\u001b[39;49my, \u001b[39mself\u001b[39;49m\u001b[39m.\u001b[39;49mX, \u001b[39mself\u001b[39;49m\u001b[39m.\u001b[39;49mfamily, \u001b[39mself\u001b[39;49m\u001b[39m.\u001b[39;49moffset, \u001b[39mself\u001b[39;49m\u001b[39m.\u001b[39;49my_fix, ini_betas, tol, max_iter)\n\u001b[1;32m    134\u001b[0m     \u001b[39mself\u001b[39m\u001b[39m.\u001b[39mfit_params[\u001b[39m'\u001b[39m\u001b[39mn_iter\u001b[39m\u001b[39m'\u001b[39m] \u001b[39m=\u001b[39m n_iter\n\u001b[1;32m    135\u001b[0m \u001b[39mreturn\u001b[39;00m GLMResults(\u001b[39mself\u001b[39m, params\u001b[39m.\u001b[39mflatten(), predy, w)\n",
      "File \u001b[0;32m~/opt/anaconda3/envs/hazard_env2/lib/python3.11/site-packages/spglm/iwls.py:111\u001b[0m, in \u001b[0;36miwls\u001b[0;34m(y, x, family, offset, y_fix, ini_betas, tol, max_iter, wi)\u001b[0m\n\u001b[1;32m    108\u001b[0m diff \u001b[39m=\u001b[39m \u001b[39m1.0e6\u001b[39m\n\u001b[1;32m    110\u001b[0m \u001b[39mif\u001b[39;00m ini_betas \u001b[39mis\u001b[39;00m \u001b[39mNone\u001b[39;00m:\n\u001b[0;32m--> 111\u001b[0m     betas \u001b[39m=\u001b[39m np\u001b[39m.\u001b[39mzeros((x\u001b[39m.\u001b[39mshape[\u001b[39m1\u001b[39m], \u001b[39m1\u001b[39m), np\u001b[39m.\u001b[39;49mfloat)\n\u001b[1;32m    112\u001b[0m \u001b[39melse\u001b[39;00m:\n\u001b[1;32m    113\u001b[0m     betas \u001b[39m=\u001b[39m ini_betas\n",
      "File \u001b[0;32m~/opt/anaconda3/envs/hazard_env2/lib/python3.11/site-packages/numpy/__init__.py:305\u001b[0m, in \u001b[0;36m__getattr__\u001b[0;34m(attr)\u001b[0m\n\u001b[1;32m    300\u001b[0m     warnings\u001b[39m.\u001b[39mwarn(\n\u001b[1;32m    301\u001b[0m         \u001b[39mf\u001b[39m\u001b[39m\"\u001b[39m\u001b[39mIn the future `np.\u001b[39m\u001b[39m{\u001b[39;00mattr\u001b[39m}\u001b[39;00m\u001b[39m` will be defined as the \u001b[39m\u001b[39m\"\u001b[39m\n\u001b[1;32m    302\u001b[0m         \u001b[39m\"\u001b[39m\u001b[39mcorresponding NumPy scalar.\u001b[39m\u001b[39m\"\u001b[39m, \u001b[39mFutureWarning\u001b[39;00m, stacklevel\u001b[39m=\u001b[39m\u001b[39m2\u001b[39m)\n\u001b[1;32m    304\u001b[0m \u001b[39mif\u001b[39;00m attr \u001b[39min\u001b[39;00m __former_attrs__:\n\u001b[0;32m--> 305\u001b[0m     \u001b[39mraise\u001b[39;00m \u001b[39mAttributeError\u001b[39;00m(__former_attrs__[attr])\n\u001b[1;32m    307\u001b[0m \u001b[39m# Importing Tester requires importing all of UnitTest which is not a\u001b[39;00m\n\u001b[1;32m    308\u001b[0m \u001b[39m# cheap import Since it is mainly used in test suits, we lazy import it\u001b[39;00m\n\u001b[1;32m    309\u001b[0m \u001b[39m# here to save on the order of 10 ms of import time for most users\u001b[39;00m\n\u001b[1;32m    310\u001b[0m \u001b[39m#\u001b[39;00m\n\u001b[1;32m    311\u001b[0m \u001b[39m# The previous way Tester was imported also had a side effect of adding\u001b[39;00m\n\u001b[1;32m    312\u001b[0m \u001b[39m# the full `numpy.testing` namespace\u001b[39;00m\n\u001b[1;32m    313\u001b[0m \u001b[39mif\u001b[39;00m attr \u001b[39m==\u001b[39m \u001b[39m'\u001b[39m\u001b[39mtesting\u001b[39m\u001b[39m'\u001b[39m:\n",
      "\u001b[0;31mAttributeError\u001b[0m: module 'numpy' has no attribute 'float'.\n`np.float` was a deprecated alias for the builtin `float`. To avoid this error in existing code, use `float` by itself. Doing this will not modify any behavior and is safe. If you specifically wanted the numpy scalar type, use `np.float64` here.\nThe aliases was originally deprecated in NumPy 1.20; for more details and guidance see the original release note at:\n    https://numpy.org/devdocs/release/1.20.0-notes.html#deprecations"
     ]
    }
   ],
   "source": [
    "\n",
    "mgwr_results.summary()\n"
   ]
  },
  {
   "cell_type": "code",
   "execution_count": 32,
   "metadata": {},
   "outputs": [
    {
     "name": "stdout",
     "output_type": "stream",
     "text": [
      "[(57.0, 57.0), (52.0, 54.0), (52.0, 54.0), (2386.0, 3108.0), (2386.0, 3108.0), (44.0, 44.0)]\n"
     ]
    }
   ],
   "source": [
    "mgwr_bw_ci = mgwr_results.get_bws_intervals(mgwr_selector)\n",
    "print(mgwr_bw_ci)\n",
    "\n"
   ]
  },
  {
   "cell_type": "code",
   "execution_count": 51,
   "metadata": {},
   "outputs": [
    {
     "ename": "NameError",
     "evalue": "name 'mgwr_results' is not defined",
     "output_type": "error",
     "traceback": [
      "\u001b[0;31m---------------------------------------------------------------------------\u001b[0m",
      "\u001b[0;31mNameError\u001b[0m                                 Traceback (most recent call last)",
      "\u001b[1;32m/Users/yuhan/Desktop/paper——revision/Dataprocess/jupitor/mgwr_example.ipynb Cell 28\u001b[0m line \u001b[0;36m1\n\u001b[0;32m----> <a href='vscode-notebook-cell:/Users/yuhan/Desktop/paper%E2%80%94%E2%80%94revision/Dataprocess/jupitor/mgwr_example.ipynb#X35sZmlsZQ%3D%3D?line=0'>1</a>\u001b[0m mgwr_results\u001b[39m.\u001b[39mparams\n",
      "\u001b[0;31mNameError\u001b[0m: name 'mgwr_results' is not defined"
     ]
    }
   ],
   "source": [
    "mgwr_results.params"
   ]
  },
  {
   "cell_type": "code",
   "execution_count": 53,
   "metadata": {},
   "outputs": [],
   "source": [
    "#POPULATION', 'BUILDVALUE', 'AGRIVALUE', 'SOVI_SCORE', 'PropertyDm\n",
    "\n",
    "df_hazard_aggfips['mgwr_intercept']     = mgwr_results.params[:,0]\n",
    "df_hazard_aggfips['mgwr_pop']           = mgwr_results.params[:,1]\n",
    "df_hazard_aggfips['mgwr_bval']          = mgwr_results.params[:,2]\n",
    "df_hazard_aggfips['mgwr_agval']         = mgwr_results.params[:,3]\n",
    "df_hazard_aggfips['mgwr_sovi']          = mgwr_results.params[:,4]\n",
    "df_hazard_aggfips['mgwr_damg']          = mgwr_results.params[:,5]\n"
   ]
  },
  {
   "cell_type": "code",
   "execution_count": 52,
   "metadata": {},
   "outputs": [
    {
     "ename": "AttributeError",
     "evalue": "'numpy.ndarray' object has no attribute 'head'",
     "output_type": "error",
     "traceback": [
      "\u001b[0;31m---------------------------------------------------------------------------\u001b[0m",
      "\u001b[0;31mAttributeError\u001b[0m                            Traceback (most recent call last)",
      "Cell \u001b[0;32mIn[52], line 1\u001b[0m\n\u001b[0;32m----> 1\u001b[0m mgwr_results\u001b[39m.\u001b[39;49mparams\u001b[39m.\u001b[39;49mhead()\n",
      "\u001b[0;31mAttributeError\u001b[0m: 'numpy.ndarray' object has no attribute 'head'"
     ]
    }
   ],
   "source": [
    "mgwr_results.params.head()"
   ]
  },
  {
   "cell_type": "code",
   "execution_count": 37,
   "metadata": {},
   "outputs": [
    {
     "data": {
      "text/plain": [
       "array([[  0.        ,   2.96599385,  -2.40842324,   0.        ,\n",
       "          0.        ,   0.        ],\n",
       "       [ -2.85671594,  18.22653315, -14.96825492,   0.        ,\n",
       "          0.        ,  30.44300244],\n",
       "       [  0.        ,   0.        ,   0.        ,   0.        ,\n",
       "          0.        ,   0.        ],\n",
       "       ...,\n",
       "       [  0.        ,   0.        ,   0.        ,   0.        ,\n",
       "          0.        ,   0.        ],\n",
       "       [  0.        ,   0.        ,   0.        ,   0.        ,\n",
       "          0.        ,   0.        ],\n",
       "       [  0.        ,   0.        ,   0.        ,   0.        ,\n",
       "          0.        ,   0.        ]])"
      ]
     },
     "execution_count": 37,
     "metadata": {},
     "output_type": "execute_result"
    }
   ],
   "source": [
    "mgwr_filtered_t = mgwr_results.filter_tvals(alpha = 0.05)\n",
    "mgwr_filtered_t"
   ]
  },
  {
   "cell_type": "code",
   "execution_count": 38,
   "metadata": {},
   "outputs": [
    {
     "data": {
      "text/plain": [
       "array([[  0.        ,   0.        ,   0.        ,   0.        ,\n",
       "          0.        ,   0.        ],\n",
       "       [  0.        ,  18.22653315, -14.96825492,   0.        ,\n",
       "          0.        ,  30.44300244],\n",
       "       [  0.        ,   0.        ,   0.        ,   0.        ,\n",
       "          0.        ,   0.        ],\n",
       "       ...,\n",
       "       [  0.        ,   0.        ,   0.        ,   0.        ,\n",
       "          0.        ,   0.        ],\n",
       "       [  0.        ,   0.        ,   0.        ,   0.        ,\n",
       "          0.        ,   0.        ],\n",
       "       [  0.        ,   0.        ,   0.        ,   0.        ,\n",
       "          0.        ,   0.        ]])"
      ]
     },
     "execution_count": 38,
     "metadata": {},
     "output_type": "execute_result"
    }
   ],
   "source": [
    "mgwr_filtered_tc = mgwr_results.filter_tvals()\n",
    "mgwr_filtered_tc\n"
   ]
  },
  {
   "cell_type": "code",
   "execution_count": 50,
   "metadata": {},
   "outputs": [
    {
     "ename": "KeyError",
     "evalue": "'mgwr_damg'",
     "output_type": "error",
     "traceback": [
      "\u001b[0;31m---------------------------------------------------------------------------\u001b[0m",
      "\u001b[0;31mKeyError\u001b[0m                                  Traceback (most recent call last)",
      "File \u001b[0;32m~/opt/anaconda3/envs/hazard_env/lib/python3.11/site-packages/pandas/core/indexes/base.py:3652\u001b[0m, in \u001b[0;36mIndex.get_loc\u001b[0;34m(self, key)\u001b[0m\n\u001b[1;32m   3651\u001b[0m \u001b[39mtry\u001b[39;00m:\n\u001b[0;32m-> 3652\u001b[0m     \u001b[39mreturn\u001b[39;00m \u001b[39mself\u001b[39;49m\u001b[39m.\u001b[39;49m_engine\u001b[39m.\u001b[39;49mget_loc(casted_key)\n\u001b[1;32m   3653\u001b[0m \u001b[39mexcept\u001b[39;00m \u001b[39mKeyError\u001b[39;00m \u001b[39mas\u001b[39;00m err:\n",
      "File \u001b[0;32m~/opt/anaconda3/envs/hazard_env/lib/python3.11/site-packages/pandas/_libs/index.pyx:147\u001b[0m, in \u001b[0;36mpandas._libs.index.IndexEngine.get_loc\u001b[0;34m()\u001b[0m\n",
      "File \u001b[0;32m~/opt/anaconda3/envs/hazard_env/lib/python3.11/site-packages/pandas/_libs/index.pyx:176\u001b[0m, in \u001b[0;36mpandas._libs.index.IndexEngine.get_loc\u001b[0;34m()\u001b[0m\n",
      "File \u001b[0;32mpandas/_libs/hashtable_class_helper.pxi:7080\u001b[0m, in \u001b[0;36mpandas._libs.hashtable.PyObjectHashTable.get_item\u001b[0;34m()\u001b[0m\n",
      "File \u001b[0;32mpandas/_libs/hashtable_class_helper.pxi:7088\u001b[0m, in \u001b[0;36mpandas._libs.hashtable.PyObjectHashTable.get_item\u001b[0;34m()\u001b[0m\n",
      "\u001b[0;31mKeyError\u001b[0m: 'mgwr_damg'",
      "\nThe above exception was the direct cause of the following exception:\n",
      "\u001b[0;31mKeyError\u001b[0m                                  Traceback (most recent call last)",
      "\u001b[1;32m/Users/yuhan/Desktop/paper——revision/Dataprocess/jupitor/mgwr_example.ipynb Cell 33\u001b[0m line \u001b[0;36m3\n\u001b[1;32m      <a href='vscode-notebook-cell:/Users/yuhan/Desktop/paper%E2%80%94%E2%80%94revision/Dataprocess/jupitor/mgwr_example.ipynb#X43sZmlsZQ%3D%3D?line=0'>1</a>\u001b[0m fig, axes \u001b[39m=\u001b[39m plt\u001b[39m.\u001b[39msubplots(nrows\u001b[39m=\u001b[39m \u001b[39m3\u001b[39m, ncols\u001b[39m=\u001b[39m \u001b[39m1\u001b[39m, figsize\u001b[39m=\u001b[39m(\u001b[39m10\u001b[39m,\u001b[39m18\u001b[39m))\n\u001b[0;32m----> <a href='vscode-notebook-cell:/Users/yuhan/Desktop/paper%E2%80%94%E2%80%94revision/Dataprocess/jupitor/mgwr_example.ipynb#X43sZmlsZQ%3D%3D?line=2'>3</a>\u001b[0m df_hazard_aggfips\u001b[39m.\u001b[39;49mplot(column\u001b[39m=\u001b[39;49m\u001b[39m'\u001b[39;49m\u001b[39mmgwr_damg\u001b[39;49m\u001b[39m'\u001b[39;49m, cmap \u001b[39m=\u001b[39;49m \u001b[39m'\u001b[39;49m\u001b[39mcoolwarm\u001b[39;49m\u001b[39m'\u001b[39;49m, linewidth\u001b[39m=\u001b[39;49m\u001b[39m0.01\u001b[39;49m, scheme \u001b[39m=\u001b[39;49m \u001b[39m'\u001b[39;49m\u001b[39mFisherJenks\u001b[39;49m\u001b[39m'\u001b[39;49m, k\u001b[39m=\u001b[39;49m\u001b[39m5\u001b[39;49m, legend\u001b[39m=\u001b[39;49m\u001b[39mTrue\u001b[39;49;00m, legend_kwds\u001b[39m=\u001b[39;49m{\u001b[39m'\u001b[39;49m\u001b[39mbbox_to_anchor\u001b[39;49m\u001b[39m'\u001b[39;49m:(\u001b[39m1.10\u001b[39;49m, \u001b[39m0.96\u001b[39;49m)},  ax\u001b[39m=\u001b[39;49maxes[\u001b[39m0\u001b[39;49m])\n\u001b[1;32m      <a href='vscode-notebook-cell:/Users/yuhan/Desktop/paper%E2%80%94%E2%80%94revision/Dataprocess/jupitor/mgwr_example.ipynb#X43sZmlsZQ%3D%3D?line=5'>6</a>\u001b[0m df_hazard_aggfips\u001b[39m.\u001b[39mplot(column\u001b[39m=\u001b[39m\u001b[39m'\u001b[39m\u001b[39mmgwr_sovi\u001b[39m\u001b[39m'\u001b[39m, cmap \u001b[39m=\u001b[39m \u001b[39m'\u001b[39m\u001b[39mcoolwarm\u001b[39m\u001b[39m'\u001b[39m, linewidth\u001b[39m=\u001b[39m\u001b[39m0.05\u001b[39m, scheme \u001b[39m=\u001b[39m \u001b[39m'\u001b[39m\u001b[39mFisherJenks\u001b[39m\u001b[39m'\u001b[39m, k\u001b[39m=\u001b[39m\u001b[39m5\u001b[39m, legend\u001b[39m=\u001b[39m\u001b[39mFalse\u001b[39;00m, legend_kwds\u001b[39m=\u001b[39m{\u001b[39m'\u001b[39m\u001b[39mbbox_to_anchor\u001b[39m\u001b[39m'\u001b[39m:(\u001b[39m1.10\u001b[39m, \u001b[39m0.96\u001b[39m)},  ax\u001b[39m=\u001b[39maxes[\u001b[39m1\u001b[39m])\n\u001b[1;32m      <a href='vscode-notebook-cell:/Users/yuhan/Desktop/paper%E2%80%94%E2%80%94revision/Dataprocess/jupitor/mgwr_example.ipynb#X43sZmlsZQ%3D%3D?line=6'>7</a>\u001b[0m df_hazard_aggfips[mgwr_filtered_tc[:,\u001b[39m4\u001b[39m] \u001b[39m==\u001b[39m \u001b[39m0\u001b[39m]\u001b[39m.\u001b[39mplot(color\u001b[39m=\u001b[39m\u001b[39m'\u001b[39m\u001b[39mwhite\u001b[39m\u001b[39m'\u001b[39m, linewidth\u001b[39m=\u001b[39m\u001b[39m0.05\u001b[39m, edgecolor\u001b[39m=\u001b[39m\u001b[39m'\u001b[39m\u001b[39mblack\u001b[39m\u001b[39m'\u001b[39m, ax\u001b[39m=\u001b[39maxes[\u001b[39m1\u001b[39m])\n",
      "File \u001b[0;32m~/opt/anaconda3/envs/hazard_env/lib/python3.11/site-packages/geopandas/plotting.py:969\u001b[0m, in \u001b[0;36mGeoplotAccessor.__call__\u001b[0;34m(self, *args, **kwargs)\u001b[0m\n\u001b[1;32m    967\u001b[0m kind \u001b[39m=\u001b[39m kwargs\u001b[39m.\u001b[39mpop(\u001b[39m\"\u001b[39m\u001b[39mkind\u001b[39m\u001b[39m\"\u001b[39m, \u001b[39m\"\u001b[39m\u001b[39mgeo\u001b[39m\u001b[39m\"\u001b[39m)\n\u001b[1;32m    968\u001b[0m \u001b[39mif\u001b[39;00m kind \u001b[39m==\u001b[39m \u001b[39m\"\u001b[39m\u001b[39mgeo\u001b[39m\u001b[39m\"\u001b[39m:\n\u001b[0;32m--> 969\u001b[0m     \u001b[39mreturn\u001b[39;00m plot_dataframe(data, \u001b[39m*\u001b[39;49margs, \u001b[39m*\u001b[39;49m\u001b[39m*\u001b[39;49mkwargs)\n\u001b[1;32m    970\u001b[0m \u001b[39mif\u001b[39;00m kind \u001b[39min\u001b[39;00m \u001b[39mself\u001b[39m\u001b[39m.\u001b[39m_pandas_kinds:\n\u001b[1;32m    971\u001b[0m     \u001b[39m# Access pandas plots\u001b[39;00m\n\u001b[1;32m    972\u001b[0m     \u001b[39mreturn\u001b[39;00m PlotAccessor(data)(kind\u001b[39m=\u001b[39mkind, \u001b[39m*\u001b[39m\u001b[39m*\u001b[39mkwargs)\n",
      "File \u001b[0;32m~/opt/anaconda3/envs/hazard_env/lib/python3.11/site-packages/geopandas/plotting.py:730\u001b[0m, in \u001b[0;36mplot_dataframe\u001b[0;34m(df, column, cmap, color, ax, cax, categorical, legend, scheme, k, vmin, vmax, markersize, figsize, legend_kwds, categories, classification_kwds, missing_kwds, aspect, **style_kwds)\u001b[0m\n\u001b[1;32m    728\u001b[0m             values \u001b[39m=\u001b[39m values\u001b[39m.\u001b[39mreindex(df\u001b[39m.\u001b[39mindex)\n\u001b[1;32m    729\u001b[0m \u001b[39melse\u001b[39;00m:\n\u001b[0;32m--> 730\u001b[0m     values \u001b[39m=\u001b[39m df[column]\n\u001b[1;32m    732\u001b[0m \u001b[39mif\u001b[39;00m pd\u001b[39m.\u001b[39mapi\u001b[39m.\u001b[39mtypes\u001b[39m.\u001b[39mis_categorical_dtype(values\u001b[39m.\u001b[39mdtype):\n\u001b[1;32m    733\u001b[0m     \u001b[39mif\u001b[39;00m categories \u001b[39mis\u001b[39;00m \u001b[39mnot\u001b[39;00m \u001b[39mNone\u001b[39;00m:\n",
      "File \u001b[0;32m~/opt/anaconda3/envs/hazard_env/lib/python3.11/site-packages/geopandas/geodataframe.py:1475\u001b[0m, in \u001b[0;36mGeoDataFrame.__getitem__\u001b[0;34m(self, key)\u001b[0m\n\u001b[1;32m   1469\u001b[0m \u001b[39mdef\u001b[39;00m \u001b[39m__getitem__\u001b[39m(\u001b[39mself\u001b[39m, key):\n\u001b[1;32m   1470\u001b[0m \u001b[39m    \u001b[39m\u001b[39m\"\"\"\u001b[39;00m\n\u001b[1;32m   1471\u001b[0m \u001b[39m    If the result is a column containing only 'geometry', return a\u001b[39;00m\n\u001b[1;32m   1472\u001b[0m \u001b[39m    GeoSeries. If it's a DataFrame with any columns of GeometryDtype,\u001b[39;00m\n\u001b[1;32m   1473\u001b[0m \u001b[39m    return a GeoDataFrame.\u001b[39;00m\n\u001b[1;32m   1474\u001b[0m \u001b[39m    \"\"\"\u001b[39;00m\n\u001b[0;32m-> 1475\u001b[0m     result \u001b[39m=\u001b[39m \u001b[39msuper\u001b[39;49m()\u001b[39m.\u001b[39;49m\u001b[39m__getitem__\u001b[39;49m(key)\n\u001b[1;32m   1476\u001b[0m     \u001b[39m# Custom logic to avoid waiting for pandas GH51895\u001b[39;00m\n\u001b[1;32m   1477\u001b[0m     \u001b[39m# result is not geometry dtype for multi-indexes\u001b[39;00m\n\u001b[1;32m   1478\u001b[0m     \u001b[39mif\u001b[39;00m (\n\u001b[1;32m   1479\u001b[0m         pd\u001b[39m.\u001b[39mapi\u001b[39m.\u001b[39mtypes\u001b[39m.\u001b[39mis_scalar(key)\n\u001b[1;32m   1480\u001b[0m         \u001b[39mand\u001b[39;00m key \u001b[39m==\u001b[39m \u001b[39m\"\u001b[39m\u001b[39m\"\u001b[39m\n\u001b[0;32m   (...)\u001b[0m\n\u001b[1;32m   1483\u001b[0m         \u001b[39mand\u001b[39;00m \u001b[39mnot\u001b[39;00m is_geometry_type(result)\n\u001b[1;32m   1484\u001b[0m     ):\n",
      "File \u001b[0;32m~/opt/anaconda3/envs/hazard_env/lib/python3.11/site-packages/pandas/core/frame.py:3761\u001b[0m, in \u001b[0;36mDataFrame.__getitem__\u001b[0;34m(self, key)\u001b[0m\n\u001b[1;32m   3759\u001b[0m \u001b[39mif\u001b[39;00m \u001b[39mself\u001b[39m\u001b[39m.\u001b[39mcolumns\u001b[39m.\u001b[39mnlevels \u001b[39m>\u001b[39m \u001b[39m1\u001b[39m:\n\u001b[1;32m   3760\u001b[0m     \u001b[39mreturn\u001b[39;00m \u001b[39mself\u001b[39m\u001b[39m.\u001b[39m_getitem_multilevel(key)\n\u001b[0;32m-> 3761\u001b[0m indexer \u001b[39m=\u001b[39m \u001b[39mself\u001b[39;49m\u001b[39m.\u001b[39;49mcolumns\u001b[39m.\u001b[39;49mget_loc(key)\n\u001b[1;32m   3762\u001b[0m \u001b[39mif\u001b[39;00m is_integer(indexer):\n\u001b[1;32m   3763\u001b[0m     indexer \u001b[39m=\u001b[39m [indexer]\n",
      "File \u001b[0;32m~/opt/anaconda3/envs/hazard_env/lib/python3.11/site-packages/pandas/core/indexes/base.py:3654\u001b[0m, in \u001b[0;36mIndex.get_loc\u001b[0;34m(self, key)\u001b[0m\n\u001b[1;32m   3652\u001b[0m     \u001b[39mreturn\u001b[39;00m \u001b[39mself\u001b[39m\u001b[39m.\u001b[39m_engine\u001b[39m.\u001b[39mget_loc(casted_key)\n\u001b[1;32m   3653\u001b[0m \u001b[39mexcept\u001b[39;00m \u001b[39mKeyError\u001b[39;00m \u001b[39mas\u001b[39;00m err:\n\u001b[0;32m-> 3654\u001b[0m     \u001b[39mraise\u001b[39;00m \u001b[39mKeyError\u001b[39;00m(key) \u001b[39mfrom\u001b[39;00m \u001b[39merr\u001b[39;00m\n\u001b[1;32m   3655\u001b[0m \u001b[39mexcept\u001b[39;00m \u001b[39mTypeError\u001b[39;00m:\n\u001b[1;32m   3656\u001b[0m     \u001b[39m# If we have a listlike key, _check_indexing_error will raise\u001b[39;00m\n\u001b[1;32m   3657\u001b[0m     \u001b[39m#  InvalidIndexError. Otherwise we fall through and re-raise\u001b[39;00m\n\u001b[1;32m   3658\u001b[0m     \u001b[39m#  the TypeError.\u001b[39;00m\n\u001b[1;32m   3659\u001b[0m     \u001b[39mself\u001b[39m\u001b[39m.\u001b[39m_check_indexing_error(key)\n",
      "\u001b[0;31mKeyError\u001b[0m: 'mgwr_damg'"
     ]
    },
    {
     "data": {
      "image/png": "[encoded data removed]",
      "text/plain": [
       "<Figure size 720x1296 with 3 Axes>"
      ]
     },
     "metadata": {},
     "output_type": "display_data"
    }
   ],
   "source": [
    "fig, axes = plt.subplots(nrows= 3, ncols= 1, figsize=(10,18))\n",
    "\n",
    "df_hazard_aggfips.plot(column='mgwr_damg', cmap = 'coolwarm', linewidth=0.01, scheme = 'FisherJenks', k=5, legend=True, legend_kwds={'bbox_to_anchor':(1.10, 0.96)},  ax=axes[0])\n",
    "\n",
    "\n",
    "df_hazard_aggfips.plot(column='mgwr_sovi', cmap = 'coolwarm', linewidth=0.05, scheme = 'FisherJenks', k=5, legend=False, legend_kwds={'bbox_to_anchor':(1.10, 0.96)},  ax=axes[1])\n",
    "df_hazard_aggfips[mgwr_filtered_tc[:,4] == 0].plot(color='white', linewidth=0.05, edgecolor='black', ax=axes[1])\n",
    "\n",
    "\n",
    "df_hazard_aggfips.plot(column='mgwr_damg', cmap = 'coolwarm', linewidth=0.05, scheme = 'FisherJenks', k=5, legend=False, legend_kwds={'bbox_to_anchor':(1.10, 0.96)},  ax=axes[2])\n",
    "df_hazard_aggfips[mgwr_filtered_tc[:,5] == 0].plot(color='white', linewidth=0.05, edgecolor='black', ax=axes[2])\n",
    "\n",
    "plt.tight_layout()\n",
    "\n",
    "axes[0].axis(\"off\")\n",
    "axes[1].axis(\"off\")\n",
    "axes[2].axis(\"off\")\n",
    "\n",
    "axes[0].set_title('(a) MGWR: Foreign born (BW: ' + str(mgwr_bw[1]) +'), all coeffs', fontsize=12)\n",
    "axes[1].set_title('(b) MGWR: Foreign born (BW: ' + str(mgwr_bw[1]) +'), significant coeffs',     fontsize=12)\n",
    "axes[2].set_title('(c) MGWR: Foreign born (BW: ' + str(mgwr_bw[1]) +'), significant coeffs and corr. p-values',     fontsize=12)\n",
    "plt.show()\n"
   ]
  },
  {
   "cell_type": "code",
   "execution_count": 44,
   "metadata": {},
   "outputs": [
    {
     "data": {
      "text/plain": [
       "(3110, 6)"
      ]
     },
     "execution_count": 44,
     "metadata": {},
     "output_type": "execute_result"
    }
   ],
   "source": [
    "mgwr_results.params.shape"
   ]
  }
 ],
 "metadata": {
  "kernelspec": {
   "display_name": "hazard_env",
   "language": "python",
   "name": "python3"
  },
  "language_info": {
   "codemirror_mode": {
    "name": "ipython",
    "version": 3
   },
   "file_extension": ".py",
   "mimetype": "text/x-python",
   "name": "python",
   "nbconvert_exporter": "python",
   "pygments_lexer": "ipython3",
   "version": "3.11.4"
  },
  "orig_nbformat": 4
 },
 "nbformat": 4,
 "nbformat_minor": 2
}
