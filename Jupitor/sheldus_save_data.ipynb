{
 "cells": [
  {
   "cell_type": "code",
   "execution_count": 1,
   "metadata": {},
   "outputs": [],
   "source": [
    "import numpy as np\n",
    "import pandas as pd\n",
    "import seaborn\n",
    "import pysal\n",
    "import mapclassify\n",
    "import time\n",
    "import random\n",
    "import seaborn\n",
    "import pandas\n",
    "import numpy\n",
    "import matplotlib.pyplot as plt\n"
   ]
  },
  {
   "cell_type": "code",
   "execution_count": 2,
   "metadata": {},
   "outputs": [
    {
     "name": "stdout",
     "output_type": "stream",
     "text": [
      "(162475, 82)\n"
     ]
    }
   ],
   "source": [
    "\n",
    "pth_df = r\"/Users/yuhan/Library/CloudStorage/OneDrive-UniversityofTwente/paper——revision/df_final_nogeometry_origscale.csv\"\n",
    "df_final_origscale = pd.read_csv( pth_df )\n",
    "print( df_final_origscale.shape )\n",
    "df_final_origscale['fips'] = df_final_origscale['STCOFIPS'].astype(str)"
   ]
  },
  {
   "cell_type": "code",
   "execution_count": 3,
   "metadata": {},
   "outputs": [
    {
     "name": "stdout",
     "output_type": "stream",
     "text": [
      "[2002. 2003. 2004. 2005. 2006. 2007. 2008. 2009. 2010. 2011. 2012. 2013.\n",
      " 2014. 2015. 2016. 2017. 2001. 2019. 2021. 2020. 2018.]\n",
      "(97702, 39)\n"
     ]
    }
   ],
   "source": [
    "\n",
    "df_final_origscale['SBATotal'] = df_final_origscale['ApprovLoan_h'] + df_final_origscale['ApprovLoan_b']\n",
    "df_final_origscale['HATotal'] = df_final_origscale['HAOAproved'] + df_final_origscale['HARAproved']\n",
    "\n",
    "df_final_agg = df_final_origscale.groupby([ 'fips', 'Year', 'Hazard2', 'STATE', \n",
    "                                          'STATEABBRV', 'COUNTY', 'COUNTYTYPE' ]).agg({\n",
    "    'HMAprojAmot' :  ['sum'], 'HMAfedShaOb':  ['sum'], 'subreciptAdm':  ['sum'],\n",
    "    'srmcOblgdAmt':  ['sum'], 'AdminCostAmt':  ['sum'], 'NumfinalProp':  ['sum'], \n",
    "    'NumProperty':  ['sum'], 'CropDmg':  ['sum'],  'PropertyDmg':  ['sum'],  \n",
    "    'Injuries':  ['sum'], 'Fatalities':  ['sum'], 'Count_h':  ['sum'], \n",
    "    'ApprovLoan_h':  ['sum'], 'Count_b':  ['sum'], 'ApprovLoan_b':  ['sum'], \n",
    "    'HAODamage':  ['sum'],  'HAOCount':  ['sum'], 'HAOAproved':  ['sum'],\n",
    "    'HAORepaRepl':  ['sum'], 'HAORental':  ['sum'], 'HAOOther':  ['sum'], \n",
    "    'HARCount':  ['sum'], 'HARAproved':  ['sum'], 'HARRepaRepl':  ['sum'], \n",
    "    'HARRental':  ['sum'], 'HAROther':  ['sum'],  'PAprojectAmt':  ['sum'], \n",
    "       'PAfedshare':  ['sum'], 'PAtotobl':  ['sum'], 'SOVI_SCORE':  ['mean'],\n",
    "        'SBATotal':  ['sum'], 'HATotal':  ['sum'] }).reset_index()\n",
    "\n",
    "df_final_agg.columns = df_final_agg.columns.droplevel(1)\n",
    "\n",
    "\"\"\" SBAHome_agg.rename(columns={ 'fips': 'fips', 'Year_a': 'Year_a', 'disasternumber': 'disasterNumber', \n",
    "                             'State Name': 'State Name',  'County Name': 'County Name', \n",
    "                             'Year': 'Year', 'Month': 'Month', 'incidentdate_x': 'incidentdate', \n",
    "                             'sheldusdateplace': 'sheldusdateplace', 'ApprovedLoan_h': 'ApprovLoan_h'   }, inplace=True)\n",
    " \"\"\"\n",
    "print( df_final_agg.Year.unique() )\n",
    "print( df_final_agg.shape )\n",
    "\n",
    "#df_final_agg.to_csv(r\"/Users/yuhan/Desktop/df_fips_year.csv\", index=False)\n",
    "#SBAHomereader.to_csv(r\"D:/FLCounty/ACS_County_2000_2019/IHPAsistance.csv\", index=False)\n"
   ]
  },
  {
   "cell_type": "code",
   "execution_count": 4,
   "metadata": {},
   "outputs": [
    {
     "name": "stdout",
     "output_type": "stream",
     "text": [
      "[2001. 2002. 2003. 2004. 2005. 2006. 2007. 2008. 2009. 2010. 2011. 2012.\n",
      " 2013. 2014. 2015. 2016. 2017. 2018. 2019. 2020. 2021.]\n"
     ]
    }
   ],
   "source": [
    "df_final_agg2 = df_final_origscale.groupby([  'Year', 'Hazard2' ]).agg({\n",
    "    'HMAprojAmot' :  ['sum'],   'HMAfedShaOb':  ['sum'],    'subreciptAdm':  ['sum'],\n",
    "    'srmcOblgdAmt':  ['sum'],   'AdminCostAmt':  ['sum'],   'NumfinalProp':  ['sum'], \n",
    "    'NumProperty':  ['sum'],    'CropDmg':  ['sum'],        'PropertyDmg':  ['sum'],  \n",
    "    'Injuries':  ['sum'],       'Fatalities':  ['sum'],     'Count_h':  ['sum'], \n",
    "    'ApprovLoan_h':  ['sum'],   'Count_b':  ['sum'],        'ApprovLoan_b':  ['sum'], \n",
    "    'HAODamage':  ['sum'],      'HAOCount':  ['sum'],       'HAOAproved':  ['sum'],\n",
    "    'HAORepaRepl':  ['sum'],    'HAORental':  ['sum'],      'HAOOther':  ['sum'], \n",
    "    'HARCount':  ['sum'],       'HARAproved':  ['sum'],     'HARRepaRepl':  ['sum'], \n",
    "    'HARRental':  ['sum'],      'HAROther':  ['sum'],       'PAprojectAmt':  ['sum'], \n",
    "    'PAfedshare':  ['sum'],     'PAtotobl':  ['sum'],       'SBATotal':  ['sum'], \n",
    "    'HATotal':  ['sum'] }).reset_index()\n",
    "\n",
    "df_final_agg2.columns = df_final_agg2.columns.droplevel(1)\n",
    "\"\"\" SBAHome_agg.rename(columns={ 'fips': 'fips', 'Year_a': 'Year_a', 'disasternumber': 'disasterNumber', \n",
    "                             'State Name': 'State Name',  'County Name': 'County Name', \n",
    "                             'Year': 'Year', 'Month': 'Month', 'incidentdate_x': 'incidentdate', \n",
    "                             'sheldusdateplace': 'sheldusdateplace', 'ApprovedLoan_h': 'ApprovLoan_h'   }, inplace=True)\n",
    " \"\"\"\n",
    "print( df_final_agg2.Year.unique() )\n"
   ]
  },
  {
   "cell_type": "code",
   "execution_count": 5,
   "metadata": {},
   "outputs": [],
   "source": [
    "\n",
    "df_PropertyDmg_agg2 = df_final_agg2.pivot_table(values= [ 'PropertyDmg'], index=['Year'],\n",
    "                       columns=['Hazard2'], aggfunc=np.sum).reset_index()\n",
    "\n",
    "df_PropertyDmg_agg2.columns = df_PropertyDmg_agg2.columns.droplevel(0)\n",
    "\n",
    "df_PropertyDmg_agg2.to_csv(r\"/Users/yuhan/Library/CloudStorage/OneDrive-UniversityofTwente/paper——revision/hazard_PropertyDmg_year.csv\", index=False)\n"
   ]
  },
  {
   "cell_type": "code",
   "execution_count": 7,
   "metadata": {},
   "outputs": [],
   "source": [
    "\n",
    "\n",
    "df_HMA_agg2 = df_final_agg2.pivot_table(values= ['HMAprojAmot'], index=['Year'],\n",
    "                       columns=['Hazard2'], aggfunc=np.sum).reset_index()\n",
    "\n",
    "df_HMA_agg2.columns = df_HMA_agg2.columns.droplevel(0)\n",
    "                                                    \n",
    "df_HMA_agg2.to_csv(r\"/Users/yuhan/Library/CloudStorage/OneDrive-UniversityofTwente/paper——revision/hazard_HMAprojAmot_year.csv\", index=False)\n"
   ]
  },
  {
   "cell_type": "code",
   "execution_count": 24,
   "metadata": {},
   "outputs": [],
   "source": [
    "\n",
    "\n",
    "df_PA_agg2 = df_final_agg2.pivot_table(values= [ 'PAprojectAmt'], index=['Year'],\n",
    "                       columns=['Hazard2'], aggfunc=np.sum).reset_index()\n",
    "\n",
    "df_PA_agg2.columns = df_PA_agg2.columns.droplevel(0)\n",
    "\n",
    "df_PA_agg2.to_csv(r\"/Users/yuhan/Desktop/paper——revision/hazard_PAAmt_year.csv\", index=False)\n"
   ]
  },
  {
   "cell_type": "code",
   "execution_count": 25,
   "metadata": {},
   "outputs": [],
   "source": [
    "\n",
    "df_SBA_agg2 = df_final_agg2.pivot_table(values= [ 'SBATotal'], index=['Year'],\n",
    "                       columns=['Hazard2'], aggfunc=np.sum).reset_index()\n",
    "df_SBA_agg2.columns = df_SBA_agg2.columns.droplevel(0)\n",
    "\n",
    "df_SBA_agg2.to_csv(r\"/Users/yuhan/Desktop/paper——revision/hazard_SBATotal_year.csv\", index=False)\n",
    "\n"
   ]
  },
  {
   "cell_type": "code",
   "execution_count": 26,
   "metadata": {},
   "outputs": [],
   "source": [
    "\n",
    "\n",
    "df_HA_agg2 = df_final_agg2.pivot_table(values= [ 'HATotal'], index=['Year'],\n",
    "                       columns=['Hazard2'], aggfunc=np.sum).reset_index()\n",
    "df_HA_agg2.columns = df_HA_agg2.columns.droplevel(0)\n",
    "\n",
    "df_HA_agg2.to_csv(r\"/Users/yuhan/Library/CloudStorage/OneDrive-UniversityofTwente/paper——revision/hazard_HATotal_year.csv\", index=False)\n",
    "\n"
   ]
  },
  {
   "cell_type": "code",
   "execution_count": 28,
   "metadata": {},
   "outputs": [
    {
     "name": "stdout",
     "output_type": "stream",
     "text": [
      "29426487441494.73\n",
      "40619427144.24\n",
      "2290654327053.2803\n",
      "102975408475.72\n",
      "1337315437894.55\n",
      "1337315437894.55\n"
     ]
    }
   ],
   "source": [
    "print( df_final_agg2.PropertyDmg.sum() )\n",
    "print( df_final_agg2.HMAprojAmot.sum() )\n",
    "print( df_final_agg2.PAprojectAmt.sum() )\n",
    "print( df_final_agg2.SBATotal.sum() )\n",
    "print( df_final_agg2.HATotal.sum() )\n"
   ]
  },
  {
   "cell_type": "code",
   "execution_count": 29,
   "metadata": {},
   "outputs": [
    {
     "name": "stdout",
     "output_type": "stream",
     "text": [
      "1546650946.83\n"
     ]
    }
   ],
   "source": [
    "HMA_PMD_pth = r\"/Users/yuhan/Desktop/paper——revision/HMA_PMD.csv\"\n",
    "PDMData = pd.read_csv( HMA_PMD_pth )\n",
    "PDMData['projectAmount'] = PDMData['projectAmount'].astype(float)\n",
    "\n",
    "print( PDMData.projectAmount.sum() )\n",
    "\n"
   ]
  },
  {
   "cell_type": "code",
   "execution_count": 30,
   "metadata": {},
   "outputs": [
    {
     "data": {
      "text/plain": [
       "Index(['fips', 'State Name', 'County Name', 'Year', 'Month',\n",
       "       'sheldusdateplace', 'HMAprojAmot', 'HMAfedShaOb', 'subreciptAdm',\n",
       "       'srmcOblgdAmt', 'AdminCostAmt', 'NumfinalProp', 'NumProperty',\n",
       "       'duration_years', 'duration', 'Hazard', 'CropDmg', 'CropDmg(ADJ 2021)',\n",
       "       'CropDmgPerCapita(ADJ 2021)', 'PropertyDmg', 'PropertyDmg(ADJ 2021)',\n",
       "       'PropertyDmgPerCapita(ADJ 2021)', 'Injuries', 'InjuriesPerCapita',\n",
       "       'Fatalities', 'FatalitiesPerCapita', 'Duration_Days',\n",
       "       'disasterNumber_x', 'incidentdate_x', 'Count_h', 'ApprovLoan_h',\n",
       "       'disasterNumber_y', 'incidentdate_y', 'Count_b', 'ApprovLoan_b',\n",
       "       'disasterNumber', 'incidentdate', 'HAODamage', 'HAOCount', 'HAOAproved',\n",
       "       'HAORepaRepl', 'HAORental', 'HAOOther', 'HARCount', 'HARAproved',\n",
       "       'HARRepaRepl', 'HARRental', 'HAROther', 'PAprojectAmt', 'PAfedshare',\n",
       "       'PAtotobl', 'NRI_ID', 'STATE', 'STATEABBRV', 'COUNTY', 'COUNTYTYPE',\n",
       "       'STCOFIPS', 'POPULATION', 'BUILDVALUE', 'AGRIVALUE', 'AREA',\n",
       "       'RISK_VALUE', 'RISK_SCORE', 'RISK_RATNG', 'RISK_SPCTL', 'EAL_VALT',\n",
       "       'EAL_VALB', 'EAL_VALP', 'EAL_VALPE', 'EAL_VALA', 'ALR_VALB', 'ALR_VALP',\n",
       "       'ALR_VALA', 'ALR_NPCTL', 'SOVI_SCORE', 'SOVI_RATNG', 'SOVI_SPCTL',\n",
       "       'RESL_SCORE', 'RESL_RATNG', 'RESL_SPCTL', 'RESL_VALUE', 'Hazard2',\n",
       "       'SBATotal', 'HATotal'],\n",
       "      dtype='object')"
      ]
     },
     "execution_count": 30,
     "metadata": {},
     "output_type": "execute_result"
    }
   ],
   "source": [
    "df_final_origscale.columns"
   ]
  },
  {
   "cell_type": "code",
   "execution_count": 36,
   "metadata": {},
   "outputs": [
    {
     "name": "stdout",
     "output_type": "stream",
     "text": [
      "(150398, 84)\n",
      "(12077, 84)\n",
      "172875291559.72\n",
      "29478858765080.11\n"
     ]
    }
   ],
   "source": [
    "print( df_final_origscale.loc[df_final_origscale[\"disasterNumber_x\"] == 0].shape )\n",
    "print( df_final_origscale.loc[df_final_origscale[\"disasterNumber_x\"] != 0].shape )\n",
    "\n",
    "df_final_origscale['totaldamg'] = df_final_origscale['PropertyDmg'] + df_final_origscale['CropDmg']\n",
    "print( df_final_origscale.loc[df_final_origscale[\"disasterNumber_x\"] == 0].totaldamg.sum() )\n",
    "print( df_final_origscale.loc[df_final_origscale[\"disasterNumber_x\"] != 0].totaldamg.sum() )"
   ]
  },
  {
   "cell_type": "code",
   "execution_count": null,
   "metadata": {},
   "outputs": [],
   "source": [
    "\n",
    "\n",
    "df_final_origscale.groupby([  'Year', 'Hazard2' ]).agg({\n",
    "    'HMAprojAmot' :  ['sum'],   'HMAfedShaOb':  ['sum'],    'subreciptAdm':  ['sum'],\n",
    "    'srmcOblgdAmt':  ['sum'],   'AdminCostAmt':  ['sum'],   'NumfinalProp':  ['sum'], \n",
    "    'NumProperty':  ['sum'],    'CropDmg':  ['sum'],        'PropertyDmg':  ['sum'],  \n",
    "    'Injuries':  ['sum'],       'Fatalities':  ['sum'],     'Count_h':  ['sum'], \n",
    "    'ApprovLoan_h':  ['sum'],   'Count_b':  ['sum'],        'ApprovLoan_b':  ['sum'], \n",
    "    'HAODamage':  ['sum'],      'HAOCount':  ['sum'],       'HAOAproved':  ['sum'],\n",
    "    'HAORepaRepl':  ['sum'],    'HAORental':  ['sum'],      'HAOOther':  ['sum'], \n",
    "    'HARCount':  ['sum'],       'HARAproved':  ['sum'],     'HARRepaRepl':  ['sum'], \n",
    "    'HARRental':  ['sum'],      'HAROther':  ['sum'],       'PAprojectAmt':  ['sum'], \n",
    "    'PAfedshare':  ['sum'],     'PAtotobl':  ['sum'],       'SBATotal':  ['sum'], \n",
    "    'HATotal':  ['sum'] }).reset_index()\n",
    "\n"
   ]
  },
  {
   "cell_type": "code",
   "execution_count": 43,
   "metadata": {},
   "outputs": [
    {
     "name": "stdout",
     "output_type": "stream",
     "text": [
      "MultiIndex([(                'Hazard2',    ''),\n",
      "            (            'PropertyDmg', 'sum'),\n",
      "            (            'HMAprojAmot', 'sum'),\n",
      "            (           'PAprojectAmt', 'sum'),\n",
      "            (               'SBATotal', 'sum'),\n",
      "            (                'HATotal', 'sum'),\n",
      "            (              'totaldamg', 'sum'),\n",
      "            ('TotalDisasterAssistance', 'sum')],\n",
      "           )\n",
      "                          Hazard2   PropertyDmg   HMAprojAmot  PAprojectAmt  \\\n",
      "0                    Drought/Heat  9.085308e+09  1.097137e+08  7.659944e+09   \n",
      "1    Earthquake/Volcano/Landslide  4.538247e+10  8.534559e+07  6.673883e+07   \n",
      "2                        Flooding  2.252067e+13  2.242893e+10  2.117241e+12   \n",
      "3                    Other Hazard  5.288355e+08  1.340818e+07  0.000000e+00   \n",
      "4  Severe Storm/Hurricane/Tornado  6.040882e+12  1.203953e+10  1.407072e+11   \n",
      "5            Severe/Thunder Storm  4.710576e+10  1.213781e+09  6.390509e+08   \n",
      "6                        Wildfire  1.882934e+11  1.727040e+08  1.768550e+08   \n",
      "7                            Wind  8.984470e+10  3.977772e+09  2.306373e+10   \n",
      "8                  Winter Weather  4.846972e+11  5.782412e+08  1.099797e+09   \n",
      "\n",
      "       SBATotal       HATotal     totaldamg  TotalDisasterAssistance  \n",
      "0  1.190179e+08  3.333911e+09  2.858637e+10             1.122259e+10  \n",
      "1  3.062985e+08  1.268786e+08  4.598816e+10             5.852615e+08  \n",
      "2  5.752878e+10  8.061634e+11  2.257809e+13             3.003362e+12  \n",
      "3  2.306320e+07  2.321903e+07  5.312655e+08             5.969040e+07  \n",
      "4  3.864779e+10  5.082530e+11  6.156772e+12             6.996474e+11  \n",
      "5  6.934922e+08  2.152379e+09  4.735698e+10             4.698704e+09  \n",
      "6  8.742772e+08  4.143396e+08  1.889699e+11             1.638176e+09  \n",
      "7  4.195188e+09  1.630548e+10  1.134381e+11             4.754217e+10  \n",
      "8  5.875066e+08  5.428377e+08  4.919974e+11             2.808382e+09  \n"
     ]
    }
   ],
   "source": [
    "\n",
    "df_final_agg2['TotalDisasterAssistance'] = df_final_agg2['HMAprojAmot'] + df_final_agg2['PAprojectAmt'] + df_final_agg2['HATotal'] + df_final_agg2['SBATotal'] \n",
    "df_final_agg2['totaldamg'] = df_final_agg2['PropertyDmg'] + df_final_agg2['CropDmg']\n",
    "\n",
    "\n",
    "df_final_agg3 = df_final_agg2.groupby([  'Hazard2' ]).agg({\n",
    "    'PropertyDmg'               :  ['sum'], \n",
    "    'HMAprojAmot'               :  ['sum'], \n",
    "    'PAprojectAmt'              :  ['sum'],\n",
    "    'SBATotal'                  :  ['sum'],\n",
    "    'HATotal'                   :  ['sum'],\n",
    "    'totaldamg'                 :  ['sum'], \n",
    "    'TotalDisasterAssistance'   :  ['sum'] }).reset_index()\n",
    "\n",
    "print( df_final_agg3.columns )\n",
    "\n",
    "df_final_agg3.columns = df_final_agg3.columns.droplevel(1)\n",
    "\n",
    "print( df_final_agg3 )\n",
    "\n",
    "df_final_agg3.to_csv(r\"/Users/yuhan/Desktop/paper——revision/hazard_totals.csv\", index=False)\n"
   ]
  },
  {
   "cell_type": "code",
   "execution_count": 42,
   "metadata": {},
   "outputs": [
    {
     "data": {
      "image/png": "[encoded data removed]",
      "text/plain": [
       "<Figure size 640x480 with 1 Axes>"
      ]
     },
     "metadata": {},
     "output_type": "display_data"
    }
   ],
   "source": [
    "df_final_agg3.plot.bar( x = 'Hazard2', y = 'PropertyDmg', color ='maroon',\n",
    "        width = 0.4)\n",
    " \n",
    "plt.xlabel(\"Courses offered\")\n",
    "plt.ylabel(\"No. of students enrolled\")\n",
    "plt.title(\"Students enrolled in different courses\")\n",
    "plt.show()"
   ]
  }
 ],
 "metadata": {
  "kernelspec": {
   "display_name": "hazard_env",
   "language": "python",
   "name": "python3"
  },
  "language_info": {
   "codemirror_mode": {
    "name": "ipython",
    "version": 3
   },
   "file_extension": ".py",
   "mimetype": "text/x-python",
   "name": "python",
   "nbconvert_exporter": "python",
   "pygments_lexer": "ipython3",
   "version": "3.11.4"
  },
  "orig_nbformat": 4
 },
 "nbformat": 4,
 "nbformat_minor": 2
}
