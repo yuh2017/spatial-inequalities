{
 "cells": [
  {
   "cell_type": "code",
   "execution_count": 1,
   "metadata": {},
   "outputs": [
    {
     "name": "stderr",
     "output_type": "stream",
     "text": [
      "/Users/yuhan/opt/anaconda3/envs/hazard_env/lib/python3.11/site-packages/libpysal/cg/alpha_shapes.py:38: NumbaDeprecationWarning: \u001b[1mThe 'nopython' keyword argument was not supplied to the 'numba.jit' decorator. The implicit default value for this argument is currently False, but it will be changed to True in Numba 0.59.0. See https://numba.readthedocs.io/en/stable/reference/deprecation.html#deprecation-of-object-mode-fall-back-behaviour-when-using-jit for details.\u001b[0m\n",
      "  @jit\n",
      "/Users/yuhan/opt/anaconda3/envs/hazard_env/lib/python3.11/site-packages/libpysal/cg/alpha_shapes.py:164: NumbaDeprecationWarning: \u001b[1mThe 'nopython' keyword argument was not supplied to the 'numba.jit' decorator. The implicit default value for this argument is currently False, but it will be changed to True in Numba 0.59.0. See https://numba.readthedocs.io/en/stable/reference/deprecation.html#deprecation-of-object-mode-fall-back-behaviour-when-using-jit for details.\u001b[0m\n",
      "  @jit\n",
      "/Users/yuhan/opt/anaconda3/envs/hazard_env/lib/python3.11/site-packages/libpysal/cg/alpha_shapes.py:198: NumbaDeprecationWarning: \u001b[1mThe 'nopython' keyword argument was not supplied to the 'numba.jit' decorator. The implicit default value for this argument is currently False, but it will be changed to True in Numba 0.59.0. See https://numba.readthedocs.io/en/stable/reference/deprecation.html#deprecation-of-object-mode-fall-back-behaviour-when-using-jit for details.\u001b[0m\n",
      "  @jit\n",
      "/Users/yuhan/opt/anaconda3/envs/hazard_env/lib/python3.11/site-packages/libpysal/cg/alpha_shapes.py:260: NumbaDeprecationWarning: \u001b[1mThe 'nopython' keyword argument was not supplied to the 'numba.jit' decorator. The implicit default value for this argument is currently False, but it will be changed to True in Numba 0.59.0. See https://numba.readthedocs.io/en/stable/reference/deprecation.html#deprecation-of-object-mode-fall-back-behaviour-when-using-jit for details.\u001b[0m\n",
      "  @jit\n"
     ]
    }
   ],
   "source": [
    "import numpy as np\n",
    "import pandas as pd\n",
    "import geopandas as gpd\n",
    "import plotly.express as px\n",
    "import mapclassify\n",
    "import matplotlib.pyplot as plt\n",
    "from matplotlib_scalebar.scalebar import ScaleBar\n",
    "import time\n",
    "import random\n",
    "import matplotlib.pyplot as plt\n",
    "from shapely import wkt\n",
    "import scipy \n",
    "from scipy import stats \n",
    "from libpysal.weights import Queen, KNN\n",
    "from mpl_toolkits.axes_grid1 import make_axes_locatable\n",
    "from mpl_toolkits.axes_grid1.inset_locator import inset_axes\n",
    "import pygeoda\n",
    "from tabulate import tabulate\n",
    "from esda.moran import Moran_BV, Moran_Local_BV\n",
    "from splot.esda import plot_moran_bv_simulation, plot_moran_bv\n",
    "import re"
   ]
  },
  {
   "cell_type": "code",
   "execution_count": 2,
   "metadata": {},
   "outputs": [
    {
     "name": "stdout",
     "output_type": "stream",
     "text": [
      "Index(['Unnamed: 0', 'fips', 'Year', 'HMAprojAmot', 'NumProperty', 'NumHMA',\n",
      "       'Hazard2', 'disasternumber_x', 'CropDmg', 'CropDmg21',\n",
      "       'CropDmgPerCapita21', 'PropertyDmg', 'ProDmg21', 'ProDmgPerCapita21',\n",
      "       'Injuries', 'InjuriesPerCapita', 'Fatalities', 'FatalitiesPerCapita',\n",
      "       'Duration_Days', 'Count_h', 'ApprovLoan_h', 'Count_b', 'ApprovLoan_b',\n",
      "       'HAODamage', 'HAOCount', 'HAOAproved', 'HAORepaRepl', 'HAORental',\n",
      "       'HAOOther', 'HARCount', 'HARAproved', 'HARRepaRepl', 'HARRental',\n",
      "       'HAROther', 'PAprojectAmt', 'PAfedshare', 'PAtotobl', 'NRI_ID', 'STATE',\n",
      "       'STATEABBRV', 'COUNTY', 'COUNTYTYPE', 'STCOFIPS', 'POPULATION',\n",
      "       'BUILDVALUE', 'AGRIVALUE', 'AREA', 'RISK_VALUE', 'RISK_SCORE',\n",
      "       'RISK_RATNG', 'RISK_SPCTL', 'EAL_VALT', 'EAL_VALB', 'EAL_VALP',\n",
      "       'EAL_VALPE', 'EAL_VALA', 'ALR_VALB', 'ALR_VALP', 'ALR_VALA',\n",
      "       'ALR_NPCTL', 'SOVI_SCORE', 'SOVI_RATNG', 'SOVI_SPCTL', 'RESL_SCORE',\n",
      "       'RESL_RATNG', 'RESL_SPCTL', 'RESL_VALUE', 'x', 'y'],\n",
      "      dtype='object')\n",
      "programFy unique  [2014. 2016. 2003. 2005. 2017. 2015. 2018. 2012. 2007. 2010. 2011. 2013.\n",
      " 2008. 2009. 2006. 2000. 2002. 2004.]\n"
     ]
    }
   ],
   "source": [
    "df_final = pd.read_csv(r\"/Users/yuhan/Desktop/paper——revision/df_final.csv\")\n",
    "HMA_PMD_pth = r\"/Users/yuhan/Desktop/paper——revision/HMA_PMD.csv\"\n",
    "PDMData = pd.read_csv( HMA_PMD_pth )\n",
    "\n",
    "print( df_final.columns)\n",
    "print( \"programFy unique \", PDMData.Year.unique() )"
   ]
  },
  {
   "cell_type": "code",
   "execution_count": 3,
   "metadata": {},
   "outputs": [
    {
     "data": {
      "text/plain": [
       "0         100000.0\n",
       "1        1300000.0\n",
       "2        8623850.0\n",
       "3         625000.0\n",
       "4          43000.0\n",
       "           ...    \n",
       "92617       9000.0\n",
       "92618        700.0\n",
       "92619     583400.0\n",
       "92620      23000.0\n",
       "92621      53600.0\n",
       "Name: PropertyDmg, Length: 92622, dtype: float64"
      ]
     },
     "execution_count": 3,
     "metadata": {},
     "output_type": "execute_result"
    }
   ],
   "source": [
    "df_final.PropertyDmg = df_final.PropertyDmg.fillna(0)\n",
    "df_final.PropertyDmg"
   ]
  },
  {
   "cell_type": "code",
   "execution_count": 4,
   "metadata": {},
   "outputs": [
    {
     "name": "stdout",
     "output_type": "stream",
     "text": [
      "old  (92622, 69)\n"
     ]
    },
    {
     "ename": "KeyError",
     "evalue": "'State Name'",
     "output_type": "error",
     "traceback": [
      "\u001b[0;31m---------------------------------------------------------------------------\u001b[0m",
      "\u001b[0;31mKeyError\u001b[0m                                  Traceback (most recent call last)",
      "File \u001b[0;32m~/opt/anaconda3/envs/hazard_env/lib/python3.11/site-packages/pandas/core/indexes/base.py:3652\u001b[0m, in \u001b[0;36mIndex.get_loc\u001b[0;34m(self, key)\u001b[0m\n\u001b[1;32m   3651\u001b[0m \u001b[39mtry\u001b[39;00m:\n\u001b[0;32m-> 3652\u001b[0m     \u001b[39mreturn\u001b[39;00m \u001b[39mself\u001b[39;49m\u001b[39m.\u001b[39;49m_engine\u001b[39m.\u001b[39;49mget_loc(casted_key)\n\u001b[1;32m   3653\u001b[0m \u001b[39mexcept\u001b[39;00m \u001b[39mKeyError\u001b[39;00m \u001b[39mas\u001b[39;00m err:\n",
      "File \u001b[0;32m~/opt/anaconda3/envs/hazard_env/lib/python3.11/site-packages/pandas/_libs/index.pyx:147\u001b[0m, in \u001b[0;36mpandas._libs.index.IndexEngine.get_loc\u001b[0;34m()\u001b[0m\n",
      "File \u001b[0;32m~/opt/anaconda3/envs/hazard_env/lib/python3.11/site-packages/pandas/_libs/index.pyx:176\u001b[0m, in \u001b[0;36mpandas._libs.index.IndexEngine.get_loc\u001b[0;34m()\u001b[0m\n",
      "File \u001b[0;32mpandas/_libs/hashtable_class_helper.pxi:7080\u001b[0m, in \u001b[0;36mpandas._libs.hashtable.PyObjectHashTable.get_item\u001b[0;34m()\u001b[0m\n",
      "File \u001b[0;32mpandas/_libs/hashtable_class_helper.pxi:7088\u001b[0m, in \u001b[0;36mpandas._libs.hashtable.PyObjectHashTable.get_item\u001b[0;34m()\u001b[0m\n",
      "\u001b[0;31mKeyError\u001b[0m: 'State Name'",
      "\nThe above exception was the direct cause of the following exception:\n",
      "\u001b[0;31mKeyError\u001b[0m                                  Traceback (most recent call last)",
      "\u001b[1;32m/Users/yuhan/Desktop/paper——revision/Dataprocess/jupitor/LiSA_Each_Hazard_Process.ipynb Cell 4\u001b[0m line \u001b[0;36m2\n\u001b[1;32m      <a href='vscode-notebook-cell:/Users/yuhan/Desktop/paper%E2%80%94%E2%80%94revision/Dataprocess/jupitor/LiSA_Each_Hazard_Process.ipynb#W3sZmlsZQ%3D%3D?line=0'>1</a>\u001b[0m \u001b[39mprint\u001b[39m( \u001b[39m\"\u001b[39m\u001b[39mold \u001b[39m\u001b[39m\"\u001b[39m, df_final\u001b[39m.\u001b[39mshape )\n\u001b[0;32m----> <a href='vscode-notebook-cell:/Users/yuhan/Desktop/paper%E2%80%94%E2%80%94revision/Dataprocess/jupitor/LiSA_Each_Hazard_Process.ipynb#W3sZmlsZQ%3D%3D?line=1'>2</a>\u001b[0m df_final \u001b[39m=\u001b[39m df_final[\u001b[39m~\u001b[39mdf_final[\u001b[39m\"\u001b[39;49m\u001b[39mState Name\u001b[39;49m\u001b[39m\"\u001b[39;49m]\u001b[39m.\u001b[39misin([\u001b[39m'\u001b[39m\u001b[39mHAWAII\u001b[39m\u001b[39m'\u001b[39m,\u001b[39m'\u001b[39m\u001b[39mALASKA\u001b[39m\u001b[39m'\u001b[39m, \u001b[39m'\u001b[39m\u001b[39mAMERICAN SAMOA\u001b[39m\u001b[39m'\u001b[39m, \u001b[39m'\u001b[39m\u001b[39mGUAM\u001b[39m\u001b[39m'\u001b[39m, \u001b[39m'\u001b[39m\u001b[39mPUERTO RICO\u001b[39m\u001b[39m'\u001b[39m, \u001b[39m'\u001b[39m\u001b[39mVIRGIN ISLANDS\u001b[39m\u001b[39m'\u001b[39m,\n\u001b[1;32m      <a href='vscode-notebook-cell:/Users/yuhan/Desktop/paper%E2%80%94%E2%80%94revision/Dataprocess/jupitor/LiSA_Each_Hazard_Process.ipynb#W3sZmlsZQ%3D%3D?line=2'>3</a>\u001b[0m                                        \u001b[39m'\u001b[39m\u001b[39mCOMMONWEALTH OF THE NORTHERN MARIANA ISLANDS\u001b[39m\u001b[39m'\u001b[39m])]\n\u001b[1;32m      <a href='vscode-notebook-cell:/Users/yuhan/Desktop/paper%E2%80%94%E2%80%94revision/Dataprocess/jupitor/LiSA_Each_Hazard_Process.ipynb#W3sZmlsZQ%3D%3D?line=3'>4</a>\u001b[0m \u001b[39mprint\u001b[39m( \u001b[39m\"\u001b[39m\u001b[39mnew \u001b[39m\u001b[39m\"\u001b[39m, df_final\u001b[39m.\u001b[39mshape )\n",
      "File \u001b[0;32m~/opt/anaconda3/envs/hazard_env/lib/python3.11/site-packages/pandas/core/frame.py:3761\u001b[0m, in \u001b[0;36mDataFrame.__getitem__\u001b[0;34m(self, key)\u001b[0m\n\u001b[1;32m   3759\u001b[0m \u001b[39mif\u001b[39;00m \u001b[39mself\u001b[39m\u001b[39m.\u001b[39mcolumns\u001b[39m.\u001b[39mnlevels \u001b[39m>\u001b[39m \u001b[39m1\u001b[39m:\n\u001b[1;32m   3760\u001b[0m     \u001b[39mreturn\u001b[39;00m \u001b[39mself\u001b[39m\u001b[39m.\u001b[39m_getitem_multilevel(key)\n\u001b[0;32m-> 3761\u001b[0m indexer \u001b[39m=\u001b[39m \u001b[39mself\u001b[39;49m\u001b[39m.\u001b[39;49mcolumns\u001b[39m.\u001b[39;49mget_loc(key)\n\u001b[1;32m   3762\u001b[0m \u001b[39mif\u001b[39;00m is_integer(indexer):\n\u001b[1;32m   3763\u001b[0m     indexer \u001b[39m=\u001b[39m [indexer]\n",
      "File \u001b[0;32m~/opt/anaconda3/envs/hazard_env/lib/python3.11/site-packages/pandas/core/indexes/base.py:3654\u001b[0m, in \u001b[0;36mIndex.get_loc\u001b[0;34m(self, key)\u001b[0m\n\u001b[1;32m   3652\u001b[0m     \u001b[39mreturn\u001b[39;00m \u001b[39mself\u001b[39m\u001b[39m.\u001b[39m_engine\u001b[39m.\u001b[39mget_loc(casted_key)\n\u001b[1;32m   3653\u001b[0m \u001b[39mexcept\u001b[39;00m \u001b[39mKeyError\u001b[39;00m \u001b[39mas\u001b[39;00m err:\n\u001b[0;32m-> 3654\u001b[0m     \u001b[39mraise\u001b[39;00m \u001b[39mKeyError\u001b[39;00m(key) \u001b[39mfrom\u001b[39;00m \u001b[39merr\u001b[39;00m\n\u001b[1;32m   3655\u001b[0m \u001b[39mexcept\u001b[39;00m \u001b[39mTypeError\u001b[39;00m:\n\u001b[1;32m   3656\u001b[0m     \u001b[39m# If we have a listlike key, _check_indexing_error will raise\u001b[39;00m\n\u001b[1;32m   3657\u001b[0m     \u001b[39m#  InvalidIndexError. Otherwise we fall through and re-raise\u001b[39;00m\n\u001b[1;32m   3658\u001b[0m     \u001b[39m#  the TypeError.\u001b[39;00m\n\u001b[1;32m   3659\u001b[0m     \u001b[39mself\u001b[39m\u001b[39m.\u001b[39m_check_indexing_error(key)\n",
      "\u001b[0;31mKeyError\u001b[0m: 'State Name'"
     ]
    }
   ],
   "source": [
    "print( \"old \", df_final.shape )\n",
    "df_final = df_final[~df_final[\"State Name\"].isin(['HAWAII','ALASKA', 'AMERICAN SAMOA', 'GUAM', 'PUERTO RICO', 'VIRGIN ISLANDS',\n",
    "                                       'COMMONWEALTH OF THE NORTHERN MARIANA ISLANDS'])]\n",
    "print( \"new \", df_final.shape )"
   ]
  },
  {
   "cell_type": "code",
   "execution_count": 5,
   "metadata": {},
   "outputs": [
    {
     "data": {
      "text/html": [
       "<div>\n",
       "<style scoped>\n",
       "    .dataframe tbody tr th:only-of-type {\n",
       "        vertical-align: middle;\n",
       "    }\n",
       "\n",
       "    .dataframe tbody tr th {\n",
       "        vertical-align: top;\n",
       "    }\n",
       "\n",
       "    .dataframe thead th {\n",
       "        text-align: right;\n",
       "    }\n",
       "</style>\n",
       "<table border=\"1\" class=\"dataframe\">\n",
       "  <thead>\n",
       "    <tr style=\"text-align: right;\">\n",
       "      <th></th>\n",
       "      <th>index</th>\n",
       "      <th>projectIdentifier</th>\n",
       "      <th>programArea</th>\n",
       "      <th>programFy</th>\n",
       "      <th>region</th>\n",
       "      <th>state</th>\n",
       "      <th>stateNumberCode</th>\n",
       "      <th>county</th>\n",
       "      <th>countyCode</th>\n",
       "      <th>disasterNumber</th>\n",
       "      <th>...</th>\n",
       "      <th>stateCode</th>\n",
       "      <th>FIPS</th>\n",
       "      <th>FIPS2</th>\n",
       "      <th>fyDeclared</th>\n",
       "      <th>disasterType</th>\n",
       "      <th>incidentType</th>\n",
       "      <th>duration</th>\n",
       "      <th>incidentdate</th>\n",
       "      <th>incidentdateplace</th>\n",
       "      <th>Year</th>\n",
       "    </tr>\n",
       "  </thead>\n",
       "  <tbody>\n",
       "    <tr>\n",
       "      <th>0</th>\n",
       "      <td>1844</td>\n",
       "      <td>PDMC-PL-07-NE-2014-002</td>\n",
       "      <td>PDM</td>\n",
       "      <td>2014.0</td>\n",
       "      <td>7.0</td>\n",
       "      <td>Nebraska</td>\n",
       "      <td>31</td>\n",
       "      <td>Knox</td>\n",
       "      <td>107</td>\n",
       "      <td>0</td>\n",
       "      <td>...</td>\n",
       "      <td>31</td>\n",
       "      <td>31107</td>\n",
       "      <td>31107</td>\n",
       "      <td>NaN</td>\n",
       "      <td>NaN</td>\n",
       "      <td>NaN</td>\n",
       "      <td>NaN</td>\n",
       "      <td>NaN</td>\n",
       "      <td>NaN</td>\n",
       "      <td>2014.0</td>\n",
       "    </tr>\n",
       "    <tr>\n",
       "      <th>1</th>\n",
       "      <td>1845</td>\n",
       "      <td>PDMC-PJ-06-OK-2014-001</td>\n",
       "      <td>PDM</td>\n",
       "      <td>2014.0</td>\n",
       "      <td>6.0</td>\n",
       "      <td>Oklahoma</td>\n",
       "      <td>40</td>\n",
       "      <td>NaN</td>\n",
       "      <td>0</td>\n",
       "      <td>0</td>\n",
       "      <td>...</td>\n",
       "      <td>40</td>\n",
       "      <td>40000</td>\n",
       "      <td>40000</td>\n",
       "      <td>NaN</td>\n",
       "      <td>NaN</td>\n",
       "      <td>NaN</td>\n",
       "      <td>NaN</td>\n",
       "      <td>NaN</td>\n",
       "      <td>NaN</td>\n",
       "      <td>2014.0</td>\n",
       "    </tr>\n",
       "    <tr>\n",
       "      <th>2</th>\n",
       "      <td>1846</td>\n",
       "      <td>PDMC-PL-05-WI-2016-002</td>\n",
       "      <td>PDM</td>\n",
       "      <td>2016.0</td>\n",
       "      <td>5.0</td>\n",
       "      <td>Wisconsin</td>\n",
       "      <td>55</td>\n",
       "      <td>Florence</td>\n",
       "      <td>37</td>\n",
       "      <td>0</td>\n",
       "      <td>...</td>\n",
       "      <td>55</td>\n",
       "      <td>55037</td>\n",
       "      <td>55037</td>\n",
       "      <td>NaN</td>\n",
       "      <td>NaN</td>\n",
       "      <td>NaN</td>\n",
       "      <td>NaN</td>\n",
       "      <td>NaN</td>\n",
       "      <td>NaN</td>\n",
       "      <td>2016.0</td>\n",
       "    </tr>\n",
       "    <tr>\n",
       "      <th>3</th>\n",
       "      <td>1847</td>\n",
       "      <td>PDMC-PL-03-VA-2016-001</td>\n",
       "      <td>PDM</td>\n",
       "      <td>2016.0</td>\n",
       "      <td>3.0</td>\n",
       "      <td>Virginia</td>\n",
       "      <td>51</td>\n",
       "      <td>Waynesboro (city)</td>\n",
       "      <td>820</td>\n",
       "      <td>0</td>\n",
       "      <td>...</td>\n",
       "      <td>51</td>\n",
       "      <td>51820</td>\n",
       "      <td>51820</td>\n",
       "      <td>NaN</td>\n",
       "      <td>NaN</td>\n",
       "      <td>NaN</td>\n",
       "      <td>NaN</td>\n",
       "      <td>NaN</td>\n",
       "      <td>NaN</td>\n",
       "      <td>2016.0</td>\n",
       "    </tr>\n",
       "    <tr>\n",
       "      <th>4</th>\n",
       "      <td>1848</td>\n",
       "      <td>PDMC-PJ-04-FL-2003-021</td>\n",
       "      <td>PDM</td>\n",
       "      <td>2003.0</td>\n",
       "      <td>4.0</td>\n",
       "      <td>Florida</td>\n",
       "      <td>12</td>\n",
       "      <td>Broward</td>\n",
       "      <td>11</td>\n",
       "      <td>0</td>\n",
       "      <td>...</td>\n",
       "      <td>12</td>\n",
       "      <td>12011</td>\n",
       "      <td>12011</td>\n",
       "      <td>NaN</td>\n",
       "      <td>NaN</td>\n",
       "      <td>NaN</td>\n",
       "      <td>NaN</td>\n",
       "      <td>NaN</td>\n",
       "      <td>NaN</td>\n",
       "      <td>2003.0</td>\n",
       "    </tr>\n",
       "  </tbody>\n",
       "</table>\n",
       "<p>5 rows × 44 columns</p>\n",
       "</div>"
      ],
      "text/plain": [
       "   index       projectIdentifier programArea  programFy  region      state  \\\n",
       "0   1844  PDMC-PL-07-NE-2014-002         PDM     2014.0     7.0   Nebraska   \n",
       "1   1845  PDMC-PJ-06-OK-2014-001         PDM     2014.0     6.0   Oklahoma   \n",
       "2   1846  PDMC-PL-05-WI-2016-002         PDM     2016.0     5.0  Wisconsin   \n",
       "3   1847  PDMC-PL-03-VA-2016-001         PDM     2016.0     3.0   Virginia   \n",
       "4   1848  PDMC-PJ-04-FL-2003-021         PDM     2003.0     4.0    Florida   \n",
       "\n",
       "   stateNumberCode             county  countyCode  disasterNumber  ...  \\\n",
       "0               31               Knox         107               0  ...   \n",
       "1               40                NaN           0               0  ...   \n",
       "2               55           Florence          37               0  ...   \n",
       "3               51  Waynesboro (city)         820               0  ...   \n",
       "4               12            Broward          11               0  ...   \n",
       "\n",
       "  stateCode   FIPS  FIPS2 fyDeclared  disasterType incidentType  duration  \\\n",
       "0        31  31107  31107        NaN           NaN          NaN       NaN   \n",
       "1        40  40000  40000        NaN           NaN          NaN       NaN   \n",
       "2        55  55037  55037        NaN           NaN          NaN       NaN   \n",
       "3        51  51820  51820        NaN           NaN          NaN       NaN   \n",
       "4        12  12011  12011        NaN           NaN          NaN       NaN   \n",
       "\n",
       "  incidentdate incidentdateplace    Year  \n",
       "0          NaN               NaN  2014.0  \n",
       "1          NaN               NaN  2014.0  \n",
       "2          NaN               NaN  2016.0  \n",
       "3          NaN               NaN  2016.0  \n",
       "4          NaN               NaN  2003.0  \n",
       "\n",
       "[5 rows x 44 columns]"
      ]
     },
     "execution_count": 5,
     "metadata": {},
     "output_type": "execute_result"
    }
   ],
   "source": [
    "PDMData.head()"
   ]
  },
  {
   "cell_type": "code",
   "execution_count": 6,
   "metadata": {},
   "outputs": [
    {
     "name": "stdout",
     "output_type": "stream",
     "text": [
      "before  (3944, 44)\n",
      "after (3800, 44)\n",
      "MultiIndex([(                   'FIPS',      ''),\n",
      "            (                   'Year',      ''),\n",
      "            (          'projectAmount',   'sum'),\n",
      "            (  'federalShareObligated', 'count'),\n",
      "            ('numberOfFinalProperties',   'sum')],\n",
      "           )\n",
      "(2795, 5)\n",
      "   FIPS    Year  PDMprojAmot  PDMcount  PDMNumfinalProp\n",
      "0  1000  2003.0   1487767.00         2              0.0\n",
      "1  1000  2007.0     55637.00         1              0.0\n",
      "2  1000  2009.0     64663.46         1              0.0\n",
      "3  1000  2010.0     66792.66         1              0.0\n",
      "4  1000  2013.0     78906.00         1              0.0\n"
     ]
    }
   ],
   "source": [
    "\n",
    "#print( HMAData[\"County FIPS\"] )\n",
    "PDMData['FIPS'] = PDMData['FIPS'].apply(str)\n",
    "\n",
    "print(\"before \", PDMData.shape)\n",
    "PDMData         = PDMData.loc[ PDMData['Year'] > 2000 ]\n",
    "print(\"after\", PDMData.shape)\n",
    "PDMData['PDMcount'] = np.where( PDMData['projectAmount'] > 0, 1, 0)\n",
    "PDMData_multiple    = PDMData.groupby(['FIPS', 'Year']).agg({\n",
    "                    'projectAmount'                :  ['sum'], \n",
    "                    'federalShareObligated'                      :  ['count'], \n",
    "                    'numberOfFinalProperties'       :  ['sum']   }).reset_index()\n",
    "print(PDMData_multiple.columns)\n",
    "PDMData_multiple.columns = PDMData_multiple.columns.droplevel(1)\n",
    "PDMData_multiple.columns = ['FIPS', 'Year', 'PDMprojAmot', 'PDMcount', 'PDMNumfinalProp']\n",
    "print(PDMData_multiple.shape)\n",
    "print(PDMData_multiple.head())"
   ]
  },
  {
   "cell_type": "code",
   "execution_count": 7,
   "metadata": {},
   "outputs": [
    {
     "name": "stdout",
     "output_type": "stream",
     "text": [
      "3226\n",
      "fips  3238\n",
      "(92622, 73)\n"
     ]
    }
   ],
   "source": [
    "df_final['fips'].replace('', np.nan, inplace=True)\n",
    "df_final.dropna(subset=['fips'], inplace=True)\n",
    "df_final['fips']            = df_final['fips'].astype(int)\n",
    "PDMData_multiple['FIPS']    = PDMData_multiple['FIPS'].apply(str).astype(int)\n",
    "print( df_final.STCOFIPS.nunique() )\n",
    "\n",
    "data_filterall_pdm  = pd.merge( df_final, PDMData_multiple, \n",
    "                              left_on=['fips', 'Year'], right_on=['FIPS', 'Year'], how='left')\n",
    "\n",
    "data_filterall_pdm  = data_filterall_pdm.fillna(0)\n",
    "data_filterall_pdm  = data_filterall_pdm.loc[ data_filterall_pdm['Hazard2'] != 0 ]\n",
    "print( \"fips \", data_filterall_pdm.fips.nunique() )\n",
    "print( data_filterall_pdm.shape )"
   ]
  },
  {
   "cell_type": "code",
   "execution_count": 8,
   "metadata": {},
   "outputs": [
    {
     "name": "stdout",
     "output_type": "stream",
     "text": [
      "Unique hazard  ['Climatological' 'Meteorological' 'Hydrological' 'Geophysical']\n",
      "*******************************************\n",
      "Index(['Unnamed: 0', 'fips', 'Year', 'HMAprojAmot', 'NumProperty', 'NumHMA',\n",
      "       'Hazard2', 'disasternumber_x', 'CropDmg', 'CropDmg21',\n",
      "       'CropDmgPerCapita21', 'PropertyDmg', 'ProDmg21', 'ProDmgPerCapita21',\n",
      "       'Injuries', 'InjuriesPerCapita', 'Fatalities', 'FatalitiesPerCapita',\n",
      "       'Duration_Days', 'Count_h', 'ApprovLoan_h', 'Count_b', 'ApprovLoan_b',\n",
      "       'HAODamage', 'HAOCount', 'HAOAproved', 'HAORepaRepl', 'HAORental',\n",
      "       'HAOOther', 'HARCount', 'HARAproved', 'HARRepaRepl', 'HARRental',\n",
      "       'HAROther', 'PAprojectAmt', 'PAfedshare', 'PAtotobl', 'NRI_ID', 'STATE',\n",
      "       'STATEABBRV', 'COUNTY', 'COUNTYTYPE', 'STCOFIPS', 'POPULATION',\n",
      "       'BUILDVALUE', 'AGRIVALUE', 'AREA', 'RISK_VALUE', 'RISK_SCORE',\n",
      "       'RISK_RATNG', 'RISK_SPCTL', 'EAL_VALT', 'EAL_VALB', 'EAL_VALP',\n",
      "       'EAL_VALPE', 'EAL_VALA', 'ALR_VALB', 'ALR_VALP', 'ALR_VALA',\n",
      "       'ALR_NPCTL', 'SOVI_SCORE', 'SOVI_RATNG', 'SOVI_SPCTL', 'RESL_SCORE',\n",
      "       'RESL_RATNG', 'RESL_SPCTL', 'RESL_VALUE', 'x', 'y', 'FIPS',\n",
      "       'PDMprojAmot', 'PDMcount', 'PDMNumfinalProp'],\n",
      "      dtype='object')\n",
      "*******************************************\n",
      "   Unnamed: 0   fips    Year  HMAprojAmot  NumProperty  NumHMA  \\\n",
      "0           0  10001  2002.0          0.0          0.0     0.0   \n",
      "1           1  10001  2003.0          0.0          0.0     0.0   \n",
      "2           2  10001  2003.0          0.0          0.0     0.0   \n",
      "3           3  10001  2004.0          0.0          0.0     0.0   \n",
      "4           4  10001  2004.0          0.0          0.0     0.0   \n",
      "\n",
      "          Hazard2  disasternumber_x  CropDmg  CropDmg21  ...  RESL_SCORE  \\\n",
      "0  Climatological               0.0      0.0        0.0  ...   72.949997   \n",
      "1  Climatological               0.0      0.0        0.0  ...   72.949997   \n",
      "2  Meteorological               0.0      0.0        0.0  ...   72.949997   \n",
      "3    Hydrological               0.0      0.0        0.0  ...   72.949997   \n",
      "4  Meteorological               0.0      0.0        0.0  ...   72.949997   \n",
      "\n",
      "        RESL_RATNG  RESL_SPCTL  RESL_VALUE             x              y  FIPS  \\\n",
      "0  Relatively High    0.666667    2.684585  2.073775e+06 -348155.917603   0.0   \n",
      "1  Relatively High    0.666667    2.684585  2.073775e+06 -348155.917603   0.0   \n",
      "2  Relatively High    0.666667    2.684585  2.073775e+06 -348155.917603   0.0   \n",
      "3  Relatively High    0.666667    2.684585  2.073775e+06 -348155.917603   0.0   \n",
      "4  Relatively High    0.666667    2.684585  2.073775e+06 -348155.917603   0.0   \n",
      "\n",
      "   PDMprojAmot  PDMcount  PDMNumfinalProp  \n",
      "0          0.0       0.0              0.0  \n",
      "1          0.0       0.0              0.0  \n",
      "2          0.0       0.0              0.0  \n",
      "3          0.0       0.0              0.0  \n",
      "4          0.0       0.0              0.0  \n",
      "\n",
      "[5 rows x 73 columns]\n",
      "*******************************************\n",
      "['Climatological' 'Meteorological' 'Hydrological' 'Geophysical']\n"
     ]
    }
   ],
   "source": [
    "print( \"Unique hazard \", data_filterall_pdm.Hazard2.unique() )\n",
    "print( \"*******************************************\" )\n",
    "print( data_filterall_pdm.columns )\n",
    "print( \"*******************************************\" )\n",
    "print( data_filterall_pdm.head() )\n",
    "print( \"*******************************************\" )\n",
    "print( data_filterall_pdm.Hazard2.unique() )"
   ]
  },
  {
   "cell_type": "code",
   "execution_count": 9,
   "metadata": {},
   "outputs": [
    {
     "data": {
      "text/plain": [
       "array([0, 1])"
      ]
     },
     "execution_count": 9,
     "metadata": {},
     "output_type": "execute_result"
    }
   ],
   "source": [
    "data_filterall_pdm['declared'] = np.where( ( (data_filterall_pdm['disasternumber_x'] > 0)  ) , 1, 0)\n",
    "data_filterall_pdm['declared'].unique()"
   ]
  },
  {
   "cell_type": "code",
   "execution_count": 10,
   "metadata": {},
   "outputs": [
    {
     "data": {
      "text/html": [
       "<div>\n",
       "<style scoped>\n",
       "    .dataframe tbody tr th:only-of-type {\n",
       "        vertical-align: middle;\n",
       "    }\n",
       "\n",
       "    .dataframe tbody tr th {\n",
       "        vertical-align: top;\n",
       "    }\n",
       "\n",
       "    .dataframe thead th {\n",
       "        text-align: right;\n",
       "    }\n",
       "</style>\n",
       "<table border=\"1\" class=\"dataframe\">\n",
       "  <thead>\n",
       "    <tr style=\"text-align: right;\">\n",
       "      <th></th>\n",
       "      <th>Unnamed: 0</th>\n",
       "      <th>fips</th>\n",
       "      <th>Year</th>\n",
       "      <th>HMAprojAmot</th>\n",
       "      <th>NumProperty</th>\n",
       "      <th>NumHMA</th>\n",
       "      <th>Hazard2</th>\n",
       "      <th>disasternumber_x</th>\n",
       "      <th>CropDmg</th>\n",
       "      <th>CropDmg21</th>\n",
       "      <th>...</th>\n",
       "      <th>RESL_RATNG</th>\n",
       "      <th>RESL_SPCTL</th>\n",
       "      <th>RESL_VALUE</th>\n",
       "      <th>x</th>\n",
       "      <th>y</th>\n",
       "      <th>FIPS</th>\n",
       "      <th>PDMprojAmot</th>\n",
       "      <th>PDMcount</th>\n",
       "      <th>PDMNumfinalProp</th>\n",
       "      <th>declared</th>\n",
       "    </tr>\n",
       "  </thead>\n",
       "  <tbody>\n",
       "    <tr>\n",
       "      <th>0</th>\n",
       "      <td>0</td>\n",
       "      <td>10001</td>\n",
       "      <td>2002.0</td>\n",
       "      <td>0.0</td>\n",
       "      <td>0.0</td>\n",
       "      <td>0.0</td>\n",
       "      <td>Climatological</td>\n",
       "      <td>0.0</td>\n",
       "      <td>0.0</td>\n",
       "      <td>0.0</td>\n",
       "      <td>...</td>\n",
       "      <td>Relatively High</td>\n",
       "      <td>0.666667</td>\n",
       "      <td>2.684585</td>\n",
       "      <td>2.073775e+06</td>\n",
       "      <td>-348155.917603</td>\n",
       "      <td>0.0</td>\n",
       "      <td>0.0</td>\n",
       "      <td>0.0</td>\n",
       "      <td>0.0</td>\n",
       "      <td>0</td>\n",
       "    </tr>\n",
       "    <tr>\n",
       "      <th>1</th>\n",
       "      <td>1</td>\n",
       "      <td>10001</td>\n",
       "      <td>2003.0</td>\n",
       "      <td>0.0</td>\n",
       "      <td>0.0</td>\n",
       "      <td>0.0</td>\n",
       "      <td>Climatological</td>\n",
       "      <td>0.0</td>\n",
       "      <td>0.0</td>\n",
       "      <td>0.0</td>\n",
       "      <td>...</td>\n",
       "      <td>Relatively High</td>\n",
       "      <td>0.666667</td>\n",
       "      <td>2.684585</td>\n",
       "      <td>2.073775e+06</td>\n",
       "      <td>-348155.917603</td>\n",
       "      <td>0.0</td>\n",
       "      <td>0.0</td>\n",
       "      <td>0.0</td>\n",
       "      <td>0.0</td>\n",
       "      <td>0</td>\n",
       "    </tr>\n",
       "    <tr>\n",
       "      <th>2</th>\n",
       "      <td>2</td>\n",
       "      <td>10001</td>\n",
       "      <td>2003.0</td>\n",
       "      <td>0.0</td>\n",
       "      <td>0.0</td>\n",
       "      <td>0.0</td>\n",
       "      <td>Meteorological</td>\n",
       "      <td>0.0</td>\n",
       "      <td>0.0</td>\n",
       "      <td>0.0</td>\n",
       "      <td>...</td>\n",
       "      <td>Relatively High</td>\n",
       "      <td>0.666667</td>\n",
       "      <td>2.684585</td>\n",
       "      <td>2.073775e+06</td>\n",
       "      <td>-348155.917603</td>\n",
       "      <td>0.0</td>\n",
       "      <td>0.0</td>\n",
       "      <td>0.0</td>\n",
       "      <td>0.0</td>\n",
       "      <td>0</td>\n",
       "    </tr>\n",
       "    <tr>\n",
       "      <th>3</th>\n",
       "      <td>3</td>\n",
       "      <td>10001</td>\n",
       "      <td>2004.0</td>\n",
       "      <td>0.0</td>\n",
       "      <td>0.0</td>\n",
       "      <td>0.0</td>\n",
       "      <td>Hydrological</td>\n",
       "      <td>0.0</td>\n",
       "      <td>0.0</td>\n",
       "      <td>0.0</td>\n",
       "      <td>...</td>\n",
       "      <td>Relatively High</td>\n",
       "      <td>0.666667</td>\n",
       "      <td>2.684585</td>\n",
       "      <td>2.073775e+06</td>\n",
       "      <td>-348155.917603</td>\n",
       "      <td>0.0</td>\n",
       "      <td>0.0</td>\n",
       "      <td>0.0</td>\n",
       "      <td>0.0</td>\n",
       "      <td>0</td>\n",
       "    </tr>\n",
       "    <tr>\n",
       "      <th>4</th>\n",
       "      <td>4</td>\n",
       "      <td>10001</td>\n",
       "      <td>2004.0</td>\n",
       "      <td>0.0</td>\n",
       "      <td>0.0</td>\n",
       "      <td>0.0</td>\n",
       "      <td>Meteorological</td>\n",
       "      <td>0.0</td>\n",
       "      <td>0.0</td>\n",
       "      <td>0.0</td>\n",
       "      <td>...</td>\n",
       "      <td>Relatively High</td>\n",
       "      <td>0.666667</td>\n",
       "      <td>2.684585</td>\n",
       "      <td>2.073775e+06</td>\n",
       "      <td>-348155.917603</td>\n",
       "      <td>0.0</td>\n",
       "      <td>0.0</td>\n",
       "      <td>0.0</td>\n",
       "      <td>0.0</td>\n",
       "      <td>0</td>\n",
       "    </tr>\n",
       "  </tbody>\n",
       "</table>\n",
       "<p>5 rows × 74 columns</p>\n",
       "</div>"
      ],
      "text/plain": [
       "   Unnamed: 0   fips    Year  HMAprojAmot  NumProperty  NumHMA  \\\n",
       "0           0  10001  2002.0          0.0          0.0     0.0   \n",
       "1           1  10001  2003.0          0.0          0.0     0.0   \n",
       "2           2  10001  2003.0          0.0          0.0     0.0   \n",
       "3           3  10001  2004.0          0.0          0.0     0.0   \n",
       "4           4  10001  2004.0          0.0          0.0     0.0   \n",
       "\n",
       "          Hazard2  disasternumber_x  CropDmg  CropDmg21  ...       RESL_RATNG  \\\n",
       "0  Climatological               0.0      0.0        0.0  ...  Relatively High   \n",
       "1  Climatological               0.0      0.0        0.0  ...  Relatively High   \n",
       "2  Meteorological               0.0      0.0        0.0  ...  Relatively High   \n",
       "3    Hydrological               0.0      0.0        0.0  ...  Relatively High   \n",
       "4  Meteorological               0.0      0.0        0.0  ...  Relatively High   \n",
       "\n",
       "   RESL_SPCTL  RESL_VALUE             x              y  FIPS  PDMprojAmot  \\\n",
       "0    0.666667    2.684585  2.073775e+06 -348155.917603   0.0          0.0   \n",
       "1    0.666667    2.684585  2.073775e+06 -348155.917603   0.0          0.0   \n",
       "2    0.666667    2.684585  2.073775e+06 -348155.917603   0.0          0.0   \n",
       "3    0.666667    2.684585  2.073775e+06 -348155.917603   0.0          0.0   \n",
       "4    0.666667    2.684585  2.073775e+06 -348155.917603   0.0          0.0   \n",
       "\n",
       "   PDMcount  PDMNumfinalProp  declared  \n",
       "0       0.0              0.0         0  \n",
       "1       0.0              0.0         0  \n",
       "2       0.0              0.0         0  \n",
       "3       0.0              0.0         0  \n",
       "4       0.0              0.0         0  \n",
       "\n",
       "[5 rows x 74 columns]"
      ]
     },
     "execution_count": 10,
     "metadata": {},
     "output_type": "execute_result"
    }
   ],
   "source": [
    "data_filterall_pdm.head()"
   ]
  },
  {
   "cell_type": "code",
   "execution_count": 11,
   "metadata": {},
   "outputs": [],
   "source": [
    "data_filterall_pdm['HazardCount']   = 1\n",
    "\n",
    "data_filterall_pdm['HMAcount']      = np.where( data_filterall_pdm['HMAprojAmot'] > 0, 1, 0)\n",
    "data_filterall_pdm['HAtotal']       = data_filterall_pdm['HAOAproved'] + data_filterall_pdm['HARAproved']\n",
    "data_filterall_pdm['HAcount']       = np.where( ( ( data_filterall_pdm['HAOCount'] > 0 ) | (data_filterall_pdm['HARCount'] > 0) ), 1, 0)\n",
    "data_filterall_pdm['PAcount']       = np.where(  data_filterall_pdm['PAprojectAmt'] > 0, 1, 0)\n",
    "\n",
    "data_filterall_pdm['SBAcount']      = data_filterall_pdm['Count_h'] + data_filterall_pdm['Count_b']\n",
    "data_filterall_pdm['SBAapproved']   = data_filterall_pdm['ApprovLoan_h'] + data_filterall_pdm['ApprovLoan_b']\n",
    "data_filterall_pdm['SBAProjcount']  = np.where( ( (data_filterall_pdm['Count_h'] > 0) | (data_filterall_pdm['Count_b'] > 0)), 1, 0)"
   ]
  },
  {
   "cell_type": "code",
   "execution_count": 12,
   "metadata": {},
   "outputs": [
    {
     "name": "stdout",
     "output_type": "stream",
     "text": [
      "  index  fips         Hazard2   HMAprojAmot NumProperty NumHMA   CropDmg  \\\n",
      "                                        sum         sum    sum       sum   \n",
      "0     0  1001  Climatological  6.753450e+05        98.0    6.0       0.0   \n",
      "1     1  1001    Hydrological  1.191964e+06       106.0   10.0       0.0   \n",
      "2     2  1001  Meteorological  1.535674e+06       167.0   15.0  150000.0   \n",
      "3     3  1003  Climatological  2.134794e+08       110.0  182.0       0.0   \n",
      "4     4  1003    Hydrological  2.273364e+08       127.0  216.0       0.0   \n",
      "\n",
      "   CropDmg21 CropDmgPerCapita21  PropertyDmg  ... HMAcount       HAtotal  \\\n",
      "         sum                sum          sum  ...      sum           sum   \n",
      "0       0.00            0.00000    2694000.0  ...        3  1.871322e+06   \n",
      "1       0.00            0.00000    1702000.0  ...        5  3.890625e+06   \n",
      "2  189564.01            3.86349   18428100.0  ...        8  7.687544e+06   \n",
      "3       0.00            0.00000     114000.0  ...       25  2.428607e+09   \n",
      "4       0.00            0.00000  135015000.0  ...       35  3.102156e+09   \n",
      "\n",
      "  HAcount PAcount SBAcount SBAProjcount  SBAapproved HazardCount  \\\n",
      "      sum     sum      sum          sum          sum         sum   \n",
      "0       1       0     34.0            2     863400.0           5   \n",
      "1       2       0     43.0            4    1012400.0           5   \n",
      "2       4       0     48.0            6    1163700.0          14   \n",
      "3      24       0    641.0           25  151490300.0          28   \n",
      "4      32       0    953.0           33  473647860.0          49   \n",
      "\n",
      "              x             y  \n",
      "           mean          mean  \n",
      "0  1.253353e+06 -1.285223e+06  \n",
      "1  1.253353e+06 -1.285223e+06  \n",
      "2  1.253353e+06 -1.285223e+06  \n",
      "3  1.177650e+06 -1.498066e+06  \n",
      "4  1.177650e+06 -1.498066e+06  \n",
      "\n",
      "[5 rows x 31 columns]\n"
     ]
    }
   ],
   "source": [
    "data_county_hazard = data_filterall_pdm.groupby([ 'fips' , 'Hazard2'], as_index=False).agg({  \n",
    "                                    'HMAprojAmot' :  ['sum'],   \n",
    "                                    'NumProperty' :  ['sum'], 'NumHMA' :  ['sum'], \n",
    "                                    'CropDmg' :  ['sum'], 'CropDmg21' :  ['sum'], \n",
    "                                    'CropDmgPerCapita21' :  ['sum'],\n",
    "                                    'PropertyDmg' :   ['sum' ],  \n",
    "                                    'ProDmg21' :  ['sum'],\n",
    "                                    'ProDmgPerCapita21' :  ['sum'],\n",
    "                                    'Injuries' :  ['sum'], 'InjuriesPerCapita' :  ['sum'], \n",
    "                                    'Fatalities' :  ['sum'], 'FatalitiesPerCapita' :  ['sum'], \n",
    "                                    'Duration_Days' :  ['sum'],  'PAprojectAmt' :  ['sum'],                          \n",
    "                                    'PDMprojAmot' :  ['sum'], 'PDMcount' :  ['sum'], \n",
    "                                    'PDMNumfinalProp' :  ['sum'], 'HMAcount' :  ['sum'], 'HAtotal' :  ['sum'],\n",
    "                                    'HAcount' :  ['sum'], 'PAcount' :  ['sum'], 'SBAcount' :  ['sum'], \n",
    "                                    'SBAProjcount' :  ['sum'], 'SBAapproved' :  ['sum'],\n",
    "                                    'HazardCount': ['sum'], 'x': ['mean'], 'y': ['mean']\n",
    "                                    }).reset_index()\n",
    "print( data_county_hazard.head() )\n",
    "data_county_hazard.columns = data_county_hazard.columns.droplevel(1)"
   ]
  },
  {
   "cell_type": "code",
   "execution_count": 43,
   "metadata": {},
   "outputs": [
    {
     "data": {
      "text/plain": [
       "(9800, 31)"
      ]
     },
     "execution_count": 43,
     "metadata": {},
     "output_type": "execute_result"
    }
   ],
   "source": [
    "data_county_hazard.shape"
   ]
  },
  {
   "cell_type": "code",
   "execution_count": 13,
   "metadata": {},
   "outputs": [
    {
     "name": "stdout",
     "output_type": "stream",
     "text": [
      "   index  fips         Hazard2   HMAprojAmot  NumProperty  NumHMA   CropDmg  \\\n",
      "0      0  1001  Climatological  6.753450e+05         98.0     6.0       0.0   \n",
      "1      1  1001    Hydrological  1.191964e+06        106.0    10.0       0.0   \n",
      "2      2  1001  Meteorological  1.535674e+06        167.0    15.0  100000.0   \n",
      "3      3  1003  Climatological  2.134794e+08        110.0   182.0       0.0   \n",
      "4      4  1003    Hydrological  2.273364e+08        127.0   216.0       0.0   \n",
      "\n",
      "   CropDmg21  CropDmgPerCapita21  PropertyDmg  ...  HMAcount       HAtotal  \\\n",
      "0       0.00             0.00000    2690000.0  ...         3  1.871322e+06   \n",
      "1       0.00             0.00000    1702000.0  ...         5  3.890625e+06   \n",
      "2  139351.32             2.96915   18306100.0  ...         8  7.687544e+06   \n",
      "3       0.00             0.00000     101000.0  ...        25  2.428607e+09   \n",
      "4       0.00             0.00000  125354000.0  ...        35  2.575731e+09   \n",
      "\n",
      "   HAcount  PAcount  SBAcount  SBAProjcount  SBAapproved  HazardCount  \\\n",
      "0        1        0      34.0             2     863400.0            3   \n",
      "1        2        0      43.0             4    1012400.0            5   \n",
      "2        3        0      46.0             5    1163700.0            8   \n",
      "3       24        0     641.0            25  151490300.0           25   \n",
      "4       28        0     739.0            29  192550100.0           35   \n",
      "\n",
      "              x             y  \n",
      "0  1.253353e+06 -1.285223e+06  \n",
      "1  1.253353e+06 -1.285223e+06  \n",
      "2  1.253353e+06 -1.285223e+06  \n",
      "3  1.177650e+06 -1.498066e+06  \n",
      "4  1.177650e+06 -1.498066e+06  \n",
      "\n",
      "[5 rows x 31 columns]\n"
     ]
    }
   ],
   "source": [
    "\n",
    "declared_county_hazard = data_filterall_pdm.loc[ data_filterall_pdm['declared'] > 0 ].groupby([ 'fips', 'Hazard2'], as_index=False).agg({  \n",
    "                                    'HMAprojAmot' :  ['sum'],   \n",
    "                                    'NumProperty' :  ['sum'], 'NumHMA' :  ['sum'], \n",
    "                                    'CropDmg' :  ['sum'], 'CropDmg21' :  ['sum'], \n",
    "                                    'CropDmgPerCapita21' :  ['sum'],\n",
    "                                    'PropertyDmg' :   ['sum' ],  \n",
    "                                    'ProDmg21' :  ['sum'],\n",
    "                                    'ProDmgPerCapita21' :  ['sum'],\n",
    "                                    'Injuries' :  ['sum'], 'InjuriesPerCapita' :  ['sum'], \n",
    "                                    'Fatalities' :  ['sum'], 'FatalitiesPerCapita' :  ['sum'], \n",
    "                                    'Duration_Days' :  ['sum'],  'PAprojectAmt' :  ['sum'],                          \n",
    "                                    'PDMprojAmot' :  ['sum'], 'PDMcount' :  ['sum'], \n",
    "                                    'PDMNumfinalProp' :  ['sum'], 'HMAcount' :  ['sum'], 'HAtotal' :  ['sum'],\n",
    "                                    'HAcount' :  ['sum'], 'PAcount' :  ['sum'], 'SBAcount' :  ['sum'], \n",
    "                                    'SBAProjcount' :  ['sum'], 'SBAapproved' :  ['sum'],\n",
    "                                    'HazardCount': ['sum'], 'x': ['mean'], 'y': ['mean']\n",
    "                                    }).reset_index()\n",
    "\n",
    "declared_county_hazard.columns = declared_county_hazard.columns.droplevel(1)\n",
    "print( declared_county_hazard.head() )"
   ]
  },
  {
   "cell_type": "code",
   "execution_count": 14,
   "metadata": {},
   "outputs": [
    {
     "name": "stdout",
     "output_type": "stream",
     "text": [
      "EPSG:3857\n",
      "EPSG:3857\n"
     ]
    }
   ],
   "source": [
    "socialattr_pth = r\"/Users/yuhan/Desktop/paper——revision/FLCounty_JEPR/ACS_County_2000_2019_JPER/National Risk Index/NRI_Shapefile_Counties/NRI_Shapefile_Counties.shp\"\n",
    "#socialattrreader = pd.read_csv( socialattr_pth )\n",
    "socialattrreader = gpd.read_file( socialattr_pth )\n",
    "################################################################################################\n",
    "cbsa_fips_pth = r\"/Users/yuhan/Desktop/paper——revision/ACS_County_level_UC/County_US_cbsa2.shp\"\n",
    "cbsafipsreader = gpd.read_file( cbsa_fips_pth )\n",
    "################################################################################################\n",
    "print( socialattrreader.crs )\n",
    "print( cbsafipsreader.crs )"
   ]
  },
  {
   "cell_type": "code",
   "execution_count": 15,
   "metadata": {},
   "outputs": [
    {
     "name": "stderr",
     "output_type": "stream",
     "text": [
      "/Users/yuhan/opt/anaconda3/envs/hazard_env/lib/python3.11/site-packages/pyproj/crs/crs.py:141: FutureWarning: '+init=<authority>:<code>' syntax is deprecated. '<authority>:<code>' is the preferred initialization method. When making the change, be mindful of axis order changes: https://pyproj4.github.io/pyproj/stable/gotchas.html#axis-order-changes-in-proj-6\n",
      "  in_crs_string = _prepare_from_proj_string(in_crs_string)\n",
      "/Users/yuhan/opt/anaconda3/envs/hazard_env/lib/python3.11/site-packages/pyproj/crs/crs.py:141: FutureWarning: '+init=<authority>:<code>' syntax is deprecated. '<authority>:<code>' is the preferred initialization method. When making the change, be mindful of axis order changes: https://pyproj4.github.io/pyproj/stable/gotchas.html#axis-order-changes-in-proj-6\n",
      "  in_crs_string = _prepare_from_proj_string(in_crs_string)\n"
     ]
    }
   ],
   "source": [
    "socialattrreader    = socialattrreader.to_crs({'init':'epsg:4326'})\n",
    "cbsafipsreader      = cbsafipsreader.to_crs({'init':'epsg:4326'})"
   ]
  },
  {
   "cell_type": "code",
   "execution_count": 16,
   "metadata": {},
   "outputs": [
    {
     "data": {
      "text/plain": [
       "minx    145.689561\n",
       "miny     67.999953\n",
       "maxx    179.778439\n",
       "maxy     71.361281\n",
       "dtype: float64"
      ]
     },
     "execution_count": 16,
     "metadata": {},
     "output_type": "execute_result"
    }
   ],
   "source": [
    "socialattrreader.bounds.max()"
   ]
  },
  {
   "cell_type": "code",
   "execution_count": 17,
   "metadata": {},
   "outputs": [
    {
     "name": "stdout",
     "output_type": "stream",
     "text": [
      "(3231, 467)\n",
      "(3108, 467)\n",
      "Index(['NRI_ID', 'STATE', 'STATEABBRV', 'STATEFIPS', 'COUNTY', 'COUNTYTYPE',\n",
      "       'COUNTYFIPS', 'STCOFIPS', 'POPULATION', 'BUILDVALUE',\n",
      "       ...\n",
      "       'WNTW_ALRP', 'WNTW_ALRA', 'WNTW_ALR_N', 'WNTW_RISKV', 'WNTW_RISKS',\n",
      "       'WNTW_RISKR', 'NRI_VER', 'Shape_Leng', 'Shape_Area', 'geometry'],\n",
      "      dtype='object', length=467)\n"
     ]
    }
   ],
   "source": [
    "print(socialattrreader.shape)\n",
    "socialattrreader2 = socialattrreader[~socialattrreader.STATEABBRV.isin([\n",
    "                                    'HI','AK', 'AS', 'GU', 'PR', 'VI','MP'])]\n",
    "print(socialattrreader2.shape)\n",
    "print( socialattrreader2.columns )"
   ]
  },
  {
   "cell_type": "code",
   "execution_count": 18,
   "metadata": {},
   "outputs": [
    {
     "name": "stdout",
     "output_type": "stream",
     "text": [
      "[nan]\n"
     ]
    },
    {
     "name": "stderr",
     "output_type": "stream",
     "text": [
      "/var/folders/t6/8gnslc_j433220_1kgd9hv_c0000gn/T/ipykernel_105/3650769886.py:2: SettingWithCopyWarning: \n",
      "A value is trying to be set on a copy of a slice from a DataFrame.\n",
      "Try using .loc[row_indexer,col_indexer] = value instead\n",
      "\n",
      "See the caveats in the documentation: https://pandas.pydata.org/pandas-docs/stable/user_guide/indexing.html#returning-a-view-versus-a-copy\n",
      "  cbsafipsreader2[\"name2\"] = cbsafipsreader2[\"NAME\"].str.split(\"-\")[0]\n"
     ]
    }
   ],
   "source": [
    "cbsafipsreader2 = cbsafipsreader[ [ \"STCOFIPS\", \"NAME\" ] ]\n",
    "cbsafipsreader2[\"name2\"] = cbsafipsreader2[\"NAME\"].str.split(\"-\")[0]\n",
    "print( cbsafipsreader2.name2.unique() )\n",
    "#data_county_hazard"
   ]
  },
  {
   "cell_type": "code",
   "execution_count": 19,
   "metadata": {},
   "outputs": [],
   "source": [
    "social_df = pd.merge( socialattrreader2, cbsafipsreader2, left_on=['STCOFIPS'], right_on=['STCOFIPS'], how='left')"
   ]
  },
  {
   "cell_type": "code",
   "execution_count": 20,
   "metadata": {},
   "outputs": [
    {
     "name": "stdout",
     "output_type": "stream",
     "text": [
      "['01001' '01003' '01005' ... '56041' '56043' '56045']\n",
      "Index(['NRI_ID', 'STATE', 'STATEABBRV', 'STATEFIPS', 'COUNTY', 'COUNTYTYPE',\n",
      "       'COUNTYFIPS', 'STCOFIPS', 'POPULATION', 'BUILDVALUE',\n",
      "       ...\n",
      "       'WNTW_ALR_N', 'WNTW_RISKV', 'WNTW_RISKS', 'WNTW_RISKR', 'NRI_VER',\n",
      "       'Shape_Leng', 'Shape_Area', 'geometry', 'NAME', 'name2'],\n",
      "      dtype='object', length=469)\n",
      "[ 1001  1003  1005 ... 56041 56043 56045]\n"
     ]
    }
   ],
   "source": [
    "print( social_df[\"STCOFIPS\"].unique() )\n",
    "print( social_df.columns )\n",
    "social_df['fips'] = pd.to_numeric( social_df[ 'STCOFIPS' ].apply(str) )\n",
    "print( social_df[\"fips\"].unique() )"
   ]
  },
  {
   "cell_type": "code",
   "execution_count": 21,
   "metadata": {},
   "outputs": [
    {
     "name": "stdout",
     "output_type": "stream",
     "text": [
      "Index(['NRI_ID', 'STATE', 'STATEABBRV', 'STATEFIPS', 'COUNTY', 'COUNTYTYPE', 'COUNTYFIPS', 'STCOFIPS', 'POPULATION', 'BUILDVALUE',\n",
      "       ...\n",
      "       'WNTW_RISKV', 'WNTW_RISKS', 'WNTW_RISKR', 'NRI_VER', 'Shape_Leng', 'Shape_Area', 'geometry', 'NAME', 'name2', 'fips'], dtype='object', length=470)\n"
     ]
    },
    {
     "data": {
      "text/plain": [
       "0       51.299999\n",
       "1       31.030001\n",
       "2       99.269997\n",
       "3       80.779999\n",
       "4       51.369999\n",
       "          ...    \n",
       "3103    37.400002\n",
       "3104    19.190001\n",
       "3105    40.639999\n",
       "3106    26.610001\n",
       "3107    23.200001\n",
       "Name: SOVI_SCORE, Length: 3108, dtype: float64"
      ]
     },
     "execution_count": 21,
     "metadata": {},
     "output_type": "execute_result"
    }
   ],
   "source": [
    "pd.set_option('display.max_rows', 500)\n",
    "pd.set_option('display.max_columns', 500)\n",
    "pd.set_option('display.width', 1000)\n",
    "print( social_df.columns )\n",
    "social_df.SOVI_SCORE"
   ]
  },
  {
   "cell_type": "code",
   "execution_count": 22,
   "metadata": {},
   "outputs": [
    {
     "name": "stdout",
     "output_type": "stream",
     "text": [
      "[ 1001  1003  1005 ... 78010 78020 78030]\n",
      "Index(['index', 'fips', 'Hazard2', 'HMAprojAmot', 'NumProperty', 'NumHMA', 'CropDmg', 'CropDmg21', 'CropDmgPerCapita21', 'PropertyDmg', 'ProDmg21', 'ProDmgPerCapita21', 'Injuries', 'InjuriesPerCapita', 'Fatalities', 'FatalitiesPerCapita', 'Duration_Days', 'PAprojectAmt', 'PDMprojAmot', 'PDMcount', 'PDMNumfinalProp', 'HMAcount', 'HAtotal', 'HAcount', 'PAcount', 'SBAcount', 'SBAProjcount', 'SBAapproved', 'HazardCount', 'x', 'y'], dtype='object')\n",
      "['Climatological' 'Hydrological' 'Meteorological' 'Geophysical']\n"
     ]
    }
   ],
   "source": [
    "print( data_county_hazard.fips.unique() )\n",
    "print( data_county_hazard.columns )\n",
    "print( data_county_hazard.Hazard2.unique() )\n"
   ]
  },
  {
   "cell_type": "code",
   "execution_count": 23,
   "metadata": {},
   "outputs": [
    {
     "name": "stdout",
     "output_type": "stream",
     "text": [
      "(2994,) (3073,) (3208,) (525,)\n"
     ]
    }
   ],
   "source": [
    "print( data_county_hazard.loc[ data_county_hazard['Hazard2'] == 'Climatological'  ].PropertyDmg.shape,\n",
    "data_county_hazard.loc[ data_county_hazard['Hazard2'] == 'Hydrological'  ].PropertyDmg.shape,\n",
    "data_county_hazard.loc[ data_county_hazard['Hazard2'] == 'Meteorological'  ].PropertyDmg.shape,\n",
    "data_county_hazard.loc[ data_county_hazard['Hazard2'] == 'Geophysical'  ].PropertyDmg.shape )"
   ]
  },
  {
   "cell_type": "code",
   "execution_count": 24,
   "metadata": {},
   "outputs": [],
   "source": [
    "social_df = social_df[[ 'STATE', 'STATEABBRV', 'STATEFIPS', 'COUNTY', \n",
    "                        'STCOFIPS', 'POPULATION', 'BUILDVALUE', 'SOVI_SCORE', \n",
    "                        'NAME', 'fips', 'geometry']]"
   ]
  },
  {
   "cell_type": "code",
   "execution_count": 25,
   "metadata": {},
   "outputs": [
    {
     "name": "stdout",
     "output_type": "stream",
     "text": [
      "*************************************\n",
      "(3108, 11)\n",
      "*************************************\n",
      "(9800, 31)\n",
      "*************************************\n",
      "Index(['index', 'fips', 'Hazard2', 'HMAprojAmot', 'NumProperty', 'NumHMA', 'CropDmg', 'CropDmg21', 'CropDmgPerCapita21', 'PropertyDmg', 'ProDmg21', 'ProDmgPerCapita21', 'Injuries', 'InjuriesPerCapita', 'Fatalities', 'FatalitiesPerCapita', 'Duration_Days', 'PAprojectAmt', 'PDMprojAmot', 'PDMcount', 'PDMNumfinalProp', 'HMAcount', 'HAtotal', 'HAcount', 'PAcount', 'SBAcount', 'SBAProjcount', 'SBAapproved', 'HazardCount', 'x', 'y'], dtype='object')\n"
     ]
    }
   ],
   "source": [
    "print( \"*************************************\" )\n",
    "print( social_df.shape)\n",
    "print( \"*************************************\" )\n",
    "print( data_county_hazard.shape)\n",
    "print( \"*************************************\" )\n",
    "print( data_county_hazard.columns)"
   ]
  },
  {
   "cell_type": "code",
   "execution_count": 26,
   "metadata": {},
   "outputs": [],
   "source": [
    "data_county_hazard['totalAssist']   = data_county_hazard['HMAprojAmot']  + data_county_hazard['PAprojectAmt'] + data_county_hazard['PDMprojAmot'] + data_county_hazard['HAtotal'] + data_county_hazard['SBAapproved'] \n",
    "data_county_hazard['totalAssist3']  = data_county_hazard['HMAprojAmot']  + data_county_hazard['PAprojectAmt'] + data_county_hazard['PDMprojAmot'] + data_county_hazard['HAtotal']\n",
    "data_county_hazard['totalDamage']   = data_county_hazard['CropDmg']     + data_county_hazard['PropertyDmg'] \n",
    "\n",
    "data_county_hazard['logDamage']     = np.log( data_county_hazard['totalDamage'] + 1 )\n",
    "data_county_hazard['logHMAAmot']    = np.log( data_county_hazard['HMAprojAmot'] + 1 )\n",
    "data_county_hazard['logPAAmot']     = np.log( data_county_hazard['PAprojectAmt'] + 1 )\n",
    "\n",
    "data_county_hazard['logPDMAmot']    = np.log( data_county_hazard['PDMprojAmot'] + 1 )\n",
    "data_county_hazard['logHAAmot']     = np.log( data_county_hazard['HAtotal'] + 1 )\n",
    "data_county_hazard['logSBAAmot']    = np.log( data_county_hazard['SBAapproved'] + 1 )"
   ]
  },
  {
   "cell_type": "code",
   "execution_count": 27,
   "metadata": {},
   "outputs": [],
   "source": [
    "def classifyHazard( x ):\n",
    "    if x in [ 'Landslide',  'Earthquake', 'Volcano', 'Avalanche', 'Tsunami']:\n",
    "        return 'Geophysical'\n",
    "    elif x in [ 'Flooding',  'Coastal']:\n",
    "        return 'Hydrological'\n",
    "    elif x in [ 'Hurricane',  'Tornado',  'Lightning',  'Severe Storm',  'Fog', 'Hail']:\n",
    "        return 'Meteorological'\n",
    "    elif x in [ 'Heat',  'Winter Weather', 'Wind', 'Wildfire',  'Drought']:\n",
    "        return 'Climatological'\n",
    "    else:\n",
    "        return 'Other'\n",
    "    \n",
    "#data_county_hazard['HazardCate'] = data_county_hazard.apply(lambda x: classifyHazard( x['Hazard'] ), axis=1)\n",
    "data_county_hazard['HazardCate'] = data_county_hazard['Hazard2']"
   ]
  },
  {
   "cell_type": "code",
   "execution_count": 28,
   "metadata": {},
   "outputs": [
    {
     "name": "stdout",
     "output_type": "stream",
     "text": [
      "['Climatological' 'Hydrological' 'Meteorological' 'Geophysical']\n",
      "(9800, 41)\n"
     ]
    }
   ],
   "source": [
    "print( data_county_hazard['HazardCate'].unique() )\n",
    "print( data_county_hazard.shape )"
   ]
  },
  {
   "cell_type": "code",
   "execution_count": 30,
   "metadata": {},
   "outputs": [
    {
     "name": "stdout",
     "output_type": "stream",
     "text": [
      "Hazard  Climatological  is \n"
     ]
    },
    {
     "name": "stderr",
     "output_type": "stream",
     "text": [
      "/var/folders/t6/8gnslc_j433220_1kgd9hv_c0000gn/T/ipykernel_105/3669415911.py:56: UserWarning: Column names longer than 10 characters will be truncated when saved to ESRI Shapefile.\n",
      "  df_joini.to_file( state_pthi ,driver='ESRI Shapefile')\n"
     ]
    },
    {
     "name": "stdout",
     "output_type": "stream",
     "text": [
      "Hazard  Hydrological  is \n"
     ]
    },
    {
     "name": "stderr",
     "output_type": "stream",
     "text": [
      "/var/folders/t6/8gnslc_j433220_1kgd9hv_c0000gn/T/ipykernel_105/3669415911.py:56: UserWarning: Column names longer than 10 characters will be truncated when saved to ESRI Shapefile.\n",
      "  df_joini.to_file( state_pthi ,driver='ESRI Shapefile')\n"
     ]
    },
    {
     "name": "stdout",
     "output_type": "stream",
     "text": [
      "Hazard  Meteorological  is \n"
     ]
    },
    {
     "name": "stderr",
     "output_type": "stream",
     "text": [
      "/var/folders/t6/8gnslc_j433220_1kgd9hv_c0000gn/T/ipykernel_105/3669415911.py:56: UserWarning: Column names longer than 10 characters will be truncated when saved to ESRI Shapefile.\n",
      "  df_joini.to_file( state_pthi ,driver='ESRI Shapefile')\n"
     ]
    },
    {
     "name": "stdout",
     "output_type": "stream",
     "text": [
      "Hazard  Geophysical  is \n"
     ]
    },
    {
     "name": "stderr",
     "output_type": "stream",
     "text": [
      "/var/folders/t6/8gnslc_j433220_1kgd9hv_c0000gn/T/ipykernel_105/3669415911.py:56: UserWarning: Column names longer than 10 characters will be truncated when saved to ESRI Shapefile.\n",
      "  df_joini.to_file( state_pthi ,driver='ESRI Shapefile')\n"
     ]
    }
   ],
   "source": [
    "hazards_all = data_county_hazard.HazardCate.unique()\n",
    "for hazardi in hazards_all:\n",
    "    dfjoin_hazardi = data_county_hazard.loc[ data_county_hazard['HazardCate'] == hazardi ].reset_index()\n",
    "    #print( \"Hazard i shape is \", dfjoin_hazardi.shape )\n",
    "    df_joini = pd.merge( social_df, dfjoin_hazardi, \n",
    "                    left_on=['fips'], right_on=['fips'], how='left' )\n",
    "    df_joini = df_joini.fillna(0)\n",
    "\n",
    "    guerry  = pygeoda.open( df_joini )\n",
    "    queen_w = pygeoda.queen_weights( guerry )\n",
    "    data11  = guerry['logDamage']\n",
    "    data12  = guerry['SOVI_SCORE']\n",
    "    data1   = guerry['logHMAAmot']\n",
    "    data3   = guerry['logPAAmot']\n",
    "    data5   = guerry['logPDMAmot']\n",
    "    data4   = guerry['logHAAmot']\n",
    "    data2   = guerry['logSBAAmot']\n",
    "    \n",
    "    nm1 = pygeoda.local_bimoran(queen_w, data11, data1)\n",
    "    nm2 = pygeoda.local_bimoran(queen_w, data11, data2)\n",
    "    nm3 = pygeoda.local_bimoran(queen_w, data11, data3)\n",
    "    nm4 = pygeoda.local_bimoran(queen_w, data11, data4)\n",
    "    nm5 = pygeoda.local_bimoran(queen_w, data11, data5)\n",
    "    \n",
    "    nm1_2 = pygeoda.local_bimoran(queen_w, data12, data1)\n",
    "    nm2_2 = pygeoda.local_bimoran(queen_w, data12, data2)\n",
    "    nm3_2 = pygeoda.local_bimoran(queen_w, data12, data3)\n",
    "    nm4_2 = pygeoda.local_bimoran(queen_w, data12, data4)\n",
    "    nm5_2 = pygeoda.local_bimoran(queen_w, data12, data5)\n",
    "\n",
    "    nm1_3 = pygeoda.local_bimoran(queen_w, data11, data12)\n",
    "    \n",
    "    df_joini[\"csovi1\"]          = list( nm1_2.lisa_clusters() )\n",
    "    df_joini[\"csovi2\"]          = list( nm2_2.lisa_clusters() )\n",
    "    df_joini[\"csovi3\"]          = list( nm3_2.lisa_clusters() )\n",
    "    df_joini[\"csovi4\"]          = list( nm4_2.lisa_clusters() )\n",
    "    df_joini[\"csovi5\"]          = list( nm5_2.lisa_clusters() )\n",
    "\n",
    "    df_joini[\"cdamag1\"]         = list( nm1.lisa_clusters() )\n",
    "    df_joini[\"cdamag2\"]         = list( nm2.lisa_clusters() )\n",
    "    df_joini[\"cdamag3\"]         = list( nm3.lisa_clusters() )\n",
    "    df_joini[\"cdamag4\"]         = list( nm4.lisa_clusters() )\n",
    "    df_joini[\"cdamag5\"]         = list( nm5.lisa_clusters() )\n",
    "\n",
    "    df_joini[\"cdamsovi1\"]       = list( nm1_3.lisa_clusters() )\n",
    "\n",
    "\n",
    "    hazardi = hazardi.split(\"/\")[0]\n",
    "    #re.sub( r'/', '_', hazardi)\n",
    "    if hazardi.isspace():\n",
    "        hazardi = hazardi.replace(\" \", \"_\")\n",
    "    print(\"Hazard \", hazardi , \" is \",  )\n",
    "    state_pthi = r\"/Users/yuhan/Desktop/paper——revision/Dataprocess/jupitor/hazard_shp/states_sheldus_\" + str(hazardi) + r\".shp\"\n",
    "    df_joini = gpd.GeoDataFrame( df_joini , geometry = 'geometry', crs=\"EPSG:4326\")\n",
    "    df_joini.to_file( state_pthi ,driver='ESRI Shapefile')"
   ]
  },
  {
   "cell_type": "code",
   "execution_count": 38,
   "metadata": {},
   "outputs": [
    {
     "data": {
      "text/html": [
       "<div>\n",
       "<style scoped>\n",
       "    .dataframe tbody tr th:only-of-type {\n",
       "        vertical-align: middle;\n",
       "    }\n",
       "\n",
       "    .dataframe tbody tr th {\n",
       "        vertical-align: top;\n",
       "    }\n",
       "\n",
       "    .dataframe thead th {\n",
       "        text-align: right;\n",
       "    }\n",
       "</style>\n",
       "<table border=\"1\" class=\"dataframe\">\n",
       "  <thead>\n",
       "    <tr style=\"text-align: right;\">\n",
       "      <th></th>\n",
       "      <th>STATE</th>\n",
       "      <th>STATEABBRV</th>\n",
       "      <th>STATEFIPS</th>\n",
       "      <th>COUNTY</th>\n",
       "      <th>STCOFIPS</th>\n",
       "      <th>POPULATION</th>\n",
       "      <th>BUILDVALUE</th>\n",
       "      <th>SOVI_SCORE</th>\n",
       "      <th>NAME</th>\n",
       "      <th>fips</th>\n",
       "      <th>geometry</th>\n",
       "      <th>level_0</th>\n",
       "      <th>index</th>\n",
       "      <th>Hazard2</th>\n",
       "      <th>HMAprojAmot</th>\n",
       "      <th>AdminCostAmt</th>\n",
       "      <th>NumfinalProp</th>\n",
       "      <th>CropDmg</th>\n",
       "      <th>CropDmg(ADJ 2021)</th>\n",
       "      <th>CropDmgPerCapita(ADJ 2021)</th>\n",
       "      <th>PropertyDmg</th>\n",
       "      <th>PropertyDmg(ADJ 2021)</th>\n",
       "      <th>PropertyDmgPerCapita(ADJ 2021)</th>\n",
       "      <th>Injuries</th>\n",
       "      <th>InjuriesPerCapita</th>\n",
       "      <th>Fatalities</th>\n",
       "      <th>FatalitiesPerCapita</th>\n",
       "      <th>Duration_Days</th>\n",
       "      <th>PAprojectAmt</th>\n",
       "      <th>PDMprojAmot</th>\n",
       "      <th>PDMcount</th>\n",
       "      <th>PDMNumfinalProp</th>\n",
       "      <th>HMAcount</th>\n",
       "      <th>HAtotal</th>\n",
       "      <th>HAcount</th>\n",
       "      <th>PAcount</th>\n",
       "      <th>SBAcount</th>\n",
       "      <th>SBAProjcount</th>\n",
       "      <th>SBAapproved</th>\n",
       "      <th>HazardCount</th>\n",
       "      <th>x</th>\n",
       "      <th>y</th>\n",
       "      <th>totalAssist</th>\n",
       "      <th>totalAssist3</th>\n",
       "      <th>totalDamage</th>\n",
       "      <th>logDamage</th>\n",
       "      <th>logHMAAmot</th>\n",
       "      <th>logPAAmot</th>\n",
       "      <th>logPDMAmot</th>\n",
       "      <th>logHAAmot</th>\n",
       "      <th>logSBAAmot</th>\n",
       "      <th>HazardCate</th>\n",
       "    </tr>\n",
       "  </thead>\n",
       "  <tbody>\n",
       "    <tr>\n",
       "      <th>0</th>\n",
       "      <td>Alabama</td>\n",
       "      <td>AL</td>\n",
       "      <td>01</td>\n",
       "      <td>Autauga</td>\n",
       "      <td>01001</td>\n",
       "      <td>58764</td>\n",
       "      <td>9.123274e+09</td>\n",
       "      <td>51.299999</td>\n",
       "      <td>Montgomery, AL</td>\n",
       "      <td>1001</td>\n",
       "      <td>POLYGON ((-86.41284 32.63589, -86.41279 32.625...</td>\n",
       "      <td>0.0</td>\n",
       "      <td>0.0</td>\n",
       "      <td>0</td>\n",
       "      <td>0.0</td>\n",
       "      <td>0.0</td>\n",
       "      <td>0.0</td>\n",
       "      <td>0.0</td>\n",
       "      <td>0.0</td>\n",
       "      <td>0.0</td>\n",
       "      <td>0.0</td>\n",
       "      <td>0.0</td>\n",
       "      <td>0.0</td>\n",
       "      <td>0.0</td>\n",
       "      <td>0.0</td>\n",
       "      <td>0.0</td>\n",
       "      <td>0.0</td>\n",
       "      <td>0.0</td>\n",
       "      <td>0.0</td>\n",
       "      <td>0.0</td>\n",
       "      <td>0.0</td>\n",
       "      <td>0.0</td>\n",
       "      <td>0.0</td>\n",
       "      <td>0.0</td>\n",
       "      <td>0.0</td>\n",
       "      <td>0.0</td>\n",
       "      <td>0.0</td>\n",
       "      <td>0.0</td>\n",
       "      <td>0.0</td>\n",
       "      <td>0.0</td>\n",
       "      <td>0.0</td>\n",
       "      <td>0.0</td>\n",
       "      <td>0.0</td>\n",
       "      <td>0.0</td>\n",
       "      <td>0.0</td>\n",
       "      <td>0.0</td>\n",
       "      <td>0.0</td>\n",
       "      <td>0.0</td>\n",
       "      <td>0.0</td>\n",
       "      <td>0.0</td>\n",
       "      <td>0.0</td>\n",
       "      <td>0</td>\n",
       "    </tr>\n",
       "    <tr>\n",
       "      <th>1</th>\n",
       "      <td>Alabama</td>\n",
       "      <td>AL</td>\n",
       "      <td>01</td>\n",
       "      <td>Baldwin</td>\n",
       "      <td>01003</td>\n",
       "      <td>231365</td>\n",
       "      <td>4.596848e+10</td>\n",
       "      <td>31.030001</td>\n",
       "      <td>Daphne-Fairhope-Foley, AL</td>\n",
       "      <td>1003</td>\n",
       "      <td>MULTIPOLYGON (((-87.92666 30.66002, -87.92688 ...</td>\n",
       "      <td>0.0</td>\n",
       "      <td>0.0</td>\n",
       "      <td>0</td>\n",
       "      <td>0.0</td>\n",
       "      <td>0.0</td>\n",
       "      <td>0.0</td>\n",
       "      <td>0.0</td>\n",
       "      <td>0.0</td>\n",
       "      <td>0.0</td>\n",
       "      <td>0.0</td>\n",
       "      <td>0.0</td>\n",
       "      <td>0.0</td>\n",
       "      <td>0.0</td>\n",
       "      <td>0.0</td>\n",
       "      <td>0.0</td>\n",
       "      <td>0.0</td>\n",
       "      <td>0.0</td>\n",
       "      <td>0.0</td>\n",
       "      <td>0.0</td>\n",
       "      <td>0.0</td>\n",
       "      <td>0.0</td>\n",
       "      <td>0.0</td>\n",
       "      <td>0.0</td>\n",
       "      <td>0.0</td>\n",
       "      <td>0.0</td>\n",
       "      <td>0.0</td>\n",
       "      <td>0.0</td>\n",
       "      <td>0.0</td>\n",
       "      <td>0.0</td>\n",
       "      <td>0.0</td>\n",
       "      <td>0.0</td>\n",
       "      <td>0.0</td>\n",
       "      <td>0.0</td>\n",
       "      <td>0.0</td>\n",
       "      <td>0.0</td>\n",
       "      <td>0.0</td>\n",
       "      <td>0.0</td>\n",
       "      <td>0.0</td>\n",
       "      <td>0.0</td>\n",
       "      <td>0.0</td>\n",
       "      <td>0</td>\n",
       "    </tr>\n",
       "    <tr>\n",
       "      <th>2</th>\n",
       "      <td>Alabama</td>\n",
       "      <td>AL</td>\n",
       "      <td>01</td>\n",
       "      <td>Barbour</td>\n",
       "      <td>01005</td>\n",
       "      <td>25160</td>\n",
       "      <td>4.847697e+09</td>\n",
       "      <td>99.269997</td>\n",
       "      <td>Eufaula, AL-GA</td>\n",
       "      <td>1005</td>\n",
       "      <td>POLYGON ((-85.25954 32.13837, -85.25882 32.138...</td>\n",
       "      <td>0.0</td>\n",
       "      <td>0.0</td>\n",
       "      <td>0</td>\n",
       "      <td>0.0</td>\n",
       "      <td>0.0</td>\n",
       "      <td>0.0</td>\n",
       "      <td>0.0</td>\n",
       "      <td>0.0</td>\n",
       "      <td>0.0</td>\n",
       "      <td>0.0</td>\n",
       "      <td>0.0</td>\n",
       "      <td>0.0</td>\n",
       "      <td>0.0</td>\n",
       "      <td>0.0</td>\n",
       "      <td>0.0</td>\n",
       "      <td>0.0</td>\n",
       "      <td>0.0</td>\n",
       "      <td>0.0</td>\n",
       "      <td>0.0</td>\n",
       "      <td>0.0</td>\n",
       "      <td>0.0</td>\n",
       "      <td>0.0</td>\n",
       "      <td>0.0</td>\n",
       "      <td>0.0</td>\n",
       "      <td>0.0</td>\n",
       "      <td>0.0</td>\n",
       "      <td>0.0</td>\n",
       "      <td>0.0</td>\n",
       "      <td>0.0</td>\n",
       "      <td>0.0</td>\n",
       "      <td>0.0</td>\n",
       "      <td>0.0</td>\n",
       "      <td>0.0</td>\n",
       "      <td>0.0</td>\n",
       "      <td>0.0</td>\n",
       "      <td>0.0</td>\n",
       "      <td>0.0</td>\n",
       "      <td>0.0</td>\n",
       "      <td>0.0</td>\n",
       "      <td>0.0</td>\n",
       "      <td>0</td>\n",
       "    </tr>\n",
       "    <tr>\n",
       "      <th>3</th>\n",
       "      <td>Alabama</td>\n",
       "      <td>AL</td>\n",
       "      <td>01</td>\n",
       "      <td>Bibb</td>\n",
       "      <td>01007</td>\n",
       "      <td>22239</td>\n",
       "      <td>3.146947e+09</td>\n",
       "      <td>80.779999</td>\n",
       "      <td>Birmingham-Hoover, AL</td>\n",
       "      <td>1007</td>\n",
       "      <td>POLYGON ((-87.02581 33.21717, -87.02573 33.209...</td>\n",
       "      <td>0.0</td>\n",
       "      <td>0.0</td>\n",
       "      <td>0</td>\n",
       "      <td>0.0</td>\n",
       "      <td>0.0</td>\n",
       "      <td>0.0</td>\n",
       "      <td>0.0</td>\n",
       "      <td>0.0</td>\n",
       "      <td>0.0</td>\n",
       "      <td>0.0</td>\n",
       "      <td>0.0</td>\n",
       "      <td>0.0</td>\n",
       "      <td>0.0</td>\n",
       "      <td>0.0</td>\n",
       "      <td>0.0</td>\n",
       "      <td>0.0</td>\n",
       "      <td>0.0</td>\n",
       "      <td>0.0</td>\n",
       "      <td>0.0</td>\n",
       "      <td>0.0</td>\n",
       "      <td>0.0</td>\n",
       "      <td>0.0</td>\n",
       "      <td>0.0</td>\n",
       "      <td>0.0</td>\n",
       "      <td>0.0</td>\n",
       "      <td>0.0</td>\n",
       "      <td>0.0</td>\n",
       "      <td>0.0</td>\n",
       "      <td>0.0</td>\n",
       "      <td>0.0</td>\n",
       "      <td>0.0</td>\n",
       "      <td>0.0</td>\n",
       "      <td>0.0</td>\n",
       "      <td>0.0</td>\n",
       "      <td>0.0</td>\n",
       "      <td>0.0</td>\n",
       "      <td>0.0</td>\n",
       "      <td>0.0</td>\n",
       "      <td>0.0</td>\n",
       "      <td>0.0</td>\n",
       "      <td>0</td>\n",
       "    </tr>\n",
       "    <tr>\n",
       "      <th>4</th>\n",
       "      <td>Alabama</td>\n",
       "      <td>AL</td>\n",
       "      <td>01</td>\n",
       "      <td>Blount</td>\n",
       "      <td>01009</td>\n",
       "      <td>58992</td>\n",
       "      <td>7.815620e+09</td>\n",
       "      <td>51.369999</td>\n",
       "      <td>Birmingham-Hoover, AL</td>\n",
       "      <td>1009</td>\n",
       "      <td>POLYGON ((-86.44414 34.25913, -86.44434 34.256...</td>\n",
       "      <td>0.0</td>\n",
       "      <td>0.0</td>\n",
       "      <td>0</td>\n",
       "      <td>0.0</td>\n",
       "      <td>0.0</td>\n",
       "      <td>0.0</td>\n",
       "      <td>0.0</td>\n",
       "      <td>0.0</td>\n",
       "      <td>0.0</td>\n",
       "      <td>0.0</td>\n",
       "      <td>0.0</td>\n",
       "      <td>0.0</td>\n",
       "      <td>0.0</td>\n",
       "      <td>0.0</td>\n",
       "      <td>0.0</td>\n",
       "      <td>0.0</td>\n",
       "      <td>0.0</td>\n",
       "      <td>0.0</td>\n",
       "      <td>0.0</td>\n",
       "      <td>0.0</td>\n",
       "      <td>0.0</td>\n",
       "      <td>0.0</td>\n",
       "      <td>0.0</td>\n",
       "      <td>0.0</td>\n",
       "      <td>0.0</td>\n",
       "      <td>0.0</td>\n",
       "      <td>0.0</td>\n",
       "      <td>0.0</td>\n",
       "      <td>0.0</td>\n",
       "      <td>0.0</td>\n",
       "      <td>0.0</td>\n",
       "      <td>0.0</td>\n",
       "      <td>0.0</td>\n",
       "      <td>0.0</td>\n",
       "      <td>0.0</td>\n",
       "      <td>0.0</td>\n",
       "      <td>0.0</td>\n",
       "      <td>0.0</td>\n",
       "      <td>0.0</td>\n",
       "      <td>0.0</td>\n",
       "      <td>0</td>\n",
       "    </tr>\n",
       "  </tbody>\n",
       "</table>\n",
       "</div>"
      ],
      "text/plain": [
       "     STATE STATEABBRV STATEFIPS   COUNTY STCOFIPS  POPULATION    BUILDVALUE  SOVI_SCORE                       NAME  fips                                           geometry  level_0  index Hazard2  HMAprojAmot  AdminCostAmt  NumfinalProp  CropDmg  CropDmg(ADJ 2021)  CropDmgPerCapita(ADJ 2021)  PropertyDmg  PropertyDmg(ADJ 2021)  PropertyDmgPerCapita(ADJ 2021)  Injuries  InjuriesPerCapita  Fatalities  FatalitiesPerCapita  Duration_Days  PAprojectAmt  PDMprojAmot  PDMcount  PDMNumfinalProp  HMAcount  HAtotal  HAcount  PAcount  SBAcount  SBAProjcount  SBAapproved  HazardCount    x    y  totalAssist  totalAssist3  totalDamage  logDamage  logHMAAmot  logPAAmot  logPDMAmot  logHAAmot  logSBAAmot HazardCate\n",
       "0  Alabama         AL        01  Autauga    01001       58764  9.123274e+09   51.299999             Montgomery, AL  1001  POLYGON ((-86.41284 32.63589, -86.41279 32.625...      0.0    0.0       0          0.0           0.0           0.0      0.0                0.0                         0.0          0.0                    0.0                             0.0       0.0                0.0         0.0                  0.0            0.0           0.0          0.0       0.0              0.0       0.0      0.0      0.0      0.0       0.0           0.0          0.0          0.0  0.0  0.0          0.0           0.0          0.0        0.0         0.0        0.0         0.0        0.0         0.0          0\n",
       "1  Alabama         AL        01  Baldwin    01003      231365  4.596848e+10   31.030001  Daphne-Fairhope-Foley, AL  1003  MULTIPOLYGON (((-87.92666 30.66002, -87.92688 ...      0.0    0.0       0          0.0           0.0           0.0      0.0                0.0                         0.0          0.0                    0.0                             0.0       0.0                0.0         0.0                  0.0            0.0           0.0          0.0       0.0              0.0       0.0      0.0      0.0      0.0       0.0           0.0          0.0          0.0  0.0  0.0          0.0           0.0          0.0        0.0         0.0        0.0         0.0        0.0         0.0          0\n",
       "2  Alabama         AL        01  Barbour    01005       25160  4.847697e+09   99.269997             Eufaula, AL-GA  1005  POLYGON ((-85.25954 32.13837, -85.25882 32.138...      0.0    0.0       0          0.0           0.0           0.0      0.0                0.0                         0.0          0.0                    0.0                             0.0       0.0                0.0         0.0                  0.0            0.0           0.0          0.0       0.0              0.0       0.0      0.0      0.0      0.0       0.0           0.0          0.0          0.0  0.0  0.0          0.0           0.0          0.0        0.0         0.0        0.0         0.0        0.0         0.0          0\n",
       "3  Alabama         AL        01     Bibb    01007       22239  3.146947e+09   80.779999      Birmingham-Hoover, AL  1007  POLYGON ((-87.02581 33.21717, -87.02573 33.209...      0.0    0.0       0          0.0           0.0           0.0      0.0                0.0                         0.0          0.0                    0.0                             0.0       0.0                0.0         0.0                  0.0            0.0           0.0          0.0       0.0              0.0       0.0      0.0      0.0      0.0       0.0           0.0          0.0          0.0  0.0  0.0          0.0           0.0          0.0        0.0         0.0        0.0         0.0        0.0         0.0          0\n",
       "4  Alabama         AL        01   Blount    01009       58992  7.815620e+09   51.369999      Birmingham-Hoover, AL  1009  POLYGON ((-86.44414 34.25913, -86.44434 34.256...      0.0    0.0       0          0.0           0.0           0.0      0.0                0.0                         0.0          0.0                    0.0                             0.0       0.0                0.0         0.0                  0.0            0.0           0.0          0.0       0.0              0.0       0.0      0.0      0.0      0.0       0.0           0.0          0.0          0.0  0.0  0.0          0.0           0.0          0.0        0.0         0.0        0.0         0.0        0.0         0.0          0"
      ]
     },
     "execution_count": 38,
     "metadata": {},
     "output_type": "execute_result"
    }
   ],
   "source": [
    "df_joini.head()"
   ]
  },
  {
   "cell_type": "code",
   "execution_count": 61,
   "metadata": {},
   "outputs": [
    {
     "name": "stdout",
     "output_type": "stream",
     "text": [
      "('Not significant', 'High-High', 'Low-Low', 'Low-High', 'High-Low', 'Undefined', 'Isolated')\n",
      "[0 1 2 3 4 6]\n",
      "('#eeeeee', '#FF0000', '#0000FF', '#a7adf9', '#f4ada8', '#464646', '#999999')\n"
     ]
    }
   ],
   "source": [
    "\n",
    "print( nm1_2.lisa_labels() )\n",
    "print( np.unique( nm1_2.lisa_clusters() ) )\n",
    "print( nm2_2.lisa_colors() )"
   ]
  },
  {
   "cell_type": "code",
   "execution_count": 62,
   "metadata": {},
   "outputs": [
    {
     "name": "stderr",
     "output_type": "stream",
     "text": [
      "/Users/yuhan/opt/anaconda3/envs/hazard_env/lib/python3.11/site-packages/libpysal/weights/weights.py:172: UserWarning: The weights matrix is not fully connected: \n",
      " There are 5 disconnected components.\n",
      " There are 4 islands with ids: 1186, 1192, 1836, 2946.\n",
      "  warnings.warn(message)\n"
     ]
    },
    {
     "name": "stdout",
     "output_type": "stream",
     "text": [
      "('WARNING: ', 1186, ' is an island (no neighbors)')\n",
      "('WARNING: ', 1192, ' is an island (no neighbors)')\n",
      "('WARNING: ', 1836, ' is an island (no neighbors)')\n",
      "('WARNING: ', 2946, ' is an island (no neighbors)')\n",
      "Hazard  Climatological  is \n"
     ]
    },
    {
     "name": "stderr",
     "output_type": "stream",
     "text": [
      "/Users/yuhan/opt/anaconda3/envs/hazard_env/lib/python3.11/site-packages/libpysal/weights/weights.py:172: UserWarning: The weights matrix is not fully connected: \n",
      " There are 5 disconnected components.\n",
      " There are 4 islands with ids: 1186, 1192, 1836, 2946.\n",
      "  warnings.warn(message)\n"
     ]
    },
    {
     "name": "stdout",
     "output_type": "stream",
     "text": [
      "('WARNING: ', 1186, ' is an island (no neighbors)')\n",
      "('WARNING: ', 1192, ' is an island (no neighbors)')\n",
      "('WARNING: ', 1836, ' is an island (no neighbors)')\n",
      "('WARNING: ', 2946, ' is an island (no neighbors)')\n",
      "Hazard  Hydrological  is \n"
     ]
    },
    {
     "name": "stderr",
     "output_type": "stream",
     "text": [
      "/Users/yuhan/opt/anaconda3/envs/hazard_env/lib/python3.11/site-packages/libpysal/weights/weights.py:172: UserWarning: The weights matrix is not fully connected: \n",
      " There are 5 disconnected components.\n",
      " There are 4 islands with ids: 1186, 1192, 1836, 2946.\n",
      "  warnings.warn(message)\n"
     ]
    },
    {
     "name": "stdout",
     "output_type": "stream",
     "text": [
      "('WARNING: ', 1186, ' is an island (no neighbors)')\n",
      "('WARNING: ', 1192, ' is an island (no neighbors)')\n",
      "('WARNING: ', 1836, ' is an island (no neighbors)')\n",
      "('WARNING: ', 2946, ' is an island (no neighbors)')\n",
      "Hazard  Meteorological  is \n"
     ]
    },
    {
     "name": "stderr",
     "output_type": "stream",
     "text": [
      "/Users/yuhan/opt/anaconda3/envs/hazard_env/lib/python3.11/site-packages/libpysal/weights/weights.py:172: UserWarning: The weights matrix is not fully connected: \n",
      " There are 5 disconnected components.\n",
      " There are 4 islands with ids: 1186, 1192, 1836, 2946.\n",
      "  warnings.warn(message)\n"
     ]
    },
    {
     "name": "stdout",
     "output_type": "stream",
     "text": [
      "('WARNING: ', 1186, ' is an island (no neighbors)')\n",
      "('WARNING: ', 1192, ' is an island (no neighbors)')\n",
      "('WARNING: ', 1836, ' is an island (no neighbors)')\n",
      "('WARNING: ', 2946, ' is an island (no neighbors)')\n",
      "Hazard  Geophysical  is \n"
     ]
    }
   ],
   "source": [
    "\n",
    "data_list1 = []\n",
    "data_list2 = []\n",
    "hazards_all = data_county_hazard.HazardCate.unique()\n",
    "for hazardi in hazards_all:\n",
    "    dfjoin_hazardi = data_county_hazard.loc[ data_county_hazard['HazardCate'] == hazardi ].reset_index()\n",
    "    #print( \"Hazard i shape is \", dfjoin_hazardi.shape )\n",
    "    df_joini = pd.merge( social_df, dfjoin_hazardi, \n",
    "                    left_on=['fips'], right_on=['fips'], how='left' )\n",
    "    df_joini = df_joini.fillna(0)\n",
    "    #print( \"joined Hazard i df shape is \", df_joini.shape )\n",
    "    x1         = df_joini['logDamage']\n",
    "    x2         = df_joini['SOVI_SCORE']\n",
    "    ylagged1   = df_joini['logHMAAmot']\n",
    "    ylagged2   = df_joini['logPAAmot']\n",
    "    ylagged3   = df_joini['logPDMAmot']\n",
    "    ylagged4   = df_joini['logHAAmot']\n",
    "    ylagged5   = df_joini['logSBAAmot']\n",
    "\n",
    "    w = Queen.from_dataframe( df_joini )\n",
    "    w.transform = 'r'\n",
    "\n",
    "    moran_bv11 = Moran_BV(x1, ylagged1, w)\n",
    "    moran_bv12 = Moran_BV(x1, ylagged2, w)\n",
    "    moran_bv13 = Moran_BV(x1, ylagged3, w)\n",
    "    moran_bv14 = Moran_BV(x1, ylagged4, w)\n",
    "    moran_bv15 = Moran_BV(x1, ylagged5, w)\n",
    "    moran_bv21 = Moran_BV(x2, ylagged1, w)\n",
    "    moran_bv22 = Moran_BV(x2, ylagged2, w)\n",
    "    moran_bv23 = Moran_BV(x2, ylagged3, w)\n",
    "    moran_bv24 = Moran_BV(x2, ylagged3, w)\n",
    "    moran_bv25 = Moran_BV(x2, ylagged5, w)\n",
    "\n",
    "    print(\"Hazard \", hazardi , \" is \",  )\n",
    "    datai1 = {  \"Hazard\": hazardi,\n",
    "                \"HMAprojAmot\": moran_bv11.I ,\n",
    "                \"PAprojectAmt\": moran_bv12.I ,\n",
    "                \"PDMprojAmot\": moran_bv13.I ,\n",
    "                \"HAtotal\": moran_bv14.I ,\n",
    "                \"SBAapproved\": moran_bv15.I \n",
    "    }\n",
    "    datai2 = {  \"Hazard\": hazardi,\n",
    "                \"HMAprojAmot\": moran_bv21.I ,\n",
    "                \"PAprojectAmt\": moran_bv22.I ,\n",
    "                \"PDMprojAmot\": moran_bv23.I ,\n",
    "                \"HAtotal\": moran_bv24.I ,\n",
    "                \"SBAapproved\": moran_bv25.I\n",
    "    }\n",
    "    data_list1.append( datai1 )\n",
    "    data_list2.append( datai2 )\n",
    "Morandf1 = pd.DataFrame( data_list1 )\n",
    "Morandf1 = Morandf1.fillna(0)\n",
    "Morandf2 = pd.DataFrame( data_list2 )\n",
    "Morandf2 = Morandf2.fillna(0)\n",
    "\n",
    "Morandf1.to_csv(r\"/Users/yuhan/Desktop/paper——revision/Dataprocess/jupitor/Moran_Assist_Hazard1.csv\", index=False)\n",
    "Morandf2.to_csv(r\"/Users/yuhan/Desktop/paper——revision/Dataprocess/jupitor/Moran_Assist_Hazard2.csv\", index=False)"
   ]
  },
  {
   "cell_type": "code",
   "execution_count": 151,
   "metadata": {},
   "outputs": [
    {
     "name": "stdout",
     "output_type": "stream",
     "text": [
      "0.2672315078892524\n",
      "Index(['Hazard', 'HMAprojAmot', 'PAprojectAmt', 'PDMprojAmot', 'HAtotal', 'SBAapproved'], dtype='object')\n",
      "['Climatological', 'Hydrological', 'Meteorological', 'Geophysical']\n",
      "4\n"
     ]
    }
   ],
   "source": [
    "print( moran_bv15.I )\n",
    "print( Morandf1.columns )\n",
    "print( Morandf1.Hazard.to_list() )\n",
    "print( len( Morandf1.Hazard.to_list() ) )\n",
    "\n"
   ]
  },
  {
   "cell_type": "code",
   "execution_count": 4,
   "metadata": {},
   "outputs": [],
   "source": [
    "\n",
    "\n",
    "Morandf1 = pd.read_csv(r\"/Users/yuhan/Desktop/paper——revision/Dataprocess/jupitor/Moran_Assist_Hazard1.csv\" )\n",
    "Morandf2 = pd.read_csv(r\"/Users/yuhan/Desktop/paper——revision/Dataprocess/jupitor/Moran_Assist_Hazard2.csv\" )"
   ]
  },
  {
   "cell_type": "code",
   "execution_count": 5,
   "metadata": {},
   "outputs": [
    {
     "data": {
      "text/html": [
       "<div>\n",
       "<style scoped>\n",
       "    .dataframe tbody tr th:only-of-type {\n",
       "        vertical-align: middle;\n",
       "    }\n",
       "\n",
       "    .dataframe tbody tr th {\n",
       "        vertical-align: top;\n",
       "    }\n",
       "\n",
       "    .dataframe thead th {\n",
       "        text-align: right;\n",
       "    }\n",
       "</style>\n",
       "<table border=\"1\" class=\"dataframe\">\n",
       "  <thead>\n",
       "    <tr style=\"text-align: right;\">\n",
       "      <th></th>\n",
       "      <th>Hazard</th>\n",
       "      <th>HMAprojAmot</th>\n",
       "      <th>PAprojectAmt</th>\n",
       "      <th>PDMprojAmot</th>\n",
       "      <th>HAtotal</th>\n",
       "      <th>SBAapproved</th>\n",
       "    </tr>\n",
       "  </thead>\n",
       "  <tbody>\n",
       "    <tr>\n",
       "      <th>0</th>\n",
       "      <td>Climatological</td>\n",
       "      <td>0.217448</td>\n",
       "      <td>0.129601</td>\n",
       "      <td>0.139254</td>\n",
       "      <td>0.173512</td>\n",
       "      <td>0.167767</td>\n",
       "    </tr>\n",
       "    <tr>\n",
       "      <th>1</th>\n",
       "      <td>Hydrological</td>\n",
       "      <td>0.290834</td>\n",
       "      <td>0.122157</td>\n",
       "      <td>0.166951</td>\n",
       "      <td>0.318761</td>\n",
       "      <td>0.314292</td>\n",
       "    </tr>\n",
       "    <tr>\n",
       "      <th>2</th>\n",
       "      <td>Meteorological</td>\n",
       "      <td>0.337785</td>\n",
       "      <td>0.141795</td>\n",
       "      <td>0.100620</td>\n",
       "      <td>0.352012</td>\n",
       "      <td>0.346505</td>\n",
       "    </tr>\n",
       "    <tr>\n",
       "      <th>3</th>\n",
       "      <td>Geophysical</td>\n",
       "      <td>0.374037</td>\n",
       "      <td>0.045194</td>\n",
       "      <td>0.328858</td>\n",
       "      <td>0.247357</td>\n",
       "      <td>0.272223</td>\n",
       "    </tr>\n",
       "  </tbody>\n",
       "</table>\n",
       "</div>"
      ],
      "text/plain": [
       "           Hazard  HMAprojAmot  PAprojectAmt  PDMprojAmot   HAtotal  \\\n",
       "0  Climatological     0.217448      0.129601     0.139254  0.173512   \n",
       "1    Hydrological     0.290834      0.122157     0.166951  0.318761   \n",
       "2  Meteorological     0.337785      0.141795     0.100620  0.352012   \n",
       "3     Geophysical     0.374037      0.045194     0.328858  0.247357   \n",
       "\n",
       "   SBAapproved  \n",
       "0     0.167767  \n",
       "1     0.314292  \n",
       "2     0.346505  \n",
       "3     0.272223  "
      ]
     },
     "execution_count": 5,
     "metadata": {},
     "output_type": "execute_result"
    }
   ],
   "source": [
    "Morandf1"
   ]
  },
  {
   "cell_type": "code",
   "execution_count": 6,
   "metadata": {},
   "outputs": [
    {
     "data": {
      "text/html": [
       "<div>\n",
       "<style scoped>\n",
       "    .dataframe tbody tr th:only-of-type {\n",
       "        vertical-align: middle;\n",
       "    }\n",
       "\n",
       "    .dataframe tbody tr th {\n",
       "        vertical-align: top;\n",
       "    }\n",
       "\n",
       "    .dataframe thead th {\n",
       "        text-align: right;\n",
       "    }\n",
       "</style>\n",
       "<table border=\"1\" class=\"dataframe\">\n",
       "  <thead>\n",
       "    <tr style=\"text-align: right;\">\n",
       "      <th></th>\n",
       "      <th>Hazard</th>\n",
       "      <th>HMAprojAmot</th>\n",
       "      <th>PAprojectAmt</th>\n",
       "      <th>PDMprojAmot</th>\n",
       "      <th>HAtotal</th>\n",
       "      <th>SBAapproved</th>\n",
       "    </tr>\n",
       "  </thead>\n",
       "  <tbody>\n",
       "    <tr>\n",
       "      <th>0</th>\n",
       "      <td>Climatological</td>\n",
       "      <td>0.026430</td>\n",
       "      <td>0.064946</td>\n",
       "      <td>-0.053797</td>\n",
       "      <td>-0.053797</td>\n",
       "      <td>0.047274</td>\n",
       "    </tr>\n",
       "    <tr>\n",
       "      <th>1</th>\n",
       "      <td>Hydrological</td>\n",
       "      <td>0.012402</td>\n",
       "      <td>0.045979</td>\n",
       "      <td>-0.045609</td>\n",
       "      <td>-0.045609</td>\n",
       "      <td>0.024498</td>\n",
       "    </tr>\n",
       "    <tr>\n",
       "      <th>2</th>\n",
       "      <td>Meteorological</td>\n",
       "      <td>0.094370</td>\n",
       "      <td>0.089349</td>\n",
       "      <td>-0.062316</td>\n",
       "      <td>-0.062316</td>\n",
       "      <td>0.085563</td>\n",
       "    </tr>\n",
       "    <tr>\n",
       "      <th>3</th>\n",
       "      <td>Geophysical</td>\n",
       "      <td>-0.000971</td>\n",
       "      <td>0.002156</td>\n",
       "      <td>-0.019520</td>\n",
       "      <td>-0.019520</td>\n",
       "      <td>0.005082</td>\n",
       "    </tr>\n",
       "  </tbody>\n",
       "</table>\n",
       "</div>"
      ],
      "text/plain": [
       "           Hazard  HMAprojAmot  PAprojectAmt  PDMprojAmot   HAtotal  \\\n",
       "0  Climatological     0.026430      0.064946    -0.053797 -0.053797   \n",
       "1    Hydrological     0.012402      0.045979    -0.045609 -0.045609   \n",
       "2  Meteorological     0.094370      0.089349    -0.062316 -0.062316   \n",
       "3     Geophysical    -0.000971      0.002156    -0.019520 -0.019520   \n",
       "\n",
       "   SBAapproved  \n",
       "0     0.047274  \n",
       "1     0.024498  \n",
       "2     0.085563  \n",
       "3     0.005082  "
      ]
     },
     "execution_count": 6,
     "metadata": {},
     "output_type": "execute_result"
    }
   ],
   "source": [
    "Morandf2"
   ]
  },
  {
   "cell_type": "code",
   "execution_count": 8,
   "metadata": {},
   "outputs": [
    {
     "data": {
      "image/png": "[encoded data removed]",
      "text/plain": [
       "<Figure size 500x500 with 1 Axes>"
      ]
     },
     "metadata": {},
     "output_type": "display_data"
    }
   ],
   "source": [
    "\n",
    "\n",
    "arr =  Morandf1[ ['HMAprojAmot', 'PAprojectAmt', 'PDMprojAmot', 'HAtotal', 'SBAapproved'] ].to_numpy()\n",
    "labels = ['HMA', \n",
    "          'PA', 'PDM', \n",
    "          'HA', 'SBA']\n",
    "rowlabels = ['Hydrological\\nHazard', 'Meteorological\\nHazard', \n",
    "             'Climatological\\nHazard', 'Geophysical\\nHazard']\n",
    "fig, ax = plt.subplots( figsize=(5, 5) )\n",
    "im = ax.imshow( arr )\n",
    "\n",
    "# Show all ticks and label them with the respective list entries\n",
    "ax.set_xticks(np.arange(len(labels)), labels= labels)\n",
    "ax.set_yticks(np.arange(len(rowlabels)), labels= rowlabels)\n",
    "\n",
    "# Rotate the tick labels and set their alignment.\n",
    "plt.setp(ax.get_xticklabels(), rotation=45, ha=\"right\",\n",
    "         rotation_mode=\"anchor\")\n",
    "\n",
    "# Loop over data dimensions and create text annotations.\n",
    "for i in range(len(rowlabels)):\n",
    "    for j in range(len(labels)):\n",
    "        text = ax.text(j, i, '%.2f' %arr[i, j],\n",
    "                       ha=\"center\", va=\"center\", color=\"w\")\n",
    "\n",
    "#ax.set_title(\"Harvest of local farmers (in tons/year)\")\n",
    "fig.tight_layout()\n",
    "plt.savefig('DamagMoran.png', format = 'png', dpi=1200)\n",
    "\n",
    "\n",
    "\n"
   ]
  },
  {
   "cell_type": "code",
   "execution_count": 9,
   "metadata": {},
   "outputs": [
    {
     "data": {
      "image/png": "[encoded data removed]",
      "text/plain": [
       "<Figure size 500x500 with 1 Axes>"
      ]
     },
     "metadata": {},
     "output_type": "display_data"
    }
   ],
   "source": [
    "arr2 =  Morandf1[ ['HMAprojAmot', 'PAprojectAmt', 'PDMprojAmot', 'HAtotal', 'SBAapproved'] ].to_numpy()\n",
    "labels2 = ['HMA', 'PA', 'PDM', 'HA', 'SBA']\n",
    "rowlabels2 = ['Hydrological', 'Meteorological', 'Climatological', 'Geophysical']\n",
    "fig, ax = plt.subplots( figsize=(5, 5) )\n",
    "im = ax.imshow( arr2 )\n",
    "\n",
    "# Show all ticks and label them with the respective list entries\n",
    "ax.set_xticks(np.arange(len( labels2 )), labels= labels)\n",
    "ax.set_yticks(np.arange(len( rowlabels2 )), labels= rowlabels)\n",
    "\n",
    "# Rotate the tick labels and set their alignment.\n",
    "plt.setp(ax.get_xticklabels(), rotation=45, ha=\"right\",\n",
    "         rotation_mode=\"anchor\")\n",
    "\n",
    "# Loop over data dimensions and create text annotations.\n",
    "for i in range(len( rowlabels2 )):\n",
    "    for j in range(len( labels2 )):\n",
    "        text = ax.text(j, i, '%.2f' %arr2[i, j],\n",
    "                       ha=\"center\", va=\"center\", color=\"w\")\n",
    "\n",
    "#ax.set_title(\"Harvest of local farmers (in tons/year)\")\n",
    "fig.tight_layout()\n",
    "plt.savefig('SOVIMoran.png', format = 'png', dpi=1200)\n"
   ]
  }
 ],
 "metadata": {
  "kernelspec": {
   "display_name": "hazard_env",
   "language": "python",
   "name": "python3"
  },
  "language_info": {
   "codemirror_mode": {
    "name": "ipython",
    "version": 3
   },
   "file_extension": ".py",
   "mimetype": "text/x-python",
   "name": "python",
   "nbconvert_exporter": "python",
   "pygments_lexer": "ipython3",
   "version": "3.11.4"
  }
 },
 "nbformat": 4,
 "nbformat_minor": 2
}
